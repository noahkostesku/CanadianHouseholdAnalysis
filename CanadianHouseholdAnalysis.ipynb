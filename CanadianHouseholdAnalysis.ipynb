{
 "cells": [
  {
   "cell_type": "markdown",
   "metadata": {},
   "source": [
    "<h1>Dataset</h1>"
   ]
  },
  {
   "cell_type": "code",
   "execution_count": 1,
   "metadata": {},
   "outputs": [
    {
     "name": "stderr",
     "output_type": "stream",
     "text": [
      "/Library/Frameworks/Python.framework/Versions/3.13/lib/python3.13/site-packages/tqdm/auto.py:21: TqdmWarning: IProgress not found. Please update jupyter and ipywidgets. See https://ipywidgets.readthedocs.io/en/stable/user_install.html\n",
      "  from .autonotebook import tqdm as notebook_tqdm\n",
      "/Library/Frameworks/Python.framework/Versions/3.13/lib/python3.13/site-packages/numba/np/ufunc/dufunc.py:344: NumbaWarning: Compilation requested for previously compiled argument types ((uint32,)). This has no effect and perhaps indicates a bug in the calling code (compiling a ufunc more than once for the same signature\n",
      "  warnings.warn(msg, errors.NumbaWarning)\n",
      "/Library/Frameworks/Python.framework/Versions/3.13/lib/python3.13/site-packages/numba/np/ufunc/dufunc.py:344: NumbaWarning: Compilation requested for previously compiled argument types ((uint32,)). This has no effect and perhaps indicates a bug in the calling code (compiling a ufunc more than once for the same signature\n",
      "  warnings.warn(msg, errors.NumbaWarning)\n",
      "/Library/Frameworks/Python.framework/Versions/3.13/lib/python3.13/site-packages/numba/np/ufunc/dufunc.py:344: NumbaWarning: Compilation requested for previously compiled argument types ((uint32,)). This has no effect and perhaps indicates a bug in the calling code (compiling a ufunc more than once for the same signature\n",
      "  warnings.warn(msg, errors.NumbaWarning)\n"
     ]
    }
   ],
   "source": [
    "import os\n",
    "import numpy as np\n",
    "import pandas as pd\n",
    "import polars as pl\n",
    "import re\n",
    "\n",
    "# Dimensionality Reduction\n",
    "from scipy.sparse import csr_matrix\n",
    "import sklearn.feature_extraction.text as sktext\n",
    "from sklearn.decomposition import PCA, SparsePCA, TruncatedSVD\n",
    "from sklearn.manifold import TSNE\n",
    "import umap\n",
    "import umap.plot\n",
    "\n",
    "# Clustering\n",
    "from sklearn.cluster import AgglomerativeClustering, KMeans, SpectralClustering\n",
    "from sklearn import datasets\n",
    "from sklearn.preprocessing import StandardScaler\n",
    "from sklearn.pipeline import Pipeline\n",
    "from sklearn.metrics import silhouette_samples, silhouette_score\n",
    "from yellowbrick.cluster import KElbowVisualizer, SilhouetteVisualizer\n",
    "from yellowbrick.cluster.elbow import kelbow_visualizer\n",
    "\n",
    "# Plots\n",
    "import matplotlib.pyplot as plt\n",
    "import matplotlib.cm as cm\n",
    "from mpl_toolkits.mplot3d import Axes3D\n",
    "import seaborn as sns\n",
    "\n",
    "# Calculations\n",
    "from scipy.stats import zscore"
   ]
  },
  {
   "cell_type": "markdown",
   "metadata": {},
   "source": [
    "<h3>Load Data</h3>"
   ]
  },
  {
   "cell_type": "code",
   "execution_count": 2,
   "metadata": {},
   "outputs": [],
   "source": [
    "demo_stats_df = pl.read_csv(\"Coursework Data/DemoStats.csv\", null_values=None)\n",
    "household_spend_df = pl.read_csv(\"Coursework Data/HouseholdSpend.csv\", null_values=None)"
   ]
  },
  {
   "cell_type": "markdown",
   "metadata": {},
   "source": [
    "<h3>Merging Data</h3>"
   ]
  },
  {
   "cell_type": "code",
   "execution_count": 36,
   "metadata": {},
   "outputs": [
    {
     "data": {
      "text/html": [
       "<div><style>\n",
       ".dataframe > thead > tr,\n",
       ".dataframe > tbody > tr {\n",
       "  text-align: right;\n",
       "  white-space: pre-wrap;\n",
       "}\n",
       "</style>\n",
       "<small>shape: (9, 980)</small><table border=\"1\" class=\"dataframe\"><thead><tr><th>statistic</th><th>ECYASQKM</th><th>ECYALSQKM</th><th>ECYBASPOP</th><th>ECYBASHHD</th><th>ECYBASHPOP</th><th>ECYBAS12P</th><th>ECYBAS15P</th><th>ECYBAS18P</th><th>ECYBAS19P</th><th>ECYBAS12HP</th><th>ECYBAS15HP</th><th>ECYBAS18HP</th><th>ECYBAS19HP</th><th>ECYBASTNGH</th><th>ECYBASADUH</th><th>ECYBASCF</th><th>ECYBASCFH</th><th>ECYBASKID</th><th>ECYBASLF</th><th>ECYPTAPOP</th><th>ECYPTA_0_4</th><th>ECYPTA_5_9</th><th>ECYPTA1014</th><th>ECYPTA1519</th><th>ECYPTA2024</th><th>ECYPTA2529</th><th>ECYPTA3034</th><th>ECYPTA3539</th><th>ECYPTA4044</th><th>ECYPTA4549</th><th>ECYPTA5054</th><th>ECYPTA5559</th><th>ECYPTA6064</th><th>ECYPTA6569</th><th>ECYPTA7074</th><th>ECYPTA7579</th><th>&hellip;</th><th>HSTR002</th><th>HSTR003</th><th>HSTR004</th><th>HSTR005</th><th>HSTR006</th><th>HSTR007</th><th>HSTR008</th><th>HSTR009</th><th>HSTR058</th><th>HSTR010</th><th>HSTR011</th><th>HSTR012</th><th>HSTR014M</th><th>HSTR015</th><th>HSTR020</th><th>HSTR030</th><th>HSTR031</th><th>HSTR032</th><th>HSTR033</th><th>HSTR034</th><th>HSTR035</th><th>HSTR036</th><th>HSTR037</th><th>HSTR038</th><th>HSTR039</th><th>HSTR040</th><th>HSTR041</th><th>HSTR050</th><th>HSTR051</th><th>HSTR052</th><th>HSTR053</th><th>HSTR054</th><th>HSTR055</th><th>HSTR056</th><th>HSTR056A</th><th>HSTR056B</th><th>HSTR057</th></tr><tr><td>str</td><td>f64</td><td>f64</td><td>f64</td><td>f64</td><td>f64</td><td>f64</td><td>f64</td><td>f64</td><td>f64</td><td>f64</td><td>f64</td><td>f64</td><td>f64</td><td>f64</td><td>f64</td><td>f64</td><td>f64</td><td>f64</td><td>f64</td><td>f64</td><td>f64</td><td>f64</td><td>f64</td><td>f64</td><td>f64</td><td>f64</td><td>f64</td><td>f64</td><td>f64</td><td>f64</td><td>f64</td><td>f64</td><td>f64</td><td>f64</td><td>f64</td><td>f64</td><td>&hellip;</td><td>f64</td><td>f64</td><td>f64</td><td>f64</td><td>f64</td><td>f64</td><td>f64</td><td>f64</td><td>f64</td><td>f64</td><td>f64</td><td>f64</td><td>f64</td><td>f64</td><td>f64</td><td>f64</td><td>f64</td><td>f64</td><td>f64</td><td>f64</td><td>f64</td><td>f64</td><td>f64</td><td>f64</td><td>f64</td><td>f64</td><td>f64</td><td>f64</td><td>f64</td><td>f64</td><td>f64</td><td>f64</td><td>f64</td><td>f64</td><td>f64</td><td>f64</td><td>f64</td></tr></thead><tbody><tr><td>&quot;count&quot;</td><td>868970.0</td><td>868970.0</td><td>868970.0</td><td>868970.0</td><td>868970.0</td><td>868970.0</td><td>868970.0</td><td>868970.0</td><td>868970.0</td><td>868970.0</td><td>868970.0</td><td>868970.0</td><td>868970.0</td><td>868970.0</td><td>868970.0</td><td>868970.0</td><td>868970.0</td><td>868970.0</td><td>868970.0</td><td>868970.0</td><td>868970.0</td><td>868970.0</td><td>868970.0</td><td>868970.0</td><td>868970.0</td><td>868970.0</td><td>868970.0</td><td>868970.0</td><td>868970.0</td><td>868970.0</td><td>868970.0</td><td>868970.0</td><td>868970.0</td><td>868970.0</td><td>868970.0</td><td>868970.0</td><td>&hellip;</td><td>868970.0</td><td>868970.0</td><td>868970.0</td><td>868970.0</td><td>868970.0</td><td>868970.0</td><td>868970.0</td><td>868970.0</td><td>868970.0</td><td>868970.0</td><td>868970.0</td><td>868970.0</td><td>868970.0</td><td>868970.0</td><td>868970.0</td><td>868970.0</td><td>868970.0</td><td>868970.0</td><td>868970.0</td><td>868970.0</td><td>868970.0</td><td>868970.0</td><td>868970.0</td><td>868970.0</td><td>868970.0</td><td>868970.0</td><td>868970.0</td><td>868970.0</td><td>868970.0</td><td>868970.0</td><td>868970.0</td><td>868970.0</td><td>868970.0</td><td>868970.0</td><td>868970.0</td><td>868970.0</td><td>868970.0</td></tr><tr><td>&quot;null_count&quot;</td><td>0.0</td><td>0.0</td><td>0.0</td><td>0.0</td><td>0.0</td><td>0.0</td><td>0.0</td><td>0.0</td><td>0.0</td><td>0.0</td><td>0.0</td><td>0.0</td><td>0.0</td><td>0.0</td><td>0.0</td><td>0.0</td><td>0.0</td><td>0.0</td><td>0.0</td><td>0.0</td><td>0.0</td><td>0.0</td><td>0.0</td><td>0.0</td><td>0.0</td><td>0.0</td><td>0.0</td><td>0.0</td><td>0.0</td><td>0.0</td><td>0.0</td><td>0.0</td><td>0.0</td><td>0.0</td><td>0.0</td><td>0.0</td><td>&hellip;</td><td>0.0</td><td>0.0</td><td>0.0</td><td>0.0</td><td>0.0</td><td>0.0</td><td>0.0</td><td>0.0</td><td>0.0</td><td>0.0</td><td>0.0</td><td>0.0</td><td>0.0</td><td>0.0</td><td>0.0</td><td>0.0</td><td>0.0</td><td>0.0</td><td>0.0</td><td>0.0</td><td>0.0</td><td>0.0</td><td>0.0</td><td>0.0</td><td>0.0</td><td>0.0</td><td>0.0</td><td>0.0</td><td>0.0</td><td>0.0</td><td>0.0</td><td>0.0</td><td>0.0</td><td>0.0</td><td>0.0</td><td>0.0</td><td>0.0</td></tr><tr><td>&quot;mean&quot;</td><td>0.0</td><td>0.0</td><td>46.684199</td><td>18.432629</td><td>45.881762</td><td>41.254934</td><td>39.613594</td><td>37.819792</td><td>37.323999</td><td>40.336732</td><td>38.832472</td><td>37.263988</td><td>36.746572</td><td>3.072744</td><td>24.49923</td><td>12.76093</td><td>12.051364</td><td>12.740845</td><td>24.633679</td><td>46.684199</td><td>2.181318</td><td>2.390635</td><td>2.498651</td><td>2.672259</td><td>3.213171</td><td>3.308621</td><td>3.406466</td><td>3.258362</td><td>3.117668</td><td>2.858167</td><td>2.776588</td><td>2.859335</td><td>3.10898</td><td>2.80384</td><td>2.278714</td><td>1.770631</td><td>&hellip;</td><td>236398.761036</td><td>118477.006209</td><td>114562.677761</td><td>14888.288571</td><td>8607.895903</td><td>91066.493288</td><td>188.957063</td><td>83.539013</td><td>105.41805</td><td>3725.371385</td><td>3469.552047</td><td>2092.59778</td><td>1376.954267</td><td>255.819338</td><td>1504.664209</td><td>116417.090618</td><td>3287.664753</td><td>10103.061471</td><td>12676.188385</td><td>18214.142317</td><td>100.530695</td><td>63415.559732</td><td>2639.560863</td><td>4612.181943</td><td>1368.200459</td><td>379.01064</td><td>989.189819</td><td>34736.610626</td><td>5995.306708</td><td>2258.469958</td><td>915.416319</td><td>23038.220756</td><td>71.1409</td><td>1322.434304</td><td>831.592595</td><td>490.84171</td><td>1135.621681</td></tr><tr><td>&quot;std&quot;</td><td>0.0</td><td>0.0</td><td>174.837877</td><td>69.379951</td><td>171.817976</td><td>152.539099</td><td>145.876662</td><td>139.320601</td><td>137.611402</td><td>149.038058</td><td>143.038376</td><td>137.181937</td><td>135.319262</td><td>12.468123</td><td>87.647782</td><td>50.126862</td><td>47.828225</td><td>49.02113</td><td>89.352097</td><td>174.837877</td><td>9.518254</td><td>10.400337</td><td>10.705186</td><td>10.30089</td><td>10.888878</td><td>10.894537</td><td>11.699239</td><td>11.371185</td><td>11.099312</td><td>10.485757</td><td>10.544898</td><td>11.657788</td><td>13.69638</td><td>12.729886</td><td>10.420684</td><td>8.140557</td><td>&hellip;</td><td>990960.632583</td><td>507452.95803</td><td>494184.487741</td><td>58848.760548</td><td>45895.371562</td><td>398856.15598</td><td>794.022208</td><td>358.55285</td><td>497.256289</td><td>14112.764792</td><td>13213.369738</td><td>8173.498909</td><td>5705.767025</td><td>1422.161917</td><td>5673.303299</td><td>486744.921092</td><td>14400.182837</td><td>39378.141535</td><td>60281.31644</td><td>71889.568827</td><td>615.785308</td><td>284702.777168</td><td>13567.714202</td><td>14917.235034</td><td>5725.037991</td><td>2091.296014</td><td>3882.026395</td><td>101629.434794</td><td>19414.670337</td><td>7613.821326</td><td>5037.673958</td><td>71509.135272</td><td>257.018871</td><td>6638.799848</td><td>5076.885882</td><td>2097.649493</td><td>4203.801021</td></tr><tr><td>&quot;min&quot;</td><td>0.0</td><td>0.0</td><td>0.0</td><td>0.0</td><td>0.0</td><td>0.0</td><td>0.0</td><td>0.0</td><td>0.0</td><td>0.0</td><td>0.0</td><td>0.0</td><td>0.0</td><td>0.0</td><td>0.0</td><td>0.0</td><td>0.0</td><td>0.0</td><td>0.0</td><td>0.0</td><td>0.0</td><td>0.0</td><td>0.0</td><td>0.0</td><td>0.0</td><td>0.0</td><td>0.0</td><td>0.0</td><td>0.0</td><td>0.0</td><td>0.0</td><td>0.0</td><td>0.0</td><td>0.0</td><td>0.0</td><td>0.0</td><td>&hellip;</td><td>0.0</td><td>0.0</td><td>0.0</td><td>0.0</td><td>0.0</td><td>0.0</td><td>0.0</td><td>0.0</td><td>0.0</td><td>0.0</td><td>0.0</td><td>0.0</td><td>0.0</td><td>0.0</td><td>0.0</td><td>0.0</td><td>0.0</td><td>0.0</td><td>0.0</td><td>0.0</td><td>0.0</td><td>0.0</td><td>0.0</td><td>0.0</td><td>0.0</td><td>0.0</td><td>0.0</td><td>0.0</td><td>0.0</td><td>0.0</td><td>0.0</td><td>0.0</td><td>0.0</td><td>0.0</td><td>0.0</td><td>0.0</td><td>0.0</td></tr><tr><td>&quot;25%&quot;</td><td>0.0</td><td>0.0</td><td>8.0</td><td>3.0</td><td>7.0</td><td>7.0</td><td>7.0</td><td>6.0</td><td>6.0</td><td>7.0</td><td>7.0</td><td>6.0</td><td>6.0</td><td>0.0</td><td>4.0</td><td>2.0</td><td>2.0</td><td>2.0</td><td>4.0</td><td>8.0</td><td>0.0</td><td>0.0</td><td>0.0</td><td>1.0</td><td>0.0</td><td>0.0</td><td>0.0</td><td>0.0</td><td>0.0</td><td>0.0</td><td>0.0</td><td>0.0</td><td>0.0</td><td>0.0</td><td>0.0</td><td>0.0</td><td>&hellip;</td><td>31974.915025</td><td>14884.392499</td><td>14404.559008</td><td>1721.930707</td><td>889.08304</td><td>10994.748987</td><td>18.79587</td><td>8.307298</td><td>6.952265</td><td>341.867661</td><td>307.276114</td><td>167.899519</td><td>93.667955</td><td>6.870296</td><td>105.847834</td><td>16361.845444</td><td>313.292801</td><td>1178.97798</td><td>1513.451358</td><td>2469.125994</td><td>7.898357</td><td>8700.00923</td><td>189.507627</td><td>384.138866</td><td>151.543329</td><td>37.742767</td><td>93.143563</td><td>2811.475222</td><td>162.774495</td><td>167.312143</td><td>35.976385</td><td>1768.315493</td><td>6.114269</td><td>85.412388</td><td>36.712766</td><td>23.624462</td><td>88.826063</td></tr><tr><td>&quot;50%&quot;</td><td>0.0</td><td>0.0</td><td>21.0</td><td>8.0</td><td>21.0</td><td>19.0</td><td>19.0</td><td>18.0</td><td>17.0</td><td>19.0</td><td>18.0</td><td>17.0</td><td>17.0</td><td>1.0</td><td>11.0</td><td>6.0</td><td>5.0</td><td>5.0</td><td>11.0</td><td>21.0</td><td>1.0</td><td>1.0</td><td>1.0</td><td>1.0</td><td>1.0</td><td>1.0</td><td>1.0</td><td>1.0</td><td>1.0</td><td>1.0</td><td>1.0</td><td>1.0</td><td>2.0</td><td>1.0</td><td>1.0</td><td>1.0</td><td>&hellip;</td><td>99636.881325</td><td>47255.263545</td><td>45702.223467</td><td>5675.289883</td><td>3012.454702</td><td>35561.278678</td><td>64.954671</td><td>29.399074</td><td>27.016134</td><td>1221.710075</td><td>1114.524975</td><td>634.507481</td><td>383.183443</td><td>48.33781</td><td>455.550063</td><td>50448.828495</td><td>1010.89752</td><td>4106.746145</td><td>4918.767677</td><td>7819.010503</td><td>30.350255</td><td>26710.649778</td><td>726.944444</td><td>1601.499714</td><td>495.907153</td><td>121.108084</td><td>342.930165</td><td>10954.693342</td><td>1156.778626</td><td>701.484161</td><td>161.412101</td><td>7057.834978</td><td>23.787995</td><td>343.285857</td><td>161.941917</td><td>117.546716</td><td>354.380653</td></tr><tr><td>&quot;75%&quot;</td><td>0.0</td><td>0.0</td><td>47.0</td><td>18.0</td><td>46.0</td><td>41.0</td><td>40.0</td><td>38.0</td><td>38.0</td><td>41.0</td><td>39.0</td><td>38.0</td><td>37.0</td><td>3.0</td><td>25.0</td><td>13.0</td><td>12.0</td><td>12.0</td><td>25.0</td><td>47.0</td><td>2.0</td><td>2.0</td><td>2.0</td><td>3.0</td><td>3.0</td><td>3.0</td><td>3.0</td><td>3.0</td><td>3.0</td><td>3.0</td><td>3.0</td><td>3.0</td><td>3.0</td><td>3.0</td><td>2.0</td><td>2.0</td><td>&hellip;</td><td>234841.660337</td><td>116289.221612</td><td>112200.441102</td><td>15018.869906</td><td>8150.993847</td><td>87545.046991</td><td>180.270628</td><td>78.649214</td><td>86.006103</td><td>3560.668285</td><td>3296.700024</td><td>1929.993628</td><td>1207.25064</td><td>209.470357</td><td>1429.641014</td><td>116348.736875</td><td>2834.456579</td><td>10240.10095</td><td>12318.235716</td><td>18680.935475</td><td>86.966083</td><td>61627.089698</td><td>2153.664949</td><td>4785.370267</td><td>1321.914033</td><td>341.421503</td><td>954.217924</td><td>34053.319991</td><td>4960.248059</td><td>2008.694424</td><td>540.584951</td><td>22586.713725</td><td>63.703739</td><td>1023.247916</td><td>544.115663</td><td>420.149131</td><td>1009.684299</td></tr><tr><td>&quot;max&quot;</td><td>0.0</td><td>0.0</td><td>23507.0</td><td>7751.0</td><td>23378.0</td><td>20141.0</td><td>19020.0</td><td>17849.0</td><td>17487.0</td><td>19950.0</td><td>18891.0</td><td>17781.0</td><td>17436.0</td><td>2169.0</td><td>11623.0</td><td>6837.0</td><td>6487.0</td><td>8218.0</td><td>13551.0</td><td>23507.0</td><td>1241.0</td><td>1530.0</td><td>1791.0</td><td>1871.0</td><td>1954.0</td><td>1200.0</td><td>1478.0</td><td>1437.0</td><td>1811.0</td><td>1723.0</td><td>1617.0</td><td>1545.0</td><td>1393.0</td><td>1293.0</td><td>1193.0</td><td>1139.0</td><td>&hellip;</td><td>1.2796e8</td><td>7.0898e7</td><td>6.8704e7</td><td>8.7079e6</td><td>1.0164e7</td><td>5.2694e7</td><td>98537.879231</td><td>43886.395799</td><td>62217.543041</td><td>2.1477e6</td><td>2.1443e6</td><td>1.3459e6</td><td>895523.577009</td><td>272687.971232</td><td>1.1006e6</td><td>5.8696e7</td><td>1.9230e6</td><td>5.4522e6</td><td>9.1193e6</td><td>8.5339e6</td><td>128411.834084</td><td>3.7197e7</td><td>2.9165e6</td><td>1.8141e6</td><td>1.0225e6</td><td>406708.260287</td><td>615838.990473</td><td>1.2478e7</td><td>2.3201e6</td><td>1.0707e6</td><td>653408.354038</td><td>9.9506e6</td><td>29234.466882</td><td>1.4912e6</td><td>1.2078e6</td><td>397905.142758</td><td>733300.179849</td></tr></tbody></table></div>"
      ],
      "text/plain": [
       "shape: (9, 980)\n",
       "┌───────────┬──────────┬───────────┬───────────┬───┬───────────┬───────────┬───────────┬───────────┐\n",
       "│ statistic ┆ ECYASQKM ┆ ECYALSQKM ┆ ECYBASPOP ┆ … ┆ HSTR056   ┆ HSTR056A  ┆ HSTR056B  ┆ HSTR057   │\n",
       "│ ---       ┆ ---      ┆ ---       ┆ ---       ┆   ┆ ---       ┆ ---       ┆ ---       ┆ ---       │\n",
       "│ str       ┆ f64      ┆ f64       ┆ f64       ┆   ┆ f64       ┆ f64       ┆ f64       ┆ f64       │\n",
       "╞═══════════╪══════════╪═══════════╪═══════════╪═══╪═══════════╪═══════════╪═══════════╪═══════════╡\n",
       "│ count     ┆ 868970.0 ┆ 868970.0  ┆ 868970.0  ┆ … ┆ 868970.0  ┆ 868970.0  ┆ 868970.0  ┆ 868970.0  │\n",
       "│ null_coun ┆ 0.0      ┆ 0.0       ┆ 0.0       ┆ … ┆ 0.0       ┆ 0.0       ┆ 0.0       ┆ 0.0       │\n",
       "│ t         ┆          ┆           ┆           ┆   ┆           ┆           ┆           ┆           │\n",
       "│ mean      ┆ 0.0      ┆ 0.0       ┆ 46.684199 ┆ … ┆ 1322.4343 ┆ 831.59259 ┆ 490.84171 ┆ 1135.6216 │\n",
       "│           ┆          ┆           ┆           ┆   ┆ 04        ┆ 5         ┆           ┆ 81        │\n",
       "│ std       ┆ 0.0      ┆ 0.0       ┆ 174.83787 ┆ … ┆ 6638.7998 ┆ 5076.8858 ┆ 2097.6494 ┆ 4203.8010 │\n",
       "│           ┆          ┆           ┆ 7         ┆   ┆ 48        ┆ 82        ┆ 93        ┆ 21        │\n",
       "│ min       ┆ 0.0      ┆ 0.0       ┆ 0.0       ┆ … ┆ 0.0       ┆ 0.0       ┆ 0.0       ┆ 0.0       │\n",
       "│ 25%       ┆ 0.0      ┆ 0.0       ┆ 8.0       ┆ … ┆ 85.412388 ┆ 36.712766 ┆ 23.624462 ┆ 88.826063 │\n",
       "│ 50%       ┆ 0.0      ┆ 0.0       ┆ 21.0      ┆ … ┆ 343.28585 ┆ 161.94191 ┆ 117.54671 ┆ 354.38065 │\n",
       "│           ┆          ┆           ┆           ┆   ┆ 7         ┆ 7         ┆ 6         ┆ 3         │\n",
       "│ 75%       ┆ 0.0      ┆ 0.0       ┆ 47.0      ┆ … ┆ 1023.2479 ┆ 544.11566 ┆ 420.14913 ┆ 1009.6842 │\n",
       "│           ┆          ┆           ┆           ┆   ┆ 16        ┆ 3         ┆ 1         ┆ 99        │\n",
       "│ max       ┆ 0.0      ┆ 0.0       ┆ 23507.0   ┆ … ┆ 1.4912e6  ┆ 1.2078e6  ┆ 397905.14 ┆ 733300.17 │\n",
       "│           ┆          ┆           ┆           ┆   ┆           ┆           ┆ 2758      ┆ 9849      │\n",
       "└───────────┴──────────┴───────────┴───────────┴───┴───────────┴───────────┴───────────┴───────────┘"
      ]
     },
     "execution_count": 36,
     "metadata": {},
     "output_type": "execute_result"
    }
   ],
   "source": [
    "merged_df = demo_stats_df.join(\n",
    "    household_spend_df,\n",
    "    on=[\"CODE\"],\n",
    "    how=\"inner\"\n",
    ")\n",
    "\n",
    "# Drop ID columns\n",
    "merged_df = merged_df.drop([\"GEO\", \"CODE\"])\n",
    "\n",
    "# Describe the data\n",
    "merged_df.describe()"
   ]
  },
  {
   "cell_type": "markdown",
   "metadata": {},
   "source": [
    "<h3>Null Values</h3>"
   ]
  },
  {
   "cell_type": "code",
   "execution_count": 37,
   "metadata": {},
   "outputs": [
    {
     "name": "stdout",
     "output_type": "stream",
     "text": [
      "Total data points: 868970\n",
      "Data Null Count: {'ECYPTAMED': {'null_count': 87459}, 'ECYPMAMED': {'null_count': 96444}, 'ECYPFAMED': {'null_count': 131837}, 'ECYHTAMED': {'null_count': 92709}, 'ECYHMAMED': {'null_count': 101698}, 'ECYHFAMED': {'null_count': 137900}, 'ECYMTNMED': {'null_count': 92709}}\n"
     ]
    }
   ],
   "source": [
    "total_data_points = merged_df.height\n",
    "print(f\"Total data points: {total_data_points}\")\n",
    "# Define a function to convert NA to None\n",
    "def convert_na_to_nulls(df):\n",
    "    return df.with_columns([\n",
    "        pl.col(col).replace(\"NA\", None).alias(col)\n",
    "        if df.schema[col] == pl.Utf8 else pl.col(col)\n",
    "        for col in df.columns\n",
    "    ])\n",
    "\n",
    "# Convert NA to None on both dataframes\n",
    "merged_df = convert_na_to_nulls(merged_df)\n",
    "\n",
    "# Get total nulls for each column\n",
    "def count_na_strings(df):\n",
    "    total_rows = df.height\n",
    "    return {\n",
    "        col: {\n",
    "            \"null_count\": df[col].null_count(),\n",
    "        }\n",
    "        for col in df.columns\n",
    "        if df[col].null_count() > 0\n",
    "    }\n",
    "\n",
    "merged_df_nulls = count_na_strings(merged_df)\n",
    "print(f\"Data Null Count: {merged_df_nulls}\")"
   ]
  },
  {
   "cell_type": "markdown",
   "metadata": {},
   "source": [
    "<p>Here we can see that demo stats has numerous columns with null values. All of these columns represent the median of a certain population.</p>\n",
    "\n",
    "<p>Since the null values represent less than 1% of the data, we can substitute for the median of the column.</p>"
   ]
  },
  {
   "cell_type": "markdown",
   "metadata": {},
   "source": [
    "<h3>Turn Data Into Numbers</h3>"
   ]
  },
  {
   "cell_type": "code",
   "execution_count": 38,
   "metadata": {},
   "outputs": [
    {
     "data": {
      "text/html": [
       "<div><style>\n",
       ".dataframe > thead > tr,\n",
       ".dataframe > tbody > tr {\n",
       "  text-align: right;\n",
       "  white-space: pre-wrap;\n",
       "}\n",
       "</style>\n",
       "<small>shape: (9, 980)</small><table border=\"1\" class=\"dataframe\"><thead><tr><th>statistic</th><th>ECYASQKM</th><th>ECYALSQKM</th><th>ECYBASPOP</th><th>ECYBASHHD</th><th>ECYBASHPOP</th><th>ECYBAS12P</th><th>ECYBAS15P</th><th>ECYBAS18P</th><th>ECYBAS19P</th><th>ECYBAS12HP</th><th>ECYBAS15HP</th><th>ECYBAS18HP</th><th>ECYBAS19HP</th><th>ECYBASTNGH</th><th>ECYBASADUH</th><th>ECYBASCF</th><th>ECYBASCFH</th><th>ECYBASKID</th><th>ECYBASLF</th><th>ECYPTAPOP</th><th>ECYPTA_0_4</th><th>ECYPTA_5_9</th><th>ECYPTA1014</th><th>ECYPTA1519</th><th>ECYPTA2024</th><th>ECYPTA2529</th><th>ECYPTA3034</th><th>ECYPTA3539</th><th>ECYPTA4044</th><th>ECYPTA4549</th><th>ECYPTA5054</th><th>ECYPTA5559</th><th>ECYPTA6064</th><th>ECYPTA6569</th><th>ECYPTA7074</th><th>ECYPTA7579</th><th>&hellip;</th><th>HSTR002</th><th>HSTR003</th><th>HSTR004</th><th>HSTR005</th><th>HSTR006</th><th>HSTR007</th><th>HSTR008</th><th>HSTR009</th><th>HSTR058</th><th>HSTR010</th><th>HSTR011</th><th>HSTR012</th><th>HSTR014M</th><th>HSTR015</th><th>HSTR020</th><th>HSTR030</th><th>HSTR031</th><th>HSTR032</th><th>HSTR033</th><th>HSTR034</th><th>HSTR035</th><th>HSTR036</th><th>HSTR037</th><th>HSTR038</th><th>HSTR039</th><th>HSTR040</th><th>HSTR041</th><th>HSTR050</th><th>HSTR051</th><th>HSTR052</th><th>HSTR053</th><th>HSTR054</th><th>HSTR055</th><th>HSTR056</th><th>HSTR056A</th><th>HSTR056B</th><th>HSTR057</th></tr><tr><td>str</td><td>f64</td><td>f64</td><td>f64</td><td>f64</td><td>f64</td><td>f64</td><td>f64</td><td>f64</td><td>f64</td><td>f64</td><td>f64</td><td>f64</td><td>f64</td><td>f64</td><td>f64</td><td>f64</td><td>f64</td><td>f64</td><td>f64</td><td>f64</td><td>f64</td><td>f64</td><td>f64</td><td>f64</td><td>f64</td><td>f64</td><td>f64</td><td>f64</td><td>f64</td><td>f64</td><td>f64</td><td>f64</td><td>f64</td><td>f64</td><td>f64</td><td>f64</td><td>&hellip;</td><td>f64</td><td>f64</td><td>f64</td><td>f64</td><td>f64</td><td>f64</td><td>f64</td><td>f64</td><td>f64</td><td>f64</td><td>f64</td><td>f64</td><td>f64</td><td>f64</td><td>f64</td><td>f64</td><td>f64</td><td>f64</td><td>f64</td><td>f64</td><td>f64</td><td>f64</td><td>f64</td><td>f64</td><td>f64</td><td>f64</td><td>f64</td><td>f64</td><td>f64</td><td>f64</td><td>f64</td><td>f64</td><td>f64</td><td>f64</td><td>f64</td><td>f64</td><td>f64</td></tr></thead><tbody><tr><td>&quot;count&quot;</td><td>868970.0</td><td>868970.0</td><td>868970.0</td><td>868970.0</td><td>868970.0</td><td>868970.0</td><td>868970.0</td><td>868970.0</td><td>868970.0</td><td>868970.0</td><td>868970.0</td><td>868970.0</td><td>868970.0</td><td>868970.0</td><td>868970.0</td><td>868970.0</td><td>868970.0</td><td>868970.0</td><td>868970.0</td><td>868970.0</td><td>868970.0</td><td>868970.0</td><td>868970.0</td><td>868970.0</td><td>868970.0</td><td>868970.0</td><td>868970.0</td><td>868970.0</td><td>868970.0</td><td>868970.0</td><td>868970.0</td><td>868970.0</td><td>868970.0</td><td>868970.0</td><td>868970.0</td><td>868970.0</td><td>&hellip;</td><td>868970.0</td><td>868970.0</td><td>868970.0</td><td>868970.0</td><td>868970.0</td><td>868970.0</td><td>868970.0</td><td>868970.0</td><td>868970.0</td><td>868970.0</td><td>868970.0</td><td>868970.0</td><td>868970.0</td><td>868970.0</td><td>868970.0</td><td>868970.0</td><td>868970.0</td><td>868970.0</td><td>868970.0</td><td>868970.0</td><td>868970.0</td><td>868970.0</td><td>868970.0</td><td>868970.0</td><td>868970.0</td><td>868970.0</td><td>868970.0</td><td>868970.0</td><td>868970.0</td><td>868970.0</td><td>868970.0</td><td>868970.0</td><td>868970.0</td><td>868970.0</td><td>868970.0</td><td>868970.0</td><td>868970.0</td></tr><tr><td>&quot;null_count&quot;</td><td>0.0</td><td>0.0</td><td>0.0</td><td>0.0</td><td>0.0</td><td>0.0</td><td>0.0</td><td>0.0</td><td>0.0</td><td>0.0</td><td>0.0</td><td>0.0</td><td>0.0</td><td>0.0</td><td>0.0</td><td>0.0</td><td>0.0</td><td>0.0</td><td>0.0</td><td>0.0</td><td>0.0</td><td>0.0</td><td>0.0</td><td>0.0</td><td>0.0</td><td>0.0</td><td>0.0</td><td>0.0</td><td>0.0</td><td>0.0</td><td>0.0</td><td>0.0</td><td>0.0</td><td>0.0</td><td>0.0</td><td>0.0</td><td>&hellip;</td><td>0.0</td><td>0.0</td><td>0.0</td><td>0.0</td><td>0.0</td><td>0.0</td><td>0.0</td><td>0.0</td><td>0.0</td><td>0.0</td><td>0.0</td><td>0.0</td><td>0.0</td><td>0.0</td><td>0.0</td><td>0.0</td><td>0.0</td><td>0.0</td><td>0.0</td><td>0.0</td><td>0.0</td><td>0.0</td><td>0.0</td><td>0.0</td><td>0.0</td><td>0.0</td><td>0.0</td><td>0.0</td><td>0.0</td><td>0.0</td><td>0.0</td><td>0.0</td><td>0.0</td><td>0.0</td><td>0.0</td><td>0.0</td><td>0.0</td></tr><tr><td>&quot;mean&quot;</td><td>0.0</td><td>0.0</td><td>46.684199</td><td>18.432629</td><td>45.881762</td><td>41.254934</td><td>39.613594</td><td>37.819792</td><td>37.323999</td><td>40.336732</td><td>38.832472</td><td>37.263988</td><td>36.746572</td><td>3.072744</td><td>24.49923</td><td>12.76093</td><td>12.051364</td><td>12.740845</td><td>24.633679</td><td>46.684199</td><td>2.181318</td><td>2.390635</td><td>2.498651</td><td>2.672259</td><td>3.213171</td><td>3.308621</td><td>3.406466</td><td>3.258362</td><td>3.117668</td><td>2.858167</td><td>2.776588</td><td>2.859335</td><td>3.10898</td><td>2.80384</td><td>2.278714</td><td>1.770631</td><td>&hellip;</td><td>236398.761036</td><td>118477.006209</td><td>114562.677761</td><td>14888.288571</td><td>8607.895903</td><td>91066.493288</td><td>188.957063</td><td>83.539013</td><td>105.41805</td><td>3725.371385</td><td>3469.552047</td><td>2092.59778</td><td>1376.954267</td><td>255.819338</td><td>1504.664209</td><td>116417.090618</td><td>3287.664753</td><td>10103.061471</td><td>12676.188385</td><td>18214.142317</td><td>100.530695</td><td>63415.559732</td><td>2639.560863</td><td>4612.181943</td><td>1368.200459</td><td>379.01064</td><td>989.189819</td><td>34736.610626</td><td>5995.306708</td><td>2258.469958</td><td>915.416319</td><td>23038.220756</td><td>71.1409</td><td>1322.434304</td><td>831.592595</td><td>490.84171</td><td>1135.621681</td></tr><tr><td>&quot;std&quot;</td><td>0.0</td><td>0.0</td><td>174.837877</td><td>69.379951</td><td>171.817976</td><td>152.539099</td><td>145.876662</td><td>139.320601</td><td>137.611402</td><td>149.038058</td><td>143.038376</td><td>137.181937</td><td>135.319262</td><td>12.468123</td><td>87.647782</td><td>50.126862</td><td>47.828225</td><td>49.02113</td><td>89.352097</td><td>174.837877</td><td>9.518254</td><td>10.400337</td><td>10.705186</td><td>10.30089</td><td>10.888878</td><td>10.894537</td><td>11.699239</td><td>11.371185</td><td>11.099312</td><td>10.485757</td><td>10.544898</td><td>11.657788</td><td>13.69638</td><td>12.729886</td><td>10.420684</td><td>8.140557</td><td>&hellip;</td><td>990960.632583</td><td>507452.95803</td><td>494184.487741</td><td>58848.760548</td><td>45895.371562</td><td>398856.15598</td><td>794.022208</td><td>358.55285</td><td>497.256289</td><td>14112.764792</td><td>13213.369738</td><td>8173.498909</td><td>5705.767025</td><td>1422.161917</td><td>5673.303299</td><td>486744.921092</td><td>14400.182837</td><td>39378.141535</td><td>60281.31644</td><td>71889.568827</td><td>615.785308</td><td>284702.777168</td><td>13567.714202</td><td>14917.235034</td><td>5725.037991</td><td>2091.296014</td><td>3882.026395</td><td>101629.434794</td><td>19414.670337</td><td>7613.821326</td><td>5037.673958</td><td>71509.135272</td><td>257.018871</td><td>6638.799848</td><td>5076.885882</td><td>2097.649493</td><td>4203.801021</td></tr><tr><td>&quot;min&quot;</td><td>0.0</td><td>0.0</td><td>0.0</td><td>0.0</td><td>0.0</td><td>0.0</td><td>0.0</td><td>0.0</td><td>0.0</td><td>0.0</td><td>0.0</td><td>0.0</td><td>0.0</td><td>0.0</td><td>0.0</td><td>0.0</td><td>0.0</td><td>0.0</td><td>0.0</td><td>0.0</td><td>0.0</td><td>0.0</td><td>0.0</td><td>0.0</td><td>0.0</td><td>0.0</td><td>0.0</td><td>0.0</td><td>0.0</td><td>0.0</td><td>0.0</td><td>0.0</td><td>0.0</td><td>0.0</td><td>0.0</td><td>0.0</td><td>&hellip;</td><td>0.0</td><td>0.0</td><td>0.0</td><td>0.0</td><td>0.0</td><td>0.0</td><td>0.0</td><td>0.0</td><td>0.0</td><td>0.0</td><td>0.0</td><td>0.0</td><td>0.0</td><td>0.0</td><td>0.0</td><td>0.0</td><td>0.0</td><td>0.0</td><td>0.0</td><td>0.0</td><td>0.0</td><td>0.0</td><td>0.0</td><td>0.0</td><td>0.0</td><td>0.0</td><td>0.0</td><td>0.0</td><td>0.0</td><td>0.0</td><td>0.0</td><td>0.0</td><td>0.0</td><td>0.0</td><td>0.0</td><td>0.0</td><td>0.0</td></tr><tr><td>&quot;25%&quot;</td><td>0.0</td><td>0.0</td><td>8.0</td><td>3.0</td><td>7.0</td><td>7.0</td><td>7.0</td><td>6.0</td><td>6.0</td><td>7.0</td><td>7.0</td><td>6.0</td><td>6.0</td><td>0.0</td><td>4.0</td><td>2.0</td><td>2.0</td><td>2.0</td><td>4.0</td><td>8.0</td><td>0.0</td><td>0.0</td><td>0.0</td><td>1.0</td><td>0.0</td><td>0.0</td><td>0.0</td><td>0.0</td><td>0.0</td><td>0.0</td><td>0.0</td><td>0.0</td><td>0.0</td><td>0.0</td><td>0.0</td><td>0.0</td><td>&hellip;</td><td>31974.915025</td><td>14884.392499</td><td>14404.559008</td><td>1721.930707</td><td>889.08304</td><td>10994.748987</td><td>18.79587</td><td>8.307298</td><td>6.952265</td><td>341.867661</td><td>307.276114</td><td>167.899519</td><td>93.667955</td><td>6.870296</td><td>105.847834</td><td>16361.845444</td><td>313.292801</td><td>1178.97798</td><td>1513.451358</td><td>2469.125994</td><td>7.898357</td><td>8700.00923</td><td>189.507627</td><td>384.138866</td><td>151.543329</td><td>37.742767</td><td>93.143563</td><td>2811.475222</td><td>162.774495</td><td>167.312143</td><td>35.976385</td><td>1768.315493</td><td>6.114269</td><td>85.412388</td><td>36.712766</td><td>23.624462</td><td>88.826063</td></tr><tr><td>&quot;50%&quot;</td><td>0.0</td><td>0.0</td><td>21.0</td><td>8.0</td><td>21.0</td><td>19.0</td><td>19.0</td><td>18.0</td><td>17.0</td><td>19.0</td><td>18.0</td><td>17.0</td><td>17.0</td><td>1.0</td><td>11.0</td><td>6.0</td><td>5.0</td><td>5.0</td><td>11.0</td><td>21.0</td><td>1.0</td><td>1.0</td><td>1.0</td><td>1.0</td><td>1.0</td><td>1.0</td><td>1.0</td><td>1.0</td><td>1.0</td><td>1.0</td><td>1.0</td><td>1.0</td><td>2.0</td><td>1.0</td><td>1.0</td><td>1.0</td><td>&hellip;</td><td>99636.881325</td><td>47255.263545</td><td>45702.223467</td><td>5675.289883</td><td>3012.454702</td><td>35561.278678</td><td>64.954671</td><td>29.399074</td><td>27.016134</td><td>1221.710075</td><td>1114.524975</td><td>634.507481</td><td>383.183443</td><td>48.33781</td><td>455.550063</td><td>50448.828495</td><td>1010.89752</td><td>4106.746145</td><td>4918.767677</td><td>7819.010503</td><td>30.350255</td><td>26710.649778</td><td>726.944444</td><td>1601.499714</td><td>495.907153</td><td>121.108084</td><td>342.930165</td><td>10954.693342</td><td>1156.778626</td><td>701.484161</td><td>161.412101</td><td>7057.834978</td><td>23.787995</td><td>343.285857</td><td>161.941917</td><td>117.546716</td><td>354.380653</td></tr><tr><td>&quot;75%&quot;</td><td>0.0</td><td>0.0</td><td>47.0</td><td>18.0</td><td>46.0</td><td>41.0</td><td>40.0</td><td>38.0</td><td>38.0</td><td>41.0</td><td>39.0</td><td>38.0</td><td>37.0</td><td>3.0</td><td>25.0</td><td>13.0</td><td>12.0</td><td>12.0</td><td>25.0</td><td>47.0</td><td>2.0</td><td>2.0</td><td>2.0</td><td>3.0</td><td>3.0</td><td>3.0</td><td>3.0</td><td>3.0</td><td>3.0</td><td>3.0</td><td>3.0</td><td>3.0</td><td>3.0</td><td>3.0</td><td>2.0</td><td>2.0</td><td>&hellip;</td><td>234841.660337</td><td>116289.221612</td><td>112200.441102</td><td>15018.869906</td><td>8150.993847</td><td>87545.046991</td><td>180.270628</td><td>78.649214</td><td>86.006103</td><td>3560.668285</td><td>3296.700024</td><td>1929.993628</td><td>1207.25064</td><td>209.470357</td><td>1429.641014</td><td>116348.736875</td><td>2834.456579</td><td>10240.10095</td><td>12318.235716</td><td>18680.935475</td><td>86.966083</td><td>61627.089698</td><td>2153.664949</td><td>4785.370267</td><td>1321.914033</td><td>341.421503</td><td>954.217924</td><td>34053.319991</td><td>4960.248059</td><td>2008.694424</td><td>540.584951</td><td>22586.713725</td><td>63.703739</td><td>1023.247916</td><td>544.115663</td><td>420.149131</td><td>1009.684299</td></tr><tr><td>&quot;max&quot;</td><td>0.0</td><td>0.0</td><td>23507.0</td><td>7751.0</td><td>23378.0</td><td>20141.0</td><td>19020.0</td><td>17849.0</td><td>17487.0</td><td>19950.0</td><td>18891.0</td><td>17781.0</td><td>17436.0</td><td>2169.0</td><td>11623.0</td><td>6837.0</td><td>6487.0</td><td>8218.0</td><td>13551.0</td><td>23507.0</td><td>1241.0</td><td>1530.0</td><td>1791.0</td><td>1871.0</td><td>1954.0</td><td>1200.0</td><td>1478.0</td><td>1437.0</td><td>1811.0</td><td>1723.0</td><td>1617.0</td><td>1545.0</td><td>1393.0</td><td>1293.0</td><td>1193.0</td><td>1139.0</td><td>&hellip;</td><td>1.2796e8</td><td>7.0898e7</td><td>6.8704e7</td><td>8.7079e6</td><td>1.0164e7</td><td>5.2694e7</td><td>98537.879231</td><td>43886.395799</td><td>62217.543041</td><td>2.1477e6</td><td>2.1443e6</td><td>1.3459e6</td><td>895523.577009</td><td>272687.971232</td><td>1.1006e6</td><td>5.8696e7</td><td>1.9230e6</td><td>5.4522e6</td><td>9.1193e6</td><td>8.5339e6</td><td>128411.834084</td><td>3.7197e7</td><td>2.9165e6</td><td>1.8141e6</td><td>1.0225e6</td><td>406708.260287</td><td>615838.990473</td><td>1.2478e7</td><td>2.3201e6</td><td>1.0707e6</td><td>653408.354038</td><td>9.9506e6</td><td>29234.466882</td><td>1.4912e6</td><td>1.2078e6</td><td>397905.142758</td><td>733300.179849</td></tr></tbody></table></div>"
      ],
      "text/plain": [
       "shape: (9, 980)\n",
       "┌───────────┬──────────┬───────────┬───────────┬───┬───────────┬───────────┬───────────┬───────────┐\n",
       "│ statistic ┆ ECYASQKM ┆ ECYALSQKM ┆ ECYBASPOP ┆ … ┆ HSTR056   ┆ HSTR056A  ┆ HSTR056B  ┆ HSTR057   │\n",
       "│ ---       ┆ ---      ┆ ---       ┆ ---       ┆   ┆ ---       ┆ ---       ┆ ---       ┆ ---       │\n",
       "│ str       ┆ f64      ┆ f64       ┆ f64       ┆   ┆ f64       ┆ f64       ┆ f64       ┆ f64       │\n",
       "╞═══════════╪══════════╪═══════════╪═══════════╪═══╪═══════════╪═══════════╪═══════════╪═══════════╡\n",
       "│ count     ┆ 868970.0 ┆ 868970.0  ┆ 868970.0  ┆ … ┆ 868970.0  ┆ 868970.0  ┆ 868970.0  ┆ 868970.0  │\n",
       "│ null_coun ┆ 0.0      ┆ 0.0       ┆ 0.0       ┆ … ┆ 0.0       ┆ 0.0       ┆ 0.0       ┆ 0.0       │\n",
       "│ t         ┆          ┆           ┆           ┆   ┆           ┆           ┆           ┆           │\n",
       "│ mean      ┆ 0.0      ┆ 0.0       ┆ 46.684199 ┆ … ┆ 1322.4343 ┆ 831.59259 ┆ 490.84171 ┆ 1135.6216 │\n",
       "│           ┆          ┆           ┆           ┆   ┆ 04        ┆ 5         ┆           ┆ 81        │\n",
       "│ std       ┆ 0.0      ┆ 0.0       ┆ 174.83787 ┆ … ┆ 6638.7998 ┆ 5076.8858 ┆ 2097.6494 ┆ 4203.8010 │\n",
       "│           ┆          ┆           ┆ 7         ┆   ┆ 48        ┆ 82        ┆ 93        ┆ 21        │\n",
       "│ min       ┆ 0.0      ┆ 0.0       ┆ 0.0       ┆ … ┆ 0.0       ┆ 0.0       ┆ 0.0       ┆ 0.0       │\n",
       "│ 25%       ┆ 0.0      ┆ 0.0       ┆ 8.0       ┆ … ┆ 85.412388 ┆ 36.712766 ┆ 23.624462 ┆ 88.826063 │\n",
       "│ 50%       ┆ 0.0      ┆ 0.0       ┆ 21.0      ┆ … ┆ 343.28585 ┆ 161.94191 ┆ 117.54671 ┆ 354.38065 │\n",
       "│           ┆          ┆           ┆           ┆   ┆ 7         ┆ 7         ┆ 6         ┆ 3         │\n",
       "│ 75%       ┆ 0.0      ┆ 0.0       ┆ 47.0      ┆ … ┆ 1023.2479 ┆ 544.11566 ┆ 420.14913 ┆ 1009.6842 │\n",
       "│           ┆          ┆           ┆           ┆   ┆ 16        ┆ 3         ┆ 1         ┆ 99        │\n",
       "│ max       ┆ 0.0      ┆ 0.0       ┆ 23507.0   ┆ … ┆ 1.4912e6  ┆ 1.2078e6  ┆ 397905.14 ┆ 733300.17 │\n",
       "│           ┆          ┆           ┆           ┆   ┆           ┆           ┆ 2758      ┆ 9849      │\n",
       "└───────────┴──────────┴───────────┴───────────┴───┴───────────┴───────────┴───────────┴───────────┘"
      ]
     },
     "execution_count": 38,
     "metadata": {},
     "output_type": "execute_result"
    }
   ],
   "source": [
    "# Function to turn any string into a number\n",
    "def convert_strings_to_numbers(df):\n",
    "    if hasattr(df, \"to_pandas\"):\n",
    "        df = df.to_pandas()\n",
    "\n",
    "    for col in df.columns:\n",
    "        if col in [\"CODE\", \"GEO\"]:\n",
    "            continue  # skip explicitly excluded columns\n",
    "\n",
    "        if df[col].dtype == \"object\" or pd.api.types.is_string_dtype(df[col]):\n",
    "            if (df[col] == \"NA\").any():\n",
    "                continue  # skip if \"NA\" appears in the column\n",
    "            try:\n",
    "                df[col] = pd.to_numeric(df[col])\n",
    "            except ValueError:\n",
    "                df[col] = df[col].astype(\"category\").cat.codes\n",
    "\n",
    "    return df\n",
    "\n",
    "# Convert df\n",
    "merged_df = convert_strings_to_numbers(merged_df)\n",
    "\n",
    "# Convert to polars\n",
    "merged_df = pl.from_pandas(merged_df)\n",
    "\n",
    "merged_df.describe()"
   ]
  },
  {
   "cell_type": "markdown",
   "metadata": {},
   "source": [
    "<h3>Handle Nulls</h3>"
   ]
  },
  {
   "cell_type": "code",
   "execution_count": 39,
   "metadata": {},
   "outputs": [
    {
     "name": "stdout",
     "output_type": "stream",
     "text": [
      "Filling nulls in 'ECYPTAMED' with median = 41.3\n",
      "Filling nulls in 'ECYPMAMED' with median = 40.0\n",
      "Filling nulls in 'ECYPFAMED' with median = 42.5\n",
      "Filling nulls in 'ECYHTAMED' with median = 41.1\n",
      "Filling nulls in 'ECYHMAMED' with median = 40.0\n",
      "Filling nulls in 'ECYHFAMED' with median = 42.5\n",
      "Filling nulls in 'ECYMTNMED' with median = 55.0\n",
      "Data Null Count: {}\n"
     ]
    }
   ],
   "source": [
    "def substitute_nulls_with_median(df: pl.DataFrame) -> pl.DataFrame:\n",
    "    # Convert to Pandas\n",
    "    df_pd = df.to_pandas()\n",
    "\n",
    "    for col in df_pd.columns:\n",
    "        if pd.api.types.is_numeric_dtype(df_pd[col]):\n",
    "            if df_pd[col].isnull().sum() > 0:\n",
    "                median = df_pd[col].median()\n",
    "                print(f\"Filling nulls in '{col}' with median = {median}\")\n",
    "                df_pd[col] = df_pd[col].fillna(median)\n",
    "\n",
    "    # Back to Polars\n",
    "    return pl.from_pandas(df_pd)\n",
    "\n",
    "\n",
    "merged_df = substitute_nulls_with_median(merged_df)\n",
    "\n",
    "merged_df_nulls = count_na_strings(merged_df)\n",
    "print(f\"Data Null Count: {merged_df_nulls}\")"
   ]
  },
  {
   "cell_type": "markdown",
   "metadata": {},
   "source": [
    "<h3>Negative Values</h3>"
   ]
  },
  {
   "cell_type": "code",
   "execution_count": 40,
   "metadata": {},
   "outputs": [
    {
     "name": "stdout",
     "output_type": "stream",
     "text": [
      "Data Negative Values Count: {'HSTT001': {'negative_count': 28}, 'HSTE001ZBS': {'negative_count': 163557}, 'HSWH040S': {'negative_count': 255858}, 'HSWH041S': {'negative_count': 15436}, 'HSWH042S': {'negative_count': 19205}}\n"
     ]
    }
   ],
   "source": [
    "# Get total negative values for each column\n",
    "def count_negative_values(df):\n",
    "    return {\n",
    "        col: {\n",
    "            \"negative_count\": df[col].filter(df[col] < 0).len(),\n",
    "        }\n",
    "        for col in df.columns\n",
    "        if df.schema[col] in [pl.Int8, pl.Int16, pl.Int32, pl.Int64,\n",
    "                              pl.UInt8, pl.UInt16, pl.UInt32, pl.UInt64,\n",
    "                              pl.Float32, pl.Float64]\n",
    "        and df[col].filter(df[col] < 0).len() > 0\n",
    "    }\n",
    "\n",
    "# Get total negative values for each dataframe\n",
    "merged_df_negatives = count_negative_values(merged_df)\n",
    "print(f\"Data Negative Values Count: {merged_df_negatives}\")"
   ]
  },
  {
   "cell_type": "markdown",
   "metadata": {},
   "source": [
    "<p>We can see that demo stats has no negative values, so we don't need to modify this dataset as of right now.</p>\n",
    "<p>For household spending, we can see that there are negative values in the dataset:<p>\n",
    "<ul>\n",
    "<li>HSTT001 - Total expenditure,Household Expenditures (Category Summary),Dollars</li>\n",
    "<li>HSTE001ZBS - Total non-current consumption,Household Expenditures (Category Summary),Dollars</li>\n",
    "<li>HSWH040S,Net purchase price of owned residences,Household Expenditures (Category Summary),Dollars</li>\n",
    "<li>HSWH041S - Net purchase price of owned secondary residences,Household Expenditures (Category Summary),Dollars</li>\n",
    "<li>HSWH042S - Net purchase price of other owned properties,Household Expenditures (Category Summary),Dollars</li>\n",
    "</ul>\n",
    "<p>We can easily tell that the first two varaibles cannot be negative, since they desribe expenditures, and because they capture sums of outflows. The next 3 are tricky, because these variables reflect the net purchase price of owned residences, secondary residences, and other properties, they can indeed be negative if the proceeds from selling those properties exceed any purchase or improvement costs, thereby indicating a net inflow rather than an outflow.</p>\n",
    "<p>Therefore, we will replaced the negatives in the first two variables, and keep the last three.</p>"
   ]
  },
  {
   "cell_type": "code",
   "execution_count": 41,
   "metadata": {},
   "outputs": [
    {
     "name": "stdout",
     "output_type": "stream",
     "text": [
      "Removing 28 rows with negative values in 'HSTT001'\n",
      "Removing 163557 rows with negative values in 'HSTE001ZBS'\n",
      "Data Negative Values Count: {'HSWH040S': {'negative_count': 92301}, 'HSWH041S': {'negative_count': 11752}, 'HSWH042S': {'negative_count': 11436}}\n"
     ]
    }
   ],
   "source": [
    "# Function to replace negative values with median\n",
    "def replace_negatives_with_median(df, cols):\n",
    "    updated_df = df.clone()\n",
    "\n",
    "    for col in cols:\n",
    "        if col in df.columns:\n",
    "            median = df.select(pl.col(col).filter(pl.col(col) >= 0).median()).item()\n",
    "            neg_count = df.select((pl.col(col) < 0).sum()).item()\n",
    "\n",
    "            if neg_count > 0:\n",
    "                print(f\"Replacing {neg_count} negative values in '{col}' with median = {median}\")\n",
    "                updated_df = updated_df.with_columns(\n",
    "                    pl.when(pl.col(col) < 0).then(median).otherwise(pl.col(col)).alias(col)\n",
    "                )\n",
    "    return updated_df\n",
    "\n",
    "def remove_negative_rows(df, cols):\n",
    "    updated_df = df.clone()\n",
    "\n",
    "    for col in cols:\n",
    "        if col in df.columns:\n",
    "            neg_count = df.select((pl.col(col) < 0).sum()).item()\n",
    "\n",
    "            if neg_count > 0:\n",
    "                print(f\"Removing {neg_count} rows with negative values in '{col}'\")\n",
    "                updated_df = updated_df.filter(pl.col(col) >= 0)\n",
    "    return updated_df\n",
    "\n",
    "# Replace negative values with median\n",
    "#merged_df = replace_negatives_with_median(merged_df, [\"HSTT001\", \"HSTE001ZBS\"])\n",
    "# Remove negative values\n",
    "merged_df = remove_negative_rows(merged_df, [\"HSTT001\", \"HSTE001ZBS\"])\n",
    "merged_df_negatives = count_negative_values(merged_df)\n",
    "print(f\"Data Negative Values Count: {merged_df_negatives}\")"
   ]
  },
  {
   "cell_type": "markdown",
   "metadata": {},
   "source": [
    "<h3>General Clean Up</h3>\n",
    "<p>Here, we will be cleaning up any data that is redundant, such as rows with straight zeros, columns where the mean and std are both zero, implying that the column is constant, and any other data that is not useful.</p>"
   ]
  },
  {
   "cell_type": "code",
   "execution_count": 42,
   "metadata": {},
   "outputs": [
    {
     "data": {
      "text/html": [
       "<div><style>\n",
       ".dataframe > thead > tr,\n",
       ".dataframe > tbody > tr {\n",
       "  text-align: right;\n",
       "  white-space: pre-wrap;\n",
       "}\n",
       "</style>\n",
       "<small>shape: (9, 978)</small><table border=\"1\" class=\"dataframe\"><thead><tr><th>statistic</th><th>ECYBASPOP</th><th>ECYBASHHD</th><th>ECYBASHPOP</th><th>ECYBAS12P</th><th>ECYBAS15P</th><th>ECYBAS18P</th><th>ECYBAS19P</th><th>ECYBAS12HP</th><th>ECYBAS15HP</th><th>ECYBAS18HP</th><th>ECYBAS19HP</th><th>ECYBASTNGH</th><th>ECYBASADUH</th><th>ECYBASCF</th><th>ECYBASCFH</th><th>ECYBASKID</th><th>ECYBASLF</th><th>ECYPTAPOP</th><th>ECYPTA_0_4</th><th>ECYPTA_5_9</th><th>ECYPTA1014</th><th>ECYPTA1519</th><th>ECYPTA2024</th><th>ECYPTA2529</th><th>ECYPTA3034</th><th>ECYPTA3539</th><th>ECYPTA4044</th><th>ECYPTA4549</th><th>ECYPTA5054</th><th>ECYPTA5559</th><th>ECYPTA6064</th><th>ECYPTA6569</th><th>ECYPTA7074</th><th>ECYPTA7579</th><th>ECYPTA8084</th><th>ECYPTA85P</th><th>&hellip;</th><th>HSTR002</th><th>HSTR003</th><th>HSTR004</th><th>HSTR005</th><th>HSTR006</th><th>HSTR007</th><th>HSTR008</th><th>HSTR009</th><th>HSTR058</th><th>HSTR010</th><th>HSTR011</th><th>HSTR012</th><th>HSTR014M</th><th>HSTR015</th><th>HSTR020</th><th>HSTR030</th><th>HSTR031</th><th>HSTR032</th><th>HSTR033</th><th>HSTR034</th><th>HSTR035</th><th>HSTR036</th><th>HSTR037</th><th>HSTR038</th><th>HSTR039</th><th>HSTR040</th><th>HSTR041</th><th>HSTR050</th><th>HSTR051</th><th>HSTR052</th><th>HSTR053</th><th>HSTR054</th><th>HSTR055</th><th>HSTR056</th><th>HSTR056A</th><th>HSTR056B</th><th>HSTR057</th></tr><tr><td>str</td><td>f64</td><td>f64</td><td>f64</td><td>f64</td><td>f64</td><td>f64</td><td>f64</td><td>f64</td><td>f64</td><td>f64</td><td>f64</td><td>f64</td><td>f64</td><td>f64</td><td>f64</td><td>f64</td><td>f64</td><td>f64</td><td>f64</td><td>f64</td><td>f64</td><td>f64</td><td>f64</td><td>f64</td><td>f64</td><td>f64</td><td>f64</td><td>f64</td><td>f64</td><td>f64</td><td>f64</td><td>f64</td><td>f64</td><td>f64</td><td>f64</td><td>f64</td><td>&hellip;</td><td>f64</td><td>f64</td><td>f64</td><td>f64</td><td>f64</td><td>f64</td><td>f64</td><td>f64</td><td>f64</td><td>f64</td><td>f64</td><td>f64</td><td>f64</td><td>f64</td><td>f64</td><td>f64</td><td>f64</td><td>f64</td><td>f64</td><td>f64</td><td>f64</td><td>f64</td><td>f64</td><td>f64</td><td>f64</td><td>f64</td><td>f64</td><td>f64</td><td>f64</td><td>f64</td><td>f64</td><td>f64</td><td>f64</td><td>f64</td><td>f64</td><td>f64</td><td>f64</td></tr></thead><tbody><tr><td>&quot;count&quot;</td><td>705413.0</td><td>705413.0</td><td>705413.0</td><td>705413.0</td><td>705413.0</td><td>705413.0</td><td>705413.0</td><td>705413.0</td><td>705413.0</td><td>705413.0</td><td>705413.0</td><td>705413.0</td><td>705413.0</td><td>705413.0</td><td>705413.0</td><td>705413.0</td><td>705413.0</td><td>705413.0</td><td>705413.0</td><td>705413.0</td><td>705413.0</td><td>705413.0</td><td>705413.0</td><td>705413.0</td><td>705413.0</td><td>705413.0</td><td>705413.0</td><td>705413.0</td><td>705413.0</td><td>705413.0</td><td>705413.0</td><td>705413.0</td><td>705413.0</td><td>705413.0</td><td>705413.0</td><td>705413.0</td><td>&hellip;</td><td>705413.0</td><td>705413.0</td><td>705413.0</td><td>705413.0</td><td>705413.0</td><td>705413.0</td><td>705413.0</td><td>705413.0</td><td>705413.0</td><td>705413.0</td><td>705413.0</td><td>705413.0</td><td>705413.0</td><td>705413.0</td><td>705413.0</td><td>705413.0</td><td>705413.0</td><td>705413.0</td><td>705413.0</td><td>705413.0</td><td>705413.0</td><td>705413.0</td><td>705413.0</td><td>705413.0</td><td>705413.0</td><td>705413.0</td><td>705413.0</td><td>705413.0</td><td>705413.0</td><td>705413.0</td><td>705413.0</td><td>705413.0</td><td>705413.0</td><td>705413.0</td><td>705413.0</td><td>705413.0</td><td>705413.0</td></tr><tr><td>&quot;null_count&quot;</td><td>0.0</td><td>0.0</td><td>0.0</td><td>0.0</td><td>0.0</td><td>0.0</td><td>0.0</td><td>0.0</td><td>0.0</td><td>0.0</td><td>0.0</td><td>0.0</td><td>0.0</td><td>0.0</td><td>0.0</td><td>0.0</td><td>0.0</td><td>0.0</td><td>0.0</td><td>0.0</td><td>0.0</td><td>0.0</td><td>0.0</td><td>0.0</td><td>0.0</td><td>0.0</td><td>0.0</td><td>0.0</td><td>0.0</td><td>0.0</td><td>0.0</td><td>0.0</td><td>0.0</td><td>0.0</td><td>0.0</td><td>0.0</td><td>&hellip;</td><td>0.0</td><td>0.0</td><td>0.0</td><td>0.0</td><td>0.0</td><td>0.0</td><td>0.0</td><td>0.0</td><td>0.0</td><td>0.0</td><td>0.0</td><td>0.0</td><td>0.0</td><td>0.0</td><td>0.0</td><td>0.0</td><td>0.0</td><td>0.0</td><td>0.0</td><td>0.0</td><td>0.0</td><td>0.0</td><td>0.0</td><td>0.0</td><td>0.0</td><td>0.0</td><td>0.0</td><td>0.0</td><td>0.0</td><td>0.0</td><td>0.0</td><td>0.0</td><td>0.0</td><td>0.0</td><td>0.0</td><td>0.0</td><td>0.0</td></tr><tr><td>&quot;mean&quot;</td><td>45.32736</td><td>16.743865</td><td>44.468185</td><td>39.879673</td><td>38.186946</td><td>36.349227</td><td>35.841402</td><td>38.90524</td><td>37.352966</td><td>35.742548</td><td>35.21239</td><td>3.162692</td><td>23.37986</td><td>12.789991</td><td>12.05614</td><td>12.959478</td><td>23.949479</td><td>45.32736</td><td>2.140502</td><td>2.426384</td><td>2.573528</td><td>2.733338</td><td>3.014384</td><td>2.918709</td><td>3.048859</td><td>3.039452</td><td>3.02636</td><td>2.825421</td><td>2.773723</td><td>2.850337</td><td>3.110348</td><td>2.801791</td><td>2.244984</td><td>1.727044</td><td>1.067264</td><td>1.00493</td><td>&hellip;</td><td>242375.263227</td><td>121868.196765</td><td>117979.635404</td><td>14467.228171</td><td>9038.717602</td><td>94473.68963</td><td>190.796079</td><td>84.609491</td><td>106.186588</td><td>3697.765283</td><td>3437.625064</td><td>1962.806877</td><td>1474.818188</td><td>260.140219</td><td>1454.1927</td><td>119052.873761</td><td>3179.9546</td><td>10102.355568</td><td>13092.636306</td><td>18227.159442</td><td>106.099711</td><td>66013.732792</td><td>2675.554839</td><td>4386.868667</td><td>1268.511836</td><td>351.240582</td><td>917.271254</td><td>31203.527587</td><td>4315.457106</td><td>1753.137546</td><td>854.717533</td><td>21883.331903</td><td>54.389448</td><td>1282.169932</td><td>844.277964</td><td>437.891968</td><td>1060.32412</td></tr><tr><td>&quot;std&quot;</td><td>188.918111</td><td>73.803066</td><td>185.528093</td><td>164.749757</td><td>157.424106</td><td>150.218825</td><td>148.360248</td><td>160.801048</td><td>154.23883</td><td>147.80745</td><td>145.771566</td><td>13.517334</td><td>93.823475</td><td>54.527564</td><td>52.034661</td><td>52.867026</td><td>96.221427</td><td>188.918111</td><td>10.207018</td><td>11.221434</td><td>11.599388</td><td>11.149624</td><td>11.25802</td><td>10.8494</td><td>11.877395</td><td>11.89591</td><td>11.90687</td><td>11.352044</td><td>11.465213</td><td>12.716419</td><td>14.992905</td><td>13.933697</td><td>11.355473</td><td>8.820249</td><td>5.503686</td><td>6.170175</td><td>&hellip;</td><td>1.0811e6</td><td>551324.442001</td><td>537183.31755</td><td>63170.750632</td><td>50479.357085</td><td>433092.503158</td><td>861.039175</td><td>388.99574</td><td>537.161406</td><td>14891.635367</td><td>13924.882575</td><td>8421.391057</td><td>6177.80712</td><td>1519.585595</td><td>5951.376534</td><td>532519.782258</td><td>15450.594747</td><td>42752.98507</td><td>66016.42972</td><td>78268.40789</td><td>677.195357</td><td>312463.440104</td><td>14610.445994</td><td>15131.742512</td><td>6101.000468</td><td>2274.654969</td><td>4064.546694</td><td>98702.901927</td><td>13881.963732</td><td>6194.528894</td><td>5183.144266</td><td>72795.187519</td><td>240.518948</td><td>7108.745439</td><td>5491.337794</td><td>2182.570242</td><td>4375.568214</td></tr><tr><td>&quot;min&quot;</td><td>0.0</td><td>0.0</td><td>0.0</td><td>0.0</td><td>0.0</td><td>0.0</td><td>0.0</td><td>0.0</td><td>0.0</td><td>0.0</td><td>0.0</td><td>0.0</td><td>0.0</td><td>0.0</td><td>0.0</td><td>0.0</td><td>0.0</td><td>0.0</td><td>0.0</td><td>0.0</td><td>0.0</td><td>0.0</td><td>0.0</td><td>0.0</td><td>0.0</td><td>0.0</td><td>0.0</td><td>0.0</td><td>0.0</td><td>0.0</td><td>0.0</td><td>0.0</td><td>0.0</td><td>0.0</td><td>0.0</td><td>0.0</td><td>&hellip;</td><td>0.0</td><td>0.0</td><td>0.0</td><td>0.0</td><td>0.0</td><td>0.0</td><td>0.0</td><td>0.0</td><td>0.0</td><td>0.0</td><td>0.0</td><td>0.0</td><td>0.0</td><td>0.0</td><td>0.0</td><td>0.0</td><td>0.0</td><td>0.0</td><td>0.0</td><td>0.0</td><td>0.0</td><td>0.0</td><td>0.0</td><td>0.0</td><td>0.0</td><td>0.0</td><td>0.0</td><td>0.0</td><td>0.0</td><td>0.0</td><td>0.0</td><td>0.0</td><td>0.0</td><td>0.0</td><td>0.0</td><td>0.0</td><td>0.0</td></tr><tr><td>&quot;25%&quot;</td><td>7.0</td><td>2.0</td><td>7.0</td><td>7.0</td><td>6.0</td><td>6.0</td><td>5.0</td><td>6.0</td><td>6.0</td><td>5.0</td><td>5.0</td><td>0.0</td><td>3.0</td><td>2.0</td><td>2.0</td><td>2.0</td><td>3.0</td><td>7.0</td><td>0.0</td><td>0.0</td><td>0.0</td><td>0.0</td><td>0.0</td><td>0.0</td><td>0.0</td><td>0.0</td><td>0.0</td><td>0.0</td><td>0.0</td><td>0.0</td><td>0.0</td><td>0.0</td><td>0.0</td><td>0.0</td><td>0.0</td><td>0.0</td><td>&hellip;</td><td>31488.355329</td><td>14975.917483</td><td>14505.912216</td><td>1608.751972</td><td>879.079488</td><td>11220.396504</td><td>18.31901</td><td>8.164323</td><td>6.484386</td><td>334.257865</td><td>300.083587</td><td>155.60416</td><td>106.014077</td><td>5.942837</td><td>94.476256</td><td>15840.037795</td><td>279.226227</td><td>1096.58118</td><td>1493.554882</td><td>2317.824356</td><td>7.673026</td><td>8583.783029</td><td>185.387623</td><td>350.698522</td><td>130.961346</td><td>32.855826</td><td>79.160432</td><td>2419.35573</td><td>112.544473</td><td>130.96451</td><td>29.842252</td><td>1590.111588</td><td>4.653525</td><td>74.057476</td><td>32.985912</td><td>19.649385</td><td>73.112576</td></tr><tr><td>&quot;50%&quot;</td><td>21.0</td><td>8.0</td><td>21.0</td><td>19.0</td><td>18.0</td><td>18.0</td><td>17.0</td><td>19.0</td><td>18.0</td><td>17.0</td><td>17.0</td><td>1.0</td><td>11.0</td><td>6.0</td><td>6.0</td><td>5.0</td><td>11.0</td><td>21.0</td><td>1.0</td><td>1.0</td><td>1.0</td><td>1.0</td><td>1.0</td><td>1.0</td><td>1.0</td><td>1.0</td><td>1.0</td><td>1.0</td><td>1.0</td><td>1.0</td><td>2.0</td><td>1.0</td><td>1.0</td><td>1.0</td><td>0.0</td><td>0.0</td><td>&hellip;</td><td>105113.299117</td><td>50424.259559</td><td>48777.139385</td><td>5766.445885</td><td>3184.99291</td><td>38228.386647</td><td>66.506883</td><td>30.284835</td><td>26.907546</td><td>1275.98947</td><td>1161.400862</td><td>630.276505</td><td>437.331856</td><td>51.53722</td><td>461.651601</td><td>52667.121225</td><td>974.238949</td><td>4223.652839</td><td>5156.948175</td><td>7985.776464</td><td>31.89595</td><td>28168.767776</td><td>764.125249</td><td>1629.859816</td><td>473.377044</td><td>114.442908</td><td>327.580824</td><td>10553.253149</td><td>962.565825</td><td>621.315686</td><td>148.312624</td><td>7054.825849</td><td>20.609407</td><td>334.835696</td><td>161.612334</td><td>108.165356</td><td>332.560945</td></tr><tr><td>&quot;75%&quot;</td><td>46.0</td><td>17.0</td><td>45.0</td><td>40.0</td><td>39.0</td><td>37.0</td><td>37.0</td><td>39.0</td><td>38.0</td><td>37.0</td><td>36.0</td><td>3.0</td><td>24.0</td><td>13.0</td><td>12.0</td><td>13.0</td><td>24.0</td><td>46.0</td><td>2.0</td><td>3.0</td><td>3.0</td><td>3.0</td><td>3.0</td><td>3.0</td><td>3.0</td><td>3.0</td><td>3.0</td><td>3.0</td><td>3.0</td><td>3.0</td><td>3.0</td><td>3.0</td><td>2.0</td><td>2.0</td><td>1.0</td><td>1.0</td><td>&hellip;</td><td>238691.419685</td><td>119576.882682</td><td>115472.718612</td><td>14770.506068</td><td>8478.611818</td><td>91039.719153</td><td>181.521088</td><td>79.770642</td><td>85.089739</td><td>3640.886255</td><td>3359.727182</td><td>1880.938886</td><td>1331.170319</td><td>230.187152</td><td>1418.647875</td><td>117255.366125</td><td>2696.957</td><td>10248.166691</td><td>12585.153965</td><td>18579.152178</td><td>91.078878</td><td>62886.543299</td><td>2244.276183</td><td>4757.654717</td><td>1251.208811</td><td>310.714035</td><td>909.113309</td><td>32474.857137</td><td>4167.27924</td><td>1759.55599</td><td>485.762281</td><td>22222.459364</td><td>54.657484</td><td>982.869605</td><td>543.865108</td><td>385.320846</td><td>953.937948</td></tr><tr><td>&quot;max&quot;</td><td>23507.0</td><td>7751.0</td><td>23378.0</td><td>20141.0</td><td>19020.0</td><td>17849.0</td><td>17487.0</td><td>19950.0</td><td>18891.0</td><td>17781.0</td><td>17436.0</td><td>2169.0</td><td>11623.0</td><td>6837.0</td><td>6487.0</td><td>8218.0</td><td>13551.0</td><td>23507.0</td><td>1241.0</td><td>1530.0</td><td>1791.0</td><td>1871.0</td><td>1954.0</td><td>1200.0</td><td>1478.0</td><td>1437.0</td><td>1811.0</td><td>1723.0</td><td>1617.0</td><td>1545.0</td><td>1393.0</td><td>1293.0</td><td>1193.0</td><td>1139.0</td><td>700.0</td><td>663.0</td><td>&hellip;</td><td>1.2796e8</td><td>7.0898e7</td><td>6.8704e7</td><td>8.7079e6</td><td>1.0164e7</td><td>5.2694e7</td><td>98537.879231</td><td>43886.395799</td><td>62217.543041</td><td>2.1477e6</td><td>2.1443e6</td><td>1.3459e6</td><td>895523.577009</td><td>272687.971232</td><td>1.1006e6</td><td>5.8696e7</td><td>1.9230e6</td><td>5.4522e6</td><td>9.1193e6</td><td>8.5339e6</td><td>128411.834084</td><td>3.7197e7</td><td>2.9165e6</td><td>1.8141e6</td><td>1.0225e6</td><td>406708.260287</td><td>615838.990473</td><td>1.2478e7</td><td>2.3201e6</td><td>1.0707e6</td><td>653408.354038</td><td>9.9506e6</td><td>29234.466882</td><td>1.4912e6</td><td>1.2078e6</td><td>397905.142758</td><td>733300.179849</td></tr></tbody></table></div>"
      ],
      "text/plain": [
       "shape: (9, 978)\n",
       "┌───────────┬───────────┬───────────┬───────────┬───┬───────────┬───────────┬───────────┬──────────┐\n",
       "│ statistic ┆ ECYBASPOP ┆ ECYBASHHD ┆ ECYBASHPO ┆ … ┆ HSTR056   ┆ HSTR056A  ┆ HSTR056B  ┆ HSTR057  │\n",
       "│ ---       ┆ ---       ┆ ---       ┆ P         ┆   ┆ ---       ┆ ---       ┆ ---       ┆ ---      │\n",
       "│ str       ┆ f64       ┆ f64       ┆ ---       ┆   ┆ f64       ┆ f64       ┆ f64       ┆ f64      │\n",
       "│           ┆           ┆           ┆ f64       ┆   ┆           ┆           ┆           ┆          │\n",
       "╞═══════════╪═══════════╪═══════════╪═══════════╪═══╪═══════════╪═══════════╪═══════════╪══════════╡\n",
       "│ count     ┆ 705413.0  ┆ 705413.0  ┆ 705413.0  ┆ … ┆ 705413.0  ┆ 705413.0  ┆ 705413.0  ┆ 705413.0 │\n",
       "│ null_coun ┆ 0.0       ┆ 0.0       ┆ 0.0       ┆ … ┆ 0.0       ┆ 0.0       ┆ 0.0       ┆ 0.0      │\n",
       "│ t         ┆           ┆           ┆           ┆   ┆           ┆           ┆           ┆          │\n",
       "│ mean      ┆ 45.32736  ┆ 16.743865 ┆ 44.468185 ┆ … ┆ 1282.1699 ┆ 844.27796 ┆ 437.89196 ┆ 1060.324 │\n",
       "│           ┆           ┆           ┆           ┆   ┆ 32        ┆ 4         ┆ 8         ┆ 12       │\n",
       "│ std       ┆ 188.91811 ┆ 73.803066 ┆ 185.52809 ┆ … ┆ 7108.7454 ┆ 5491.3377 ┆ 2182.5702 ┆ 4375.568 │\n",
       "│           ┆ 1         ┆           ┆ 3         ┆   ┆ 39        ┆ 94        ┆ 42        ┆ 214      │\n",
       "│ min       ┆ 0.0       ┆ 0.0       ┆ 0.0       ┆ … ┆ 0.0       ┆ 0.0       ┆ 0.0       ┆ 0.0      │\n",
       "│ 25%       ┆ 7.0       ┆ 2.0       ┆ 7.0       ┆ … ┆ 74.057476 ┆ 32.985912 ┆ 19.649385 ┆ 73.11257 │\n",
       "│           ┆           ┆           ┆           ┆   ┆           ┆           ┆           ┆ 6        │\n",
       "│ 50%       ┆ 21.0      ┆ 8.0       ┆ 21.0      ┆ … ┆ 334.83569 ┆ 161.61233 ┆ 108.16535 ┆ 332.5609 │\n",
       "│           ┆           ┆           ┆           ┆   ┆ 6         ┆ 4         ┆ 6         ┆ 45       │\n",
       "│ 75%       ┆ 46.0      ┆ 17.0      ┆ 45.0      ┆ … ┆ 982.86960 ┆ 543.86510 ┆ 385.32084 ┆ 953.9379 │\n",
       "│           ┆           ┆           ┆           ┆   ┆ 5         ┆ 8         ┆ 6         ┆ 48       │\n",
       "│ max       ┆ 23507.0   ┆ 7751.0    ┆ 23378.0   ┆ … ┆ 1.4912e6  ┆ 1.2078e6  ┆ 397905.14 ┆ 733300.1 │\n",
       "│           ┆           ┆           ┆           ┆   ┆           ┆           ┆ 2758      ┆ 79849    │\n",
       "└───────────┴───────────┴───────────┴───────────┴───┴───────────┴───────────┴───────────┴──────────┘"
      ]
     },
     "execution_count": 42,
     "metadata": {},
     "output_type": "execute_result"
    }
   ],
   "source": [
    "# Drop any rows that contain straight 0's in all columns\n",
    "columns_to_check = [col for col in merged_df.columns if merged_df.schema[col] in (pl.Int64, pl.Float64)]\n",
    "merged_df = merged_df.filter(\n",
    "    ~pl.all_horizontal([pl.col(col) == 0 for col in columns_to_check])\n",
    ")\n",
    "\n",
    "# Drop any columns where the mean and std are both 0\n",
    "columns_to_drop = [\n",
    "    col for col in merged_df.columns\n",
    "    if merged_df.schema[col] in (pl.Int64, pl.Float64)\n",
    "    and merged_df[col].mean() == 0\n",
    "    and merged_df[col].std() == 0\n",
    "]\n",
    "merged_df = merged_df.drop(columns_to_drop)\n",
    "\n",
    "\n",
    "merged_df.describe()"
   ]
  },
  {
   "cell_type": "markdown",
   "metadata": {},
   "source": [
    "<h3>Correlated Variables</h3>\n",
    "<p>Now, we will be looking for correlated variables. We will be using the correlation matrix to find the correlation between the variables.</p>"
   ]
  },
  {
   "cell_type": "markdown",
   "metadata": {},
   "source": [
    "<p>Start by removing anything with the word retirement, pension, insurnace, premium\n",
    "except for target column calculation variable</p>\n",
    "<p>We do this because we are trying to predict the target variable, which is the total expenditure. We want to remove any variables that are correlated with the target variable, so that we can get a better prediction.</p>"
   ]
  },
  {
   "cell_type": "code",
   "execution_count": 43,
   "metadata": {},
   "outputs": [
    {
     "name": "stdout",
     "output_type": "stream",
     "text": [
      "Column not found: HSEP001\n",
      "Column not found: HSEP002\n",
      "Column not found: HSEP003\n",
      "Column not found: HSEP004\n",
      "Column not found: HSEP005\n",
      "Column not found: HSEP006\n",
      "Column not found: HSEP007\n",
      "Column not found: HSEP008\n",
      "Column not found: HSEP009\n",
      "Column not found: HSTR025\n",
      "Column not found: HSRV011\n"
     ]
    }
   ],
   "source": [
    "columns_to_drop = [\n",
    "    \"ECYINDFINA\", \"HSEP001\", \"HSSH006\", \"HSSH014\", \"HSSH019\", \"HSSH044\", \"HSEP002\",\n",
    "    \"HSEP003\", \"HSEP004\", \"HSEP005\", \"HSEP006\", \"HSEP007\", \"HSEP008\", \"HSEP009\",\n",
    "    \"HSHC022\", \"HSHC023\", \"HSHC024\", \"HSHC025\", \"HSTR025\", \"HSRV011\"\n",
    "]\n",
    "\n",
    "for col in columns_to_drop:\n",
    "    if col in merged_df.columns:\n",
    "        merged_df = merged_df.drop(col)\n",
    "    else:\n",
    "        print(f\"Column not found: {col}\")"
   ]
  },
  {
   "cell_type": "markdown",
   "metadata": {},
   "source": [
    "<p>Now, lets create a function to remove correlated variables. We will be using the correlation matrix to find the correlation between the variables.</p>"
   ]
  },
  {
   "cell_type": "code",
   "execution_count": 44,
   "metadata": {},
   "outputs": [
    {
     "name": "stderr",
     "output_type": "stream",
     "text": [
      "/Library/Frameworks/Python.framework/Versions/3.13/lib/python3.13/site-packages/numpy/lib/function_base.py:2897: RuntimeWarning: invalid value encountered in divide\n",
      "  c /= stddev[:, None]\n",
      "/Library/Frameworks/Python.framework/Versions/3.13/lib/python3.13/site-packages/numpy/lib/function_base.py:2898: RuntimeWarning: invalid value encountered in divide\n",
      "  c /= stddev[None, :]\n"
     ]
    },
    {
     "name": "stdout",
     "output_type": "stream",
     "text": [
      "Df Highly Correlated Variables: shape: (181, 3)\n",
      "┌────────────┬────────────┬─────────────┐\n",
      "│ var_1      ┆ var_2      ┆ correlation │\n",
      "│ ---        ┆ ---        ┆ ---         │\n",
      "│ str        ┆ str        ┆ f64         │\n",
      "╞════════════╪════════════╪═════════════╡\n",
      "│ ECYBASPOP  ┆ ECYPTAPOP  ┆ 1.0         │\n",
      "│ ECYBASHHD  ┆ ECYMTNHHD  ┆ 1.0         │\n",
      "│ ECYBASHHD  ┆ ECYHSZHHD  ┆ 1.0         │\n",
      "│ ECYBASHHD  ┆ ECYHTYHHD  ┆ 1.0         │\n",
      "│ ECYBASHHD  ┆ ECYTENHHD  ┆ 1.0         │\n",
      "│ …          ┆ …          ┆ …           │\n",
      "│ ECYGENHPOP ┆ ECYTCAHPOP ┆ 1.0         │\n",
      "│ HSSH001S   ┆ HSSH001    ┆ 1.0         │\n",
      "│ HSFD001S   ┆ HSFD001    ┆ 1.0         │\n",
      "│ HSHF001S   ┆ HSHF001    ┆ 1.0         │\n",
      "│ HSSH012    ┆ HSSH012B   ┆ 1.0         │\n",
      "└────────────┴────────────┴─────────────┘\n"
     ]
    }
   ],
   "source": [
    "def summarize_perfectly_correlated_vars(df):\n",
    "    numeric_df = df.select(pl.selectors.numeric())\n",
    "    corr_matrix = numeric_df.corr()\n",
    "    columns = numeric_df.columns\n",
    "\n",
    "    correlated_pairs = {\n",
    "        \"var_1\": [],\n",
    "        \"var_2\": [],\n",
    "        \"correlation\": []\n",
    "    }\n",
    "\n",
    "    for i in range(len(columns)):\n",
    "        for j in range(i + 1, len(columns)):\n",
    "            corr_value = corr_matrix.select(columns[j]).row(i)[0]\n",
    "            if corr_value == 1.0 or corr_value == -1.0:\n",
    "                correlated_pairs[\"var_1\"].append(columns[i])\n",
    "                correlated_pairs[\"var_2\"].append(columns[j])\n",
    "                correlated_pairs[\"correlation\"].append(corr_value)\n",
    "\n",
    "    return pl.DataFrame(correlated_pairs).sort(\"correlation\", descending=True)\n",
    "\n",
    "\n",
    "# Get highly correlated variables\n",
    "df_correlated = summarize_perfectly_correlated_vars(merged_df)\n",
    "print(\"Df Highly Correlated Variables:\", df_correlated)"
   ]
  },
  {
   "cell_type": "markdown",
   "metadata": {},
   "source": [
    "<p>We can see that certain variables are highly correlated with other variables, this is because we have a large number of aggregate variables that are derived from the same underlying data. To fix this, we will drop variables with a correlation count of over 1, since these can be determined as having redundancy.</p>"
   ]
  },
  {
   "cell_type": "code",
   "execution_count": 45,
   "metadata": {},
   "outputs": [
    {
     "name": "stdout",
     "output_type": "stream",
     "text": [
      "Dropped 44 highly correlated columns:\n",
      "['ECYAIDHPOP', 'ECYAIMHPOP', 'ECYAIMIM', 'ECYCDOBAND', 'ECYCDOHHD', 'ECYCHA1014', 'ECYCHAKIDS', 'ECYCHA_5_9', 'ECYCWHPL', 'ECYEDAHPWK', 'ECYEDUHP15', 'ECYGENHPOP', 'ECYHFSCF', 'ECYHNIAGG', 'ECYHNIAVG', 'ECYHNIHHD', 'ECYHOMHPOP', 'ECYHRIHHD', 'ECYHSZHHD', 'ECYHSZTPER', 'ECYHTAHPOP', 'ECYHTYFHT', 'ECYHTYHHD', 'ECYKNOHPOP', 'ECYMOTHPOP', 'ECYMTNHHD', 'ECYOCCINLF', 'ECYPIMHPOP', 'ECYPOCHHD', 'ECYPTAPOP', 'ECYRELHPOP', 'ECYRIMHPOP', 'ECYSTYHHD', 'ECYTCAHPOP', 'ECYTENHHD', 'ECYTIMHPOP', 'ECYTRAHPL', 'ECYVISHPOP', 'HSBASHHD', 'HSFD001', 'HSHF001', 'HSHNIAGG', 'HSSH001', 'HSSH012B']\n",
      "Remaining strong correlations:\n",
      "shape: (2, 3)\n",
      "┌────────────┬───────────┬─────────────┐\n",
      "│ var_1      ┆ var_2     ┆ correlation │\n",
      "│ ---        ┆ ---       ┆ ---         │\n",
      "│ str        ┆ str       ┆ f64         │\n",
      "╞════════════╪═══════════╪═════════════╡\n",
      "│ ECYACTHPL  ┆ ECYOCCHPL ┆ 1.0         │\n",
      "│ ECYACTINLF ┆ ECYCWT    ┆ 1.0         │\n",
      "└────────────┴───────────┴─────────────┘\n"
     ]
    }
   ],
   "source": [
    "def remove_perfectly_correlated_columns(df: pl.DataFrame) -> tuple[pl.DataFrame, list[str]]:\n",
    "    numeric_df = df.select(pl.selectors.numeric())\n",
    "    corr_matrix = numeric_df.corr()\n",
    "    columns = numeric_df.columns\n",
    "    to_drop = set()\n",
    "\n",
    "    for i in range(len(columns)):\n",
    "        for j in range(i + 1, len(columns)):\n",
    "            corr_val = corr_matrix.select(columns[j]).row(i)[0]\n",
    "            if corr_val == 1.0 or corr_val == -1.0:\n",
    "                to_drop.add(columns[j])\n",
    "\n",
    "    cleaned_df = df.drop(to_drop)\n",
    "    return cleaned_df, sorted(to_drop)\n",
    "\n",
    "\n",
    "merged_df, dropped_columns = remove_perfectly_correlated_columns(merged_df)\n",
    "print(f\"Dropped {len(dropped_columns)} highly correlated columns:\")\n",
    "print(dropped_columns)\n",
    "\n",
    "# Optional: Check remaining strong correlations\n",
    "remaining_corrs = summarize_perfectly_correlated_vars(merged_df)\n",
    "print(\"Remaining strong correlations:\")\n",
    "print(remaining_corrs)"
   ]
  },
  {
   "cell_type": "markdown",
   "metadata": {},
   "source": [
    "<p>Now the max correlation count is 19, which is much better. We can see that there are still some variables that are highly correlated with other variables, but we will not drop them for now, as they are not too many.</p>"
   ]
  },
  {
   "cell_type": "code",
   "execution_count": 46,
   "metadata": {},
   "outputs": [
    {
     "name": "stdout",
     "output_type": "stream",
     "text": [
      "Mean: 45.32736000045364\n",
      "Median: 21.0\n",
      "Std Dev: 188.91811063620221\n",
      "Min: 0\n",
      "Max: 23507\n"
     ]
    }
   ],
   "source": [
    "col = merged_df.select(\"ECYBASPOP\").to_series()\n",
    "print(\"Mean:\", col.mean())\n",
    "print(\"Median:\", col.median())\n",
    "print(\"Std Dev:\", col.std())\n",
    "print(\"Min:\", col.min())\n",
    "print(\"Max:\", col.max())"
   ]
  },
  {
   "cell_type": "markdown",
   "metadata": {},
   "source": [
    "<h3>Outliers</h3>"
   ]
  },
  {
   "cell_type": "code",
   "execution_count": null,
   "metadata": {},
   "outputs": [
    {
     "data": {
      "text/html": [
       "<div><style>\n",
       ".dataframe > thead > tr,\n",
       ".dataframe > tbody > tr {\n",
       "  text-align: right;\n",
       "  white-space: pre-wrap;\n",
       "}\n",
       "</style>\n",
       "<small>shape: (9, 925)</small><table border=\"1\" class=\"dataframe\"><thead><tr><th>statistic</th><th>ECYBASPOP</th><th>ECYBASHHD</th><th>ECYBASHPOP</th><th>ECYBAS12P</th><th>ECYBAS15P</th><th>ECYBAS18P</th><th>ECYBAS19P</th><th>ECYBAS12HP</th><th>ECYBAS15HP</th><th>ECYBAS18HP</th><th>ECYBAS19HP</th><th>ECYBASTNGH</th><th>ECYBASADUH</th><th>ECYBASCF</th><th>ECYBASCFH</th><th>ECYBASKID</th><th>ECYBASLF</th><th>ECYPTA_0_4</th><th>ECYPTA_5_9</th><th>ECYPTA1014</th><th>ECYPTA1519</th><th>ECYPTA2024</th><th>ECYPTA2529</th><th>ECYPTA3034</th><th>ECYPTA3539</th><th>ECYPTA4044</th><th>ECYPTA4549</th><th>ECYPTA5054</th><th>ECYPTA5559</th><th>ECYPTA6064</th><th>ECYPTA6569</th><th>ECYPTA7074</th><th>ECYPTA7579</th><th>ECYPTA8084</th><th>ECYPTA85P</th><th>ECYPTAAVG</th><th>&hellip;</th><th>HSTR002</th><th>HSTR003</th><th>HSTR004</th><th>HSTR005</th><th>HSTR006</th><th>HSTR007</th><th>HSTR008</th><th>HSTR009</th><th>HSTR058</th><th>HSTR010</th><th>HSTR011</th><th>HSTR012</th><th>HSTR014M</th><th>HSTR015</th><th>HSTR020</th><th>HSTR030</th><th>HSTR031</th><th>HSTR032</th><th>HSTR033</th><th>HSTR034</th><th>HSTR035</th><th>HSTR036</th><th>HSTR037</th><th>HSTR038</th><th>HSTR039</th><th>HSTR040</th><th>HSTR041</th><th>HSTR050</th><th>HSTR051</th><th>HSTR052</th><th>HSTR053</th><th>HSTR054</th><th>HSTR055</th><th>HSTR056</th><th>HSTR056A</th><th>HSTR056B</th><th>HSTR057</th></tr><tr><td>str</td><td>f64</td><td>f64</td><td>f64</td><td>f64</td><td>f64</td><td>f64</td><td>f64</td><td>f64</td><td>f64</td><td>f64</td><td>f64</td><td>f64</td><td>f64</td><td>f64</td><td>f64</td><td>f64</td><td>f64</td><td>f64</td><td>f64</td><td>f64</td><td>f64</td><td>f64</td><td>f64</td><td>f64</td><td>f64</td><td>f64</td><td>f64</td><td>f64</td><td>f64</td><td>f64</td><td>f64</td><td>f64</td><td>f64</td><td>f64</td><td>f64</td><td>f64</td><td>&hellip;</td><td>f64</td><td>f64</td><td>f64</td><td>f64</td><td>f64</td><td>f64</td><td>f64</td><td>f64</td><td>f64</td><td>f64</td><td>f64</td><td>f64</td><td>f64</td><td>f64</td><td>f64</td><td>f64</td><td>f64</td><td>f64</td><td>f64</td><td>f64</td><td>f64</td><td>f64</td><td>f64</td><td>f64</td><td>f64</td><td>f64</td><td>f64</td><td>f64</td><td>f64</td><td>f64</td><td>f64</td><td>f64</td><td>f64</td><td>f64</td><td>f64</td><td>f64</td><td>f64</td></tr></thead><tbody><tr><td>&quot;count&quot;</td><td>705413.0</td><td>705413.0</td><td>705413.0</td><td>705413.0</td><td>705413.0</td><td>705413.0</td><td>705413.0</td><td>705413.0</td><td>705413.0</td><td>705413.0</td><td>705413.0</td><td>705413.0</td><td>705413.0</td><td>705413.0</td><td>705413.0</td><td>705413.0</td><td>705413.0</td><td>705413.0</td><td>705413.0</td><td>705413.0</td><td>705413.0</td><td>705413.0</td><td>705413.0</td><td>705413.0</td><td>705413.0</td><td>705413.0</td><td>705413.0</td><td>705413.0</td><td>705413.0</td><td>705413.0</td><td>705413.0</td><td>705413.0</td><td>705413.0</td><td>705413.0</td><td>705413.0</td><td>705413.0</td><td>&hellip;</td><td>705413.0</td><td>705413.0</td><td>705413.0</td><td>705413.0</td><td>705413.0</td><td>705413.0</td><td>705413.0</td><td>705413.0</td><td>705413.0</td><td>705413.0</td><td>705413.0</td><td>705413.0</td><td>705413.0</td><td>705413.0</td><td>705413.0</td><td>705413.0</td><td>705413.0</td><td>705413.0</td><td>705413.0</td><td>705413.0</td><td>705413.0</td><td>705413.0</td><td>705413.0</td><td>705413.0</td><td>705413.0</td><td>705413.0</td><td>705413.0</td><td>705413.0</td><td>705413.0</td><td>705413.0</td><td>705413.0</td><td>705413.0</td><td>705413.0</td><td>705413.0</td><td>705413.0</td><td>705413.0</td><td>705413.0</td></tr><tr><td>&quot;null_count&quot;</td><td>0.0</td><td>0.0</td><td>0.0</td><td>0.0</td><td>0.0</td><td>0.0</td><td>0.0</td><td>0.0</td><td>0.0</td><td>0.0</td><td>0.0</td><td>0.0</td><td>0.0</td><td>0.0</td><td>0.0</td><td>0.0</td><td>0.0</td><td>0.0</td><td>0.0</td><td>0.0</td><td>0.0</td><td>0.0</td><td>0.0</td><td>0.0</td><td>0.0</td><td>0.0</td><td>0.0</td><td>0.0</td><td>0.0</td><td>0.0</td><td>0.0</td><td>0.0</td><td>0.0</td><td>0.0</td><td>0.0</td><td>0.0</td><td>&hellip;</td><td>0.0</td><td>0.0</td><td>0.0</td><td>0.0</td><td>0.0</td><td>0.0</td><td>0.0</td><td>0.0</td><td>0.0</td><td>0.0</td><td>0.0</td><td>0.0</td><td>0.0</td><td>0.0</td><td>0.0</td><td>0.0</td><td>0.0</td><td>0.0</td><td>0.0</td><td>0.0</td><td>0.0</td><td>0.0</td><td>0.0</td><td>0.0</td><td>0.0</td><td>0.0</td><td>0.0</td><td>0.0</td><td>0.0</td><td>0.0</td><td>0.0</td><td>0.0</td><td>0.0</td><td>0.0</td><td>0.0</td><td>0.0</td><td>0.0</td></tr><tr><td>&quot;mean&quot;</td><td>36.853728</td><td>13.390866</td><td>36.149296</td><td>32.425028</td><td>31.067292</td><td>29.57896</td><td>29.149253</td><td>31.663759</td><td>30.391116</td><td>29.075917</td><td>28.631165</td><td>2.577869</td><td>19.26252</td><td>10.352761</td><td>9.72157</td><td>10.720034</td><td>19.776332</td><td>1.714048</td><td>1.96543</td><td>2.075069</td><td>2.243182</td><td>2.541625</td><td>2.457742</td><td>2.545</td><td>2.53801</td><td>2.534572</td><td>2.347114</td><td>2.266864</td><td>2.27026</td><td>2.402055</td><td>2.14231</td><td>1.709784</td><td>1.319539</td><td>0.808716</td><td>0.704499</td><td>36.63636</td><td>&hellip;</td><td>195221.483814</td><td>98398.66887</td><td>95030.382468</td><td>12020.38213</td><td>7202.570202</td><td>75701.503357</td><td>155.187595</td><td>69.880295</td><td>84.323625</td><td>3156.359329</td><td>2936.258493</td><td>1671.875853</td><td>1255.389232</td><td>213.86594</td><td>1232.600226</td><td>95379.942867</td><td>2546.694038</td><td>8353.245138</td><td>10214.581872</td><td>14874.382624</td><td>83.462288</td><td>52020.447515</td><td>2159.181569</td><td>3810.037733</td><td>1040.143238</td><td>269.817246</td><td>766.627591</td><td>27519.245804</td><td>3844.24748</td><td>1513.136094</td><td>658.752551</td><td>19211.35806</td><td>44.877305</td><td>1050.338359</td><td>669.812117</td><td>361.438796</td><td>899.202262</td></tr><tr><td>&quot;std&quot;</td><td>48.474802</td><td>17.907981</td><td>47.488948</td><td>42.061971</td><td>40.320502</td><td>38.620772</td><td>38.08785</td><td>41.193608</td><td>39.344886</td><td>37.759076</td><td>37.151748</td><td>3.773563</td><td>25.87842</td><td>13.492689</td><td>12.65441</td><td>15.048751</td><td>26.41365</td><td>2.719788</td><td>3.034307</td><td>3.123035</td><td>3.157107</td><td>3.638436</td><td>3.6533</td><td>3.802352</td><td>3.774868</td><td>3.660538</td><td>3.317733</td><td>3.122279</td><td>3.04128</td><td>3.152312</td><td>2.842216</td><td>2.369307</td><td>2.002962</td><td>1.384916</td><td>1.550369</td><td>15.427472</td><td>&hellip;</td><td>271249.981664</td><td>140182.137314</td><td>135328.985415</td><td>17541.490981</td><td>11167.992284</td><td>109573.096046</td><td>247.54053</td><td>109.576505</td><td>160.333326</td><td>5040.4216</td><td>4743.08852</td><td>2774.270494</td><td>2170.087094</td><td>398.678899</td><td>2034.306637</td><td>130516.299588</td><td>4637.88393</td><td>11818.403</td><td>14904.45221</td><td>20451.094782</td><td>142.37286</td><td>72248.548317</td><td>3833.662378</td><td>5773.620513</td><td>1562.713186</td><td>444.620315</td><td>1185.986715</td><td>44113.546765</td><td>6928.363304</td><td>2522.074967</td><td>1609.235474</td><td>31460.047037</td><td>70.70141</td><td>2368.089479</td><td>1713.741537</td><td>676.277297</td><td>1568.393005</td></tr><tr><td>&quot;min&quot;</td><td>0.0</td><td>0.0</td><td>0.0</td><td>0.0</td><td>0.0</td><td>0.0</td><td>0.0</td><td>0.0</td><td>0.0</td><td>0.0</td><td>0.0</td><td>0.0</td><td>0.0</td><td>0.0</td><td>0.0</td><td>0.0</td><td>0.0</td><td>0.0</td><td>0.0</td><td>0.0</td><td>0.0</td><td>0.0</td><td>0.0</td><td>0.0</td><td>0.0</td><td>0.0</td><td>0.0</td><td>0.0</td><td>0.0</td><td>0.0</td><td>0.0</td><td>0.0</td><td>0.0</td><td>0.0</td><td>0.0</td><td>0.0</td><td>&hellip;</td><td>0.0</td><td>0.0</td><td>0.0</td><td>0.0</td><td>0.0</td><td>0.0</td><td>0.0</td><td>0.0</td><td>0.0</td><td>0.0</td><td>0.0</td><td>0.0</td><td>0.0</td><td>0.0</td><td>0.0</td><td>0.0</td><td>0.0</td><td>0.0</td><td>0.0</td><td>0.0</td><td>0.0</td><td>0.0</td><td>0.0</td><td>0.0</td><td>0.0</td><td>0.0</td><td>0.0</td><td>0.0</td><td>0.0</td><td>0.0</td><td>0.0</td><td>0.0</td><td>0.0</td><td>0.0</td><td>0.0</td><td>0.0</td><td>0.0</td></tr><tr><td>&quot;25%&quot;</td><td>7.0</td><td>2.0</td><td>7.0</td><td>7.0</td><td>6.0</td><td>6.0</td><td>5.0</td><td>6.0</td><td>6.0</td><td>5.0</td><td>5.0</td><td>0.0</td><td>3.0</td><td>2.0</td><td>2.0</td><td>2.0</td><td>3.0</td><td>0.0</td><td>0.0</td><td>0.0</td><td>0.0</td><td>0.0</td><td>0.0</td><td>0.0</td><td>0.0</td><td>0.0</td><td>0.0</td><td>0.0</td><td>0.0</td><td>0.0</td><td>0.0</td><td>0.0</td><td>0.0</td><td>0.0</td><td>0.0</td><td>34.8</td><td>&hellip;</td><td>31488.355329</td><td>14975.917483</td><td>14505.912216</td><td>1608.751972</td><td>879.079488</td><td>11220.396504</td><td>18.31901</td><td>8.164323</td><td>6.484386</td><td>334.257865</td><td>300.083587</td><td>155.60416</td><td>106.014077</td><td>5.942837</td><td>94.476256</td><td>15840.037795</td><td>279.226227</td><td>1096.58118</td><td>1493.554882</td><td>2317.824356</td><td>7.673026</td><td>8583.783029</td><td>185.387623</td><td>350.698522</td><td>130.961346</td><td>32.855826</td><td>79.160432</td><td>2419.35573</td><td>112.544473</td><td>130.96451</td><td>29.842252</td><td>1590.111588</td><td>4.653525</td><td>74.057476</td><td>32.985912</td><td>19.649385</td><td>73.112576</td></tr><tr><td>&quot;50%&quot;</td><td>21.0</td><td>8.0</td><td>21.0</td><td>19.0</td><td>18.0</td><td>18.0</td><td>17.0</td><td>19.0</td><td>18.0</td><td>17.0</td><td>17.0</td><td>1.0</td><td>11.0</td><td>6.0</td><td>6.0</td><td>5.0</td><td>11.0</td><td>1.0</td><td>1.0</td><td>1.0</td><td>1.0</td><td>1.0</td><td>1.0</td><td>1.0</td><td>1.0</td><td>1.0</td><td>1.0</td><td>1.0</td><td>1.0</td><td>2.0</td><td>1.0</td><td>1.0</td><td>1.0</td><td>0.0</td><td>0.0</td><td>40.5</td><td>&hellip;</td><td>105113.299117</td><td>50424.259559</td><td>48777.139385</td><td>5766.445885</td><td>3184.99291</td><td>38228.386647</td><td>66.506883</td><td>30.284835</td><td>26.907546</td><td>1275.98947</td><td>1161.400862</td><td>630.276505</td><td>437.331856</td><td>51.53722</td><td>461.651601</td><td>52667.121225</td><td>974.238949</td><td>4223.652839</td><td>5156.948175</td><td>7985.776464</td><td>31.89595</td><td>28168.767776</td><td>764.125249</td><td>1629.859816</td><td>473.377044</td><td>114.442908</td><td>327.580824</td><td>10553.253149</td><td>962.565825</td><td>621.315686</td><td>148.312624</td><td>7054.825849</td><td>20.609407</td><td>334.835696</td><td>161.612334</td><td>108.165356</td><td>332.560945</td></tr><tr><td>&quot;75%&quot;</td><td>46.0</td><td>17.0</td><td>45.0</td><td>40.0</td><td>39.0</td><td>37.0</td><td>37.0</td><td>39.0</td><td>38.0</td><td>37.0</td><td>36.0</td><td>3.0</td><td>24.0</td><td>13.0</td><td>12.0</td><td>13.0</td><td>24.0</td><td>2.0</td><td>3.0</td><td>3.0</td><td>3.0</td><td>3.0</td><td>3.0</td><td>3.0</td><td>3.0</td><td>3.0</td><td>3.0</td><td>3.0</td><td>3.0</td><td>3.0</td><td>3.0</td><td>2.0</td><td>2.0</td><td>1.0</td><td>1.0</td><td>45.1</td><td>&hellip;</td><td>238691.419685</td><td>119576.882682</td><td>115472.718612</td><td>14770.506068</td><td>8478.611818</td><td>91039.719153</td><td>181.521088</td><td>79.770642</td><td>85.089739</td><td>3640.886255</td><td>3359.727182</td><td>1880.938886</td><td>1331.170319</td><td>230.187152</td><td>1418.647875</td><td>117255.366125</td><td>2696.957</td><td>10248.166691</td><td>12585.153965</td><td>18579.152178</td><td>91.078878</td><td>62886.543299</td><td>2244.276183</td><td>4757.654717</td><td>1251.208811</td><td>310.714035</td><td>909.113309</td><td>32474.857137</td><td>4167.27924</td><td>1759.55599</td><td>485.762281</td><td>22222.459364</td><td>54.657484</td><td>982.869605</td><td>543.865108</td><td>385.320846</td><td>953.937948</td></tr><tr><td>&quot;max&quot;</td><td>304.0</td><td>119.0</td><td>295.0</td><td>266.0</td><td>255.0</td><td>244.0</td><td>241.0</td><td>258.0</td><td>247.0</td><td>237.0</td><td>233.0</td><td>22.0</td><td>160.0</td><td>84.0</td><td>79.0</td><td>88.0</td><td>160.0</td><td>16.0</td><td>18.0</td><td>18.0</td><td>19.0</td><td>22.0</td><td>23.0</td><td>24.0</td><td>23.0</td><td>22.0</td><td>19.0</td><td>18.0</td><td>18.0</td><td>19.0</td><td>18.0</td><td>15.0</td><td>13.0</td><td>9.0</td><td>11.0</td><td>65.0</td><td>&hellip;</td><td>1.7225e6</td><td>884978.908835</td><td>854481.996348</td><td>108025.796747</td><td>68150.054316</td><td>697194.034967</td><td>1577.90897</td><td>661.883562</td><td>1052.632465</td><td>30289.380371</td><td>28537.098303</td><td>16749.132746</td><td>13069.045084</td><td>2429.470944</td><td>12649.412158</td><td>826913.087629</td><td>30672.00639</td><td>71775.636474</td><td>95385.749635</td><td>126887.980187</td><td>897.514891</td><td>458016.988672</td><td>23199.641068</td><td>35319.309163</td><td>9416.680098</td><td>2765.885229</td><td>7063.331396</td><td>267111.96809</td><td>39679.988345</td><td>16411.682247</td><td>11286.139072</td><td>190163.936624</td><td>461.459791</td><td>17392.641102</td><td>12806.882998</td><td>4369.161105</td><td>9642.900819</td></tr></tbody></table></div>"
      ],
      "text/plain": [
       "shape: (9, 925)\n",
       "┌───────────┬───────────┬───────────┬───────────┬───┬───────────┬───────────┬───────────┬──────────┐\n",
       "│ statistic ┆ ECYBASPOP ┆ ECYBASHHD ┆ ECYBASHPO ┆ … ┆ HSTR056   ┆ HSTR056A  ┆ HSTR056B  ┆ HSTR057  │\n",
       "│ ---       ┆ ---       ┆ ---       ┆ P         ┆   ┆ ---       ┆ ---       ┆ ---       ┆ ---      │\n",
       "│ str       ┆ f64       ┆ f64       ┆ ---       ┆   ┆ f64       ┆ f64       ┆ f64       ┆ f64      │\n",
       "│           ┆           ┆           ┆ f64       ┆   ┆           ┆           ┆           ┆          │\n",
       "╞═══════════╪═══════════╪═══════════╪═══════════╪═══╪═══════════╪═══════════╪═══════════╪══════════╡\n",
       "│ count     ┆ 705413.0  ┆ 705413.0  ┆ 705413.0  ┆ … ┆ 705413.0  ┆ 705413.0  ┆ 705413.0  ┆ 705413.0 │\n",
       "│ null_coun ┆ 0.0       ┆ 0.0       ┆ 0.0       ┆ … ┆ 0.0       ┆ 0.0       ┆ 0.0       ┆ 0.0      │\n",
       "│ t         ┆           ┆           ┆           ┆   ┆           ┆           ┆           ┆          │\n",
       "│ mean      ┆ 36.853728 ┆ 13.390866 ┆ 36.149296 ┆ … ┆ 1050.3383 ┆ 669.81211 ┆ 361.43879 ┆ 899.2022 │\n",
       "│           ┆           ┆           ┆           ┆   ┆ 59        ┆ 7         ┆ 6         ┆ 62       │\n",
       "│ std       ┆ 48.474802 ┆ 17.907981 ┆ 47.488948 ┆ … ┆ 2368.0894 ┆ 1713.7415 ┆ 676.27729 ┆ 1568.393 │\n",
       "│           ┆           ┆           ┆           ┆   ┆ 79        ┆ 37        ┆ 7         ┆ 005      │\n",
       "│ min       ┆ 0.0       ┆ 0.0       ┆ 0.0       ┆ … ┆ 0.0       ┆ 0.0       ┆ 0.0       ┆ 0.0      │\n",
       "│ 25%       ┆ 7.0       ┆ 2.0       ┆ 7.0       ┆ … ┆ 74.057476 ┆ 32.985912 ┆ 19.649385 ┆ 73.11257 │\n",
       "│           ┆           ┆           ┆           ┆   ┆           ┆           ┆           ┆ 6        │\n",
       "│ 50%       ┆ 21.0      ┆ 8.0       ┆ 21.0      ┆ … ┆ 334.83569 ┆ 161.61233 ┆ 108.16535 ┆ 332.5609 │\n",
       "│           ┆           ┆           ┆           ┆   ┆ 6         ┆ 4         ┆ 6         ┆ 45       │\n",
       "│ 75%       ┆ 46.0      ┆ 17.0      ┆ 45.0      ┆ … ┆ 982.86960 ┆ 543.86510 ┆ 385.32084 ┆ 953.9379 │\n",
       "│           ┆           ┆           ┆           ┆   ┆ 5         ┆ 8         ┆ 6         ┆ 48       │\n",
       "│ max       ┆ 304.0     ┆ 119.0     ┆ 295.0     ┆ … ┆ 17392.641 ┆ 12806.882 ┆ 4369.1611 ┆ 9642.900 │\n",
       "│           ┆           ┆           ┆           ┆   ┆ 102       ┆ 998       ┆ 05        ┆ 819      │\n",
       "└───────────┴───────────┴───────────┴───────────┴───┴───────────┴───────────┴───────────┴──────────┘"
      ]
     },
     "execution_count": 76,
     "metadata": {},
     "output_type": "execute_result"
    }
   ],
   "source": [
    "# # Apply log x + 1 transformation\n",
    "# def log_transform(df: pl.DataFrame) -> pl.DataFrame:\n",
    "#     # Convert to Pandas\n",
    "#     df_pd = df.to_pandas()\n",
    "\n",
    "#     for col in df_pd.columns:\n",
    "#         if pd.api.types.is_numeric_dtype(df_pd[col]):\n",
    "#             if (df_pd[col] <= -1).any():\n",
    "#                 print(f\"Skipping log transformation for '{col}' due to non-positive values.\")\n",
    "#                 continue\n",
    "#             print(f\"Applying log transformation to '{col}'\")\n",
    "#             df_pd[col] = np.log(df_pd[col] + 1)\n",
    "\n",
    "#     # Back to Polars\n",
    "#     return pl.from_pandas(df_pd)\n",
    "\n",
    "\n",
    "# cleaned_df = log_transform(merged_df)\n",
    "# cleaned_df.describe()\n",
    "\n",
    "def windsorize_at_percentile(\n",
    "    pl_df: pl.DataFrame,\n",
    "    upper_percentile: float = 0.995\n",
    ") -> pl.DataFrame:\n",
    "    \"\"\"\n",
    "    Caps (Windsorizes) numeric columns at the specified upper percentile.\n",
    "    Values above that percentile are clipped down to the percentile value.\n",
    "    \"\"\"\n",
    "\n",
    "    # Convert Polars -> Pandas\n",
    "    df = pl_df.to_pandas()\n",
    "\n",
    "    # Identify numeric columns\n",
    "    numeric_cols = df.select_dtypes(include=[np.number]).columns\n",
    "\n",
    "    # For each numeric column, cap at the specified percentile\n",
    "    for col in numeric_cols:\n",
    "        upper_cap = df[col].quantile(upper_percentile)\n",
    "        df[col] = df[col].clip(upper=upper_cap)\n",
    "\n",
    "    # Convert back to Polars\n",
    "    return pl.DataFrame(df)\n",
    "\n",
    "cleaned_df = windsorize_at_percentile(merged_df)\n",
    "cleaned_df.describe()"
   ]
  },
  {
   "cell_type": "markdown",
   "metadata": {},
   "source": [
    "<h3>Final Statistics</h3>"
   ]
  },
  {
   "cell_type": "code",
   "execution_count": 77,
   "metadata": {},
   "outputs": [
    {
     "name": "stdout",
     "output_type": "stream",
     "text": [
      "Width: 924\n",
      "Height: 705413\n"
     ]
    }
   ],
   "source": [
    "print(f\"Width: {cleaned_df.width}\")\n",
    "print(f\"Height: {cleaned_df.height}\")"
   ]
  },
  {
   "cell_type": "markdown",
   "metadata": {},
   "source": [
    "<h1>Part 1: Clustering and Dimensionality Reduction</h1>\n",
    "\n",
    "The first part of the coursework will focus\n",
    "on identifying the characteristics of Canadian households, excluding their pension\n",
    "behaviour. For this, do not include, in your clustering and dimensionality reduction models,\n",
    "the target of the regression model in Part 2."
   ]
  },
  {
   "cell_type": "markdown",
   "metadata": {},
   "source": [
    "<h2>Clustering</h2>\n",
    "<p>We will be using the KMeans clustering algorithm to cluster the data. We will be using the elbow method, in contrast with the silhouette method to find the optimal number of clusters.</p>"
   ]
  },
  {
   "cell_type": "markdown",
   "metadata": {},
   "source": [
    "<h3>Scaling</h3>"
   ]
  },
  {
   "cell_type": "code",
   "execution_count": 78,
   "metadata": {},
   "outputs": [
    {
     "data": {
      "text/html": [
       "<div>\n",
       "<style scoped>\n",
       "    .dataframe tbody tr th:only-of-type {\n",
       "        vertical-align: middle;\n",
       "    }\n",
       "\n",
       "    .dataframe tbody tr th {\n",
       "        vertical-align: top;\n",
       "    }\n",
       "\n",
       "    .dataframe thead th {\n",
       "        text-align: right;\n",
       "    }\n",
       "</style>\n",
       "<table border=\"1\" class=\"dataframe\">\n",
       "  <thead>\n",
       "    <tr style=\"text-align: right;\">\n",
       "      <th></th>\n",
       "      <th>ECYBASPOP</th>\n",
       "      <th>ECYBASHHD</th>\n",
       "      <th>ECYBASHPOP</th>\n",
       "      <th>ECYBAS12P</th>\n",
       "      <th>ECYBAS15P</th>\n",
       "      <th>ECYBAS18P</th>\n",
       "      <th>ECYBAS19P</th>\n",
       "      <th>ECYBAS12HP</th>\n",
       "      <th>ECYBAS15HP</th>\n",
       "      <th>ECYBAS18HP</th>\n",
       "      <th>...</th>\n",
       "      <th>HSTR050</th>\n",
       "      <th>HSTR051</th>\n",
       "      <th>HSTR052</th>\n",
       "      <th>HSTR053</th>\n",
       "      <th>HSTR054</th>\n",
       "      <th>HSTR055</th>\n",
       "      <th>HSTR056</th>\n",
       "      <th>HSTR056A</th>\n",
       "      <th>HSTR056B</th>\n",
       "      <th>HSTR057</th>\n",
       "    </tr>\n",
       "  </thead>\n",
       "  <tbody>\n",
       "    <tr>\n",
       "      <th>0</th>\n",
       "      <td>-0.760266</td>\n",
       "      <td>-0.747760</td>\n",
       "      <td>-0.761215</td>\n",
       "      <td>-0.770888</td>\n",
       "      <td>-0.770509</td>\n",
       "      <td>-0.765883</td>\n",
       "      <td>-0.765317</td>\n",
       "      <td>-0.768658</td>\n",
       "      <td>-0.772429</td>\n",
       "      <td>-0.770038</td>\n",
       "      <td>...</td>\n",
       "      <td>-0.623828</td>\n",
       "      <td>-0.554857</td>\n",
       "      <td>-0.599957</td>\n",
       "      <td>-0.409358</td>\n",
       "      <td>-0.610659</td>\n",
       "      <td>-0.634745</td>\n",
       "      <td>-0.443539</td>\n",
       "      <td>-0.390848</td>\n",
       "      <td>-0.534454</td>\n",
       "      <td>-0.573328</td>\n",
       "    </tr>\n",
       "    <tr>\n",
       "      <th>1</th>\n",
       "      <td>0.374345</td>\n",
       "      <td>1.094995</td>\n",
       "      <td>0.396950</td>\n",
       "      <td>0.536708</td>\n",
       "      <td>0.593562</td>\n",
       "      <td>0.658222</td>\n",
       "      <td>0.678714</td>\n",
       "      <td>0.566502</td>\n",
       "      <td>0.625466</td>\n",
       "      <td>0.686566</td>\n",
       "      <td>...</td>\n",
       "      <td>0.289775</td>\n",
       "      <td>-0.522417</td>\n",
       "      <td>-0.339325</td>\n",
       "      <td>2.163252</td>\n",
       "      <td>0.433749</td>\n",
       "      <td>-0.344626</td>\n",
       "      <td>0.272192</td>\n",
       "      <td>0.269903</td>\n",
       "      <td>0.297392</td>\n",
       "      <td>-0.122123</td>\n",
       "    </tr>\n",
       "    <tr>\n",
       "      <th>2</th>\n",
       "      <td>5.511038</td>\n",
       "      <td>5.897326</td>\n",
       "      <td>5.450761</td>\n",
       "      <td>5.553119</td>\n",
       "      <td>5.553821</td>\n",
       "      <td>5.551965</td>\n",
       "      <td>5.562165</td>\n",
       "      <td>5.494454</td>\n",
       "      <td>5.505392</td>\n",
       "      <td>5.506603</td>\n",
       "      <td>...</td>\n",
       "      <td>5.431277</td>\n",
       "      <td>0.058880</td>\n",
       "      <td>3.978882</td>\n",
       "      <td>6.604002</td>\n",
       "      <td>5.433962</td>\n",
       "      <td>2.987311</td>\n",
       "      <td>4.659558</td>\n",
       "      <td>4.329506</td>\n",
       "      <td>5.373067</td>\n",
       "      <td>5.574945</td>\n",
       "    </tr>\n",
       "    <tr>\n",
       "      <th>3</th>\n",
       "      <td>5.511038</td>\n",
       "      <td>5.897326</td>\n",
       "      <td>5.450761</td>\n",
       "      <td>5.553119</td>\n",
       "      <td>5.553821</td>\n",
       "      <td>5.551965</td>\n",
       "      <td>5.562165</td>\n",
       "      <td>5.494454</td>\n",
       "      <td>5.505392</td>\n",
       "      <td>5.506603</td>\n",
       "      <td>...</td>\n",
       "      <td>5.431277</td>\n",
       "      <td>1.561261</td>\n",
       "      <td>5.907262</td>\n",
       "      <td>6.604002</td>\n",
       "      <td>5.433962</td>\n",
       "      <td>5.892142</td>\n",
       "      <td>6.901054</td>\n",
       "      <td>7.082211</td>\n",
       "      <td>5.926157</td>\n",
       "      <td>5.574945</td>\n",
       "    </tr>\n",
       "    <tr>\n",
       "      <th>4</th>\n",
       "      <td>5.511038</td>\n",
       "      <td>5.897326</td>\n",
       "      <td>5.450761</td>\n",
       "      <td>5.553119</td>\n",
       "      <td>5.553821</td>\n",
       "      <td>5.551965</td>\n",
       "      <td>5.562165</td>\n",
       "      <td>5.494454</td>\n",
       "      <td>5.505392</td>\n",
       "      <td>5.506603</td>\n",
       "      <td>...</td>\n",
       "      <td>5.280117</td>\n",
       "      <td>-0.165939</td>\n",
       "      <td>3.177511</td>\n",
       "      <td>6.604002</td>\n",
       "      <td>5.433962</td>\n",
       "      <td>1.695637</td>\n",
       "      <td>3.284884</td>\n",
       "      <td>3.050633</td>\n",
       "      <td>3.800202</td>\n",
       "      <td>3.994302</td>\n",
       "    </tr>\n",
       "  </tbody>\n",
       "</table>\n",
       "<p>5 rows × 924 columns</p>\n",
       "</div>"
      ],
      "text/plain": [
       "   ECYBASPOP  ECYBASHHD  ECYBASHPOP  ECYBAS12P  ECYBAS15P  ECYBAS18P  \\\n",
       "0  -0.760266  -0.747760   -0.761215  -0.770888  -0.770509  -0.765883   \n",
       "1   0.374345   1.094995    0.396950   0.536708   0.593562   0.658222   \n",
       "2   5.511038   5.897326    5.450761   5.553119   5.553821   5.551965   \n",
       "3   5.511038   5.897326    5.450761   5.553119   5.553821   5.551965   \n",
       "4   5.511038   5.897326    5.450761   5.553119   5.553821   5.551965   \n",
       "\n",
       "   ECYBAS19P  ECYBAS12HP  ECYBAS15HP  ECYBAS18HP  ...   HSTR050   HSTR051  \\\n",
       "0  -0.765317   -0.768658   -0.772429   -0.770038  ... -0.623828 -0.554857   \n",
       "1   0.678714    0.566502    0.625466    0.686566  ...  0.289775 -0.522417   \n",
       "2   5.562165    5.494454    5.505392    5.506603  ...  5.431277  0.058880   \n",
       "3   5.562165    5.494454    5.505392    5.506603  ...  5.431277  1.561261   \n",
       "4   5.562165    5.494454    5.505392    5.506603  ...  5.280117 -0.165939   \n",
       "\n",
       "    HSTR052   HSTR053   HSTR054   HSTR055   HSTR056  HSTR056A  HSTR056B  \\\n",
       "0 -0.599957 -0.409358 -0.610659 -0.634745 -0.443539 -0.390848 -0.534454   \n",
       "1 -0.339325  2.163252  0.433749 -0.344626  0.272192  0.269903  0.297392   \n",
       "2  3.978882  6.604002  5.433962  2.987311  4.659558  4.329506  5.373067   \n",
       "3  5.907262  6.604002  5.433962  5.892142  6.901054  7.082211  5.926157   \n",
       "4  3.177511  6.604002  5.433962  1.695637  3.284884  3.050633  3.800202   \n",
       "\n",
       "    HSTR057  \n",
       "0 -0.573328  \n",
       "1 -0.122123  \n",
       "2  5.574945  \n",
       "3  5.574945  \n",
       "4  3.994302  \n",
       "\n",
       "[5 rows x 924 columns]"
      ]
     },
     "execution_count": 78,
     "metadata": {},
     "output_type": "execute_result"
    }
   ],
   "source": [
    "# Define the scaler \n",
    "scaler = StandardScaler()\n",
    "\n",
    "# Convert to Pandas DataFrame for scaling\n",
    "cleaned_df = cleaned_df.to_pandas()\n",
    "\n",
    "# Fit the scaler to the data\n",
    "scaler.fit(cleaned_df)\n",
    "\n",
    "# Transform the data\n",
    "scaled_data = scaler.transform(cleaned_df)\n",
    "\n",
    "# Convert the scaled data back to a DataFrame\n",
    "scaled_df = pd.DataFrame(scaled_data, columns=cleaned_df.columns)\n",
    "\n",
    "scaled_df.head()"
   ]
  },
  {
   "cell_type": "markdown",
   "metadata": {},
   "source": [
    "<h3>Create a sample of the data</h3>\n",
    "<p>We will create a sample of the data, so that we can run our clustering models faster.</p>"
   ]
  },
  {
   "cell_type": "code",
   "execution_count": 79,
   "metadata": {},
   "outputs": [],
   "source": [
    "# Sample 30% of the data\n",
    "sampled_df = scaled_df.sample(frac=0.2, random_state=42)"
   ]
  },
  {
   "cell_type": "code",
   "execution_count": 80,
   "metadata": {},
   "outputs": [
    {
     "name": "stdout",
     "output_type": "stream",
     "text": [
      "Full Data Means:\n",
      " ECYBASPOP     6.370995e-17\n",
      "ECYBASHHD    -2.407380e-17\n",
      "ECYBASHPOP   -5.861316e-17\n",
      "ECYBAS12P    -2.648118e-17\n",
      "ECYBAS15P    -1.595519e-17\n",
      "dtype: float64\n",
      "\n",
      "Sample Data Means:\n",
      " ECYBASPOP     0.002363\n",
      "ECYBASHHD     0.002594\n",
      "ECYBASHPOP    0.002313\n",
      "ECYBAS12P     0.002104\n",
      "ECYBAS15P     0.002083\n",
      "dtype: float64\n"
     ]
    }
   ],
   "source": [
    "\n",
    "full_stats = scaled_df.mean()[:5]\n",
    "sample_stats = sampled_df.mean()[:5]\n",
    "\n",
    "print(\"Full Data Means:\\n\", full_stats)\n",
    "print(\"\\nSample Data Means:\\n\", sample_stats)"
   ]
  },
  {
   "cell_type": "markdown",
   "metadata": {},
   "source": [
    "<h3>K-Means Clustering</h3>"
   ]
  },
  {
   "cell_type": "markdown",
   "metadata": {},
   "source": [
    "Create a K-Means clustering of the data, identifying the optimal number of\n",
    "clusters using both the silhouette and the elbow method. Do they agree?"
   ]
  },
  {
   "cell_type": "markdown",
   "metadata": {},
   "source": [
    "<p>Start by using the elbow method to identify the optimal number of clusters.</p>"
   ]
  },
  {
   "cell_type": "code",
   "execution_count": 81,
   "metadata": {},
   "outputs": [
    {
     "data": {
      "image/png": "[encoded data removed]",
      "text/plain": [
       "<Figure size 800x550 with 1 Axes>"
      ]
     },
     "metadata": {},
     "output_type": "display_data"
    },
    {
     "data": {
      "text/plain": [
       "<Axes: title={'center': 'Distortion Score Elbow for KMeans Clustering'}, xlabel='k', ylabel='distortion score'>"
      ]
     },
     "execution_count": 81,
     "metadata": {},
     "output_type": "execute_result"
    }
   ],
   "source": [
    "# Initialize KClusterer\n",
    "KClusterer = KMeans(n_clusters=3,\n",
    "                    verbose=0,\n",
    "                    random_state=2025)\n",
    "# Use KElbowVisualizer to find optimal number of clusters\n",
    "visualizer = KElbowVisualizer(KClusterer, # Cluster model with any parameters you need\n",
    "                              k=(2,12),   # Number of clusters to test (2 to 12 in this case)\n",
    "                              locate_elbow=True, # Locate the elbow? Default is true.\n",
    "                              timings=False # Plot the timings to train?\n",
    "                             )\n",
    "\n",
    "visualizer.fit(sampled_df)       # Fit the data to the visualizer\n",
    "visualizer.show()        # Finalize and render the figure"
   ]
  },
  {
   "cell_type": "markdown",
   "metadata": {},
   "source": [
    "<p>We can see the optimal number of clusters is 5, since the elbow is at 5.</p>"
   ]
  },
  {
   "cell_type": "code",
   "execution_count": 82,
   "metadata": {},
   "outputs": [
    {
     "data": {
      "image/png": "[encoded data removed]",
      "text/plain": [
       "<Figure size 800x550 with 1 Axes>"
      ]
     },
     "metadata": {},
     "output_type": "display_data"
    }
   ],
   "source": [
    "# Silhouette Analysis\n",
    "def plot_silhouette(data, n_clusters):\n",
    "    # Initialize the clusterer\n",
    "    clusterer = KMeans(n_clusters=n_clusters, random_state=2025)\n",
    "    cluster_labels = clusterer.fit_predict(data)\n",
    "\n",
    "    silhouette_avg = silhouette_score(data, cluster_labels)\n",
    "    sample_silhouette_values = silhouette_samples(data, cluster_labels)\n",
    "    y_lower = 10\n",
    "    for i in range(n_clusters):\n",
    "        ith_cluster_silhouette_values = sample_silhouette_values[cluster_labels == i]\n",
    "        ith_cluster_silhouette_values.sort()\n",
    "        size_cluster_i = ith_cluster_silhouette_values.shape[0]\n",
    "        y_upper = y_lower + size_cluster_i\n",
    "        plt.fill_betweenx(np.arange(y_lower, y_upper),\n",
    "                          0, ith_cluster_silhouette_values,\n",
    "                          alpha=0.7)\n",
    "        plt.text(-0.1, y_lower + 0.5 * size_cluster_i, str(i))\n",
    "        y_lower = y_upper + 10\n",
    "    plt.title(f\"Silhouette plot for {n_clusters} clusters\")\n",
    "    plt.xlabel(\"Silhouette coefficient values\")\n",
    "    plt.ylabel(\"Cluster label\")\n",
    "    plt.axvline(x=silhouette_avg, color=\"red\", linestyle=\"--\")\n",
    "    plt.show()\n",
    "\n",
    "# Run silhouette analysis with optimal clusters\n",
    "plot_silhouette(sampled_df, 2)"
   ]
  },
  {
   "cell_type": "markdown",
   "metadata": {},
   "source": [
    "<p>The elbow method gives us n=5 clusters.</p> \n",
    "<p>Now, let's use the silhouette method to identify the optimal number of clusters.</p>"
   ]
  },
  {
   "cell_type": "markdown",
   "metadata": {},
   "source": [
    "<h2>Dimensionality Reduction</h2>"
   ]
  },
  {
   "cell_type": "markdown",
   "metadata": {},
   "source": [
    "<h3>Apply PCA</h3>"
   ]
  },
  {
   "cell_type": "code",
   "execution_count": null,
   "metadata": {},
   "outputs": [],
   "source": [
    "cluster_labels = KClusterer.fit_predict(sampled_df)\n",
    "\n",
    "# Apply PCA to scaled data\n",
    "pca = PCA(n_components=3)\n",
    "X_pca = pca.fit_transform(sampled_df)\n",
    "\n",
    "# Wrap into DataFrame for visualization/analysis\n",
    "pca_df = pd.DataFrame(X_pca, columns=[\"PC1\", \"PC2\", \"PC3\"])\n",
    "pca_df[\"Cluster\"] = cluster_labels"
   ]
  },
  {
   "cell_type": "code",
   "execution_count": null,
   "metadata": {},
   "outputs": [],
   "source": [
    "plt.figure(figsize=(8, 6))\n",
    "sns.scatterplot(data=pca_df, x=\"PC1\", y=\"PC2\", hue=\"Cluster\", palette=\"tab10\", s=10)\n",
    "plt.title(\"PCA Projection (PC1 vs PC2) Colored by Cluster\")\n",
    "plt.xlabel(\"Principal Component 1\")\n",
    "plt.ylabel(\"Principal Component 2\")\n",
    "plt.legend(title=\"Cluster\", bbox_to_anchor=(1.05, 1), loc='upper left')\n",
    "plt.tight_layout()\n",
    "plt.show()"
   ]
  },
  {
   "cell_type": "code",
   "execution_count": null,
   "metadata": {},
   "outputs": [],
   "source": [
    "# Top contributing features for each component\n",
    "components = pd.DataFrame(\n",
    "    pca.components_, \n",
    "    columns=scaled_df.columns, \n",
    "    index=[\"PC1\", \"PC2\", \"PC3\"]\n",
    ")\n",
    "\n",
    "for pc in components.index:\n",
    "    print(f\"\\n{pc} top features:\")\n",
    "    print(components.loc[pc].abs().sort_values(ascending=False).head(5))\n",
    "\n",
    "# Average PCA component values by cluster\n",
    "avg_components_by_cluster = pca_df.groupby(\"Cluster\")[[\"PC1\", \"PC2\", \"PC3\"]].mean().reset_index()\n",
    "print(\"\\nAverage component values by cluster:\")\n",
    "print(avg_components_by_cluster)"
   ]
  },
  {
   "cell_type": "markdown",
   "metadata": {},
   "source": [
    "<h3>UMAP</h3>\n",
    "<p>Now we will apply UMAP to reduce the dimensionality of the data.</p>"
   ]
  },
  {
   "cell_type": "code",
   "execution_count": null,
   "metadata": {},
   "outputs": [],
   "source": [
    "# UMAP with commonly good starting values\n",
    "umap_model = umap.UMAP(n_neighbors=5, min_dist=0.5, random_state=42)\n",
    "umap_2d = umap_model.fit_transform(sampled_df)\n",
    "\n",
    "# Create DataFrame\n",
    "umap_df = pd.DataFrame(umap_2d, columns=[\"UMAP1\", \"UMAP2\"])\n",
    "umap_df[\"Cluster\"] = cluster_labels\n",
    "\n",
    "plt.figure(figsize=(8, 6))\n",
    "sns.scatterplot(data=umap_df, x=\"UMAP1\", y=\"UMAP2\", hue=\"Cluster\", palette=\"tab10\", s=10)\n",
    "plt.title(\"UMAP Projection Colored by Cluster\")\n",
    "plt.xlabel(\"UMAP Dimension 1\")\n",
    "plt.ylabel(\"UMAP Dimension 2\")\n",
    "plt.legend(title=\"Cluster\", bbox_to_anchor=(1.05, 1), loc='upper left')\n",
    "plt.tight_layout()\n",
    "plt.show()"
   ]
  },
  {
   "cell_type": "markdown",
   "metadata": {},
   "source": [
    "<p>UMAP appears to perform worse than PCA.</p>"
   ]
  },
  {
   "cell_type": "markdown",
   "metadata": {},
   "source": [
    "<h1>Part 2: Regression</h1>\n",
    "\n",
    "Now we will create models for a household’s proportion of income spent\n",
    "on total personal insurance premiums and retirement/pension contributions."
   ]
  },
  {
   "cell_type": "markdown",
   "metadata": {},
   "source": [
    "Train a regularized elastic net linear regression from your data.\n",
    "\n",
    "1. Create your target variable from the variables in the dataset. Do not use\n",
    "those components on the training database.\n",
    "2. Apply any data transformation / variable creation you deem necessary to\n",
    "obtain a good result.\n",
    "3. Discuss the grid that you chose to search for the parameters and the output\n",
    "that you obtained.\n",
    "4. For your test set, create a scatterplot of the original response and the\n",
    "predicted response. Report the MSE and R2 on the test set and calculate a\n",
    "bootstrapped confidence interval of the output.\n",
    "5. Interpret the coefficients of the top five most important variables in the\n",
    "regression"
   ]
  },
  {
   "cell_type": "code",
   "execution_count": null,
   "metadata": {},
   "outputs": [],
   "source": []
  }
 ],
 "metadata": {
  "kernelspec": {
   "display_name": "Python 3",
   "language": "python",
   "name": "python3"
  },
  "language_info": {
   "codemirror_mode": {
    "name": "ipython",
    "version": 3
   },
   "file_extension": ".py",
   "mimetype": "text/x-python",
   "name": "python",
   "nbconvert_exporter": "python",
   "pygments_lexer": "ipython3",
   "version": "3.13.1"
  }
 },
 "nbformat": 4,
 "nbformat_minor": 2
}
