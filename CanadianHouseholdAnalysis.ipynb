{
 "cells": [
  {
   "cell_type": "markdown",
   "metadata": {},
   "source": [
    "<h1>Dataset</h1>"
   ]
  },
  {
   "cell_type": "code",
   "execution_count": 2,
   "metadata": {},
   "outputs": [
    {
     "name": "stderr",
     "output_type": "stream",
     "text": [
      "/Library/Frameworks/Python.framework/Versions/3.13/lib/python3.13/site-packages/tqdm/auto.py:21: TqdmWarning: IProgress not found. Please update jupyter and ipywidgets. See https://ipywidgets.readthedocs.io/en/stable/user_install.html\n",
      "  from .autonotebook import tqdm as notebook_tqdm\n",
      "/Library/Frameworks/Python.framework/Versions/3.13/lib/python3.13/site-packages/numba/np/ufunc/dufunc.py:344: NumbaWarning: Compilation requested for previously compiled argument types ((uint32,)). This has no effect and perhaps indicates a bug in the calling code (compiling a ufunc more than once for the same signature\n",
      "  warnings.warn(msg, errors.NumbaWarning)\n",
      "/Library/Frameworks/Python.framework/Versions/3.13/lib/python3.13/site-packages/numba/np/ufunc/dufunc.py:344: NumbaWarning: Compilation requested for previously compiled argument types ((uint32,)). This has no effect and perhaps indicates a bug in the calling code (compiling a ufunc more than once for the same signature\n",
      "  warnings.warn(msg, errors.NumbaWarning)\n",
      "/Library/Frameworks/Python.framework/Versions/3.13/lib/python3.13/site-packages/numba/np/ufunc/dufunc.py:344: NumbaWarning: Compilation requested for previously compiled argument types ((uint32,)). This has no effect and perhaps indicates a bug in the calling code (compiling a ufunc more than once for the same signature\n",
      "  warnings.warn(msg, errors.NumbaWarning)\n"
     ]
    }
   ],
   "source": [
    "import os\n",
    "import numpy as np\n",
    "import pandas as pd\n",
    "import polars as pl\n",
    "import re\n",
    "\n",
    "# Dimensionality Reduction\n",
    "from scipy.sparse import csr_matrix\n",
    "import sklearn.feature_extraction.text as sktext\n",
    "from sklearn.decomposition import PCA, SparsePCA, TruncatedSVD\n",
    "from sklearn.manifold import TSNE\n",
    "import umap\n",
    "import umap.plot\n",
    "\n",
    "# Clustering\n",
    "from sklearn.cluster import AgglomerativeClustering, KMeans, SpectralClustering\n",
    "from sklearn import datasets\n",
    "from sklearn.preprocessing import StandardScaler\n",
    "from sklearn.pipeline import Pipeline\n",
    "from sklearn.metrics import silhouette_samples, silhouette_score\n",
    "from yellowbrick.cluster import KElbowVisualizer, SilhouetteVisualizer\n",
    "from yellowbrick.cluster.elbow import kelbow_visualizer\n",
    "\n",
    "# Plots\n",
    "import matplotlib.pyplot as plt\n",
    "import matplotlib.cm as cm\n",
    "from mpl_toolkits.mplot3d import Axes3D\n",
    "import seaborn as sns"
   ]
  },
  {
   "cell_type": "markdown",
   "metadata": {},
   "source": [
    "<h3>Load Data</h3>"
   ]
  },
  {
   "cell_type": "code",
   "execution_count": 3,
   "metadata": {},
   "outputs": [],
   "source": [
    "demo_stats_df = pl.read_csv(\"Coursework Data/DemoStats.csv\", null_values=None)\n",
    "household_spend_df = pl.read_csv(\"Coursework Data/HouseholdSpend.csv\", null_values=None)"
   ]
  },
  {
   "cell_type": "markdown",
   "metadata": {},
   "source": [
    "<h3>Null Values</h3>"
   ]
  },
  {
   "cell_type": "code",
   "execution_count": 4,
   "metadata": {},
   "outputs": [
    {
     "name": "stdout",
     "output_type": "stream",
     "text": [
      "Demo Stats Null Count: {'ECYPTAMED': {'null_count': 87459, 'null_percent': 10.06}, 'ECYPMAMED': {'null_count': 96444, 'null_percent': 11.1}, 'ECYPFAMED': {'null_count': 131837, 'null_percent': 15.17}, 'ECYHTAMED': {'null_count': 92709, 'null_percent': 10.67}, 'ECYHMAMED': {'null_count': 101698, 'null_percent': 11.7}, 'ECYHFAMED': {'null_count': 137900, 'null_percent': 15.87}, 'ECYMTNMED': {'null_count': 92709, 'null_percent': 10.67}}\n",
      "Household Stats Null Count: {}\n"
     ]
    }
   ],
   "source": [
    "# Define a function to convert NA to None\n",
    "def convert_na_to_nulls(df):\n",
    "    return df.with_columns([\n",
    "        pl.col(col).replace(\"NA\", None).alias(col)\n",
    "        if df.schema[col] == pl.Utf8 else pl.col(col)\n",
    "        for col in df.columns\n",
    "    ])\n",
    "\n",
    "# Convert NA to None on both dataframes\n",
    "demo_stats_df = convert_na_to_nulls(demo_stats_df)\n",
    "household_spend_df = convert_na_to_nulls(household_spend_df)\n",
    "\n",
    "# Get total nulls for each column\n",
    "def count_na_strings(df):\n",
    "    total_rows = df.height\n",
    "    return {\n",
    "        col: {\n",
    "            \"null_count\": df[col].null_count(),\n",
    "            \"null_percent\": round((df[col].null_count() / total_rows) * 100, 2)\n",
    "        }\n",
    "        for col in df.columns\n",
    "        if df[col].null_count() > 0\n",
    "    }\n",
    "\n",
    "demo_stats_null_cols = count_na_strings(demo_stats_df)\n",
    "household_spend_null_cols = count_na_strings(household_spend_df)\n",
    "# Initial Null Count for each csv file\n",
    "print(\"Demo Stats Null Count:\", demo_stats_null_cols)\n",
    "print(\"Household Stats Null Count:\", household_spend_null_cols)"
   ]
  },
  {
   "cell_type": "markdown",
   "metadata": {},
   "source": [
    "<p>Here we can see that demo stats has numerous columns with null values. Since the percentage of null values is around 10% for each, we \n",
    "will have to drop these columns, as it is greater than the 1% threshold.</p>\n",
    "<p>We can also see that household stats has no null values, so we don't need to modify this dataset as of right now.</p>"
   ]
  },
  {
   "cell_type": "code",
   "execution_count": 5,
   "metadata": {},
   "outputs": [],
   "source": [
    "# Drop selected null value columns\n",
    "demo_stats_df = demo_stats_df.drop(null_cols for null_cols in demo_stats_null_cols)"
   ]
  },
  {
   "cell_type": "markdown",
   "metadata": {},
   "source": [
    "<h3>Negative Values</h3>"
   ]
  },
  {
   "cell_type": "code",
   "execution_count": 6,
   "metadata": {},
   "outputs": [
    {
     "name": "stdout",
     "output_type": "stream",
     "text": [
      "Demo Stats Negative Values: {}\n",
      "Household Spend Negative Values: {'HSTT001': {'negative_count': 28, 'negative_percent': 0.0}, 'HSTE001ZBS': {'negative_count': 163557, 'negative_percent': 18.82}, 'HSWH040S': {'negative_count': 255858, 'negative_percent': 29.44}, 'HSWH041S': {'negative_count': 15436, 'negative_percent': 1.78}, 'HSWH042S': {'negative_count': 19205, 'negative_percent': 2.21}}\n"
     ]
    }
   ],
   "source": [
    "# Get total negative values for each column\n",
    "def count_negative_values(df):\n",
    "    return {\n",
    "        col: {\n",
    "            \"negative_count\": df[col].filter(df[col] < 0).len(),\n",
    "            \"negative_percent\": round((df[col].filter(df[col] < 0).len() / df.height) * 100, 2)\n",
    "        }\n",
    "        for col in df.columns\n",
    "        if df.schema[col] in [pl.Int8, pl.Int16, pl.Int32, pl.Int64,\n",
    "                              pl.UInt8, pl.UInt16, pl.UInt32, pl.UInt64,\n",
    "                              pl.Float32, pl.Float64]\n",
    "        and df[col].filter(df[col] < 0).len() > 0\n",
    "    }\n",
    "\n",
    "# Get total negative values for each dataframe\n",
    "demo_stats_negatives = count_negative_values(demo_stats_df)\n",
    "household_spend_negatives = count_negative_values(household_spend_df)\n",
    "\n",
    "# Initial Negative Count for each csv file\n",
    "print(\"Demo Stats Negative Values:\", demo_stats_negatives)\n",
    "print(\"Household Spend Negative Values:\", household_spend_negatives)"
   ]
  },
  {
   "cell_type": "markdown",
   "metadata": {},
   "source": [
    "<p>We can see that demo stats has no negative values, so we don't need to modify this dataset as of right now.</p>\n",
    "<p>For household spending, we can see that there are negative values in the dataset:<p>\n",
    "<ul>\n",
    "<li>HSTT001 - Total expenditure,Household Expenditures (Category Summary),Dollars</li>\n",
    "<li>HSTE001ZBS - Total non-current consumption,Household Expenditures (Category Summary),Dollars</li>\n",
    "<li>HSWH040S,Net purchase price of owned residences,Household Expenditures (Category Summary),Dollars</li>\n",
    "<li>HSWH041S - Net purchase price of owned secondary residences,Household Expenditures (Category Summary),Dollars</li>\n",
    "<li>HSWH042S - Net purchase price of other owned properties,Household Expenditures (Category Summary),Dollars</li>\n",
    "</ul>\n",
    "<p>We can easily tell that the first two varaibles cannot be negative, since they desribe expenditures, and because they capture sums of outflows. The next 3 are tricky, because these variables reflect the net purchase price of owned residences, secondary residences, and other properties, they can indeed be negative if the proceeds from selling those properties exceed any purchase or improvement costs, thereby indicating a net inflow rather than an outflow.</p>\n",
    "<p>Therefore, we will drop the first two variables, and keep the last three.</p>"
   ]
  },
  {
   "cell_type": "code",
   "execution_count": 7,
   "metadata": {},
   "outputs": [],
   "source": [
    "# Drop selected negative value columns\n",
    "household_spend_df = household_spend_df.drop([\"HSTT001\", \"HSTE001ZBS\"])"
   ]
  },
  {
   "cell_type": "markdown",
   "metadata": {},
   "source": [
    "<h3>Outliers</h3>"
   ]
  },
  {
   "cell_type": "code",
   "execution_count": 25,
   "metadata": {},
   "outputs": [
    {
     "name": "stdout",
     "output_type": "stream",
     "text": [
      "Demo Stats Outliers: {'CODE': \"868969 values not equal to mode 'H4H1K4'\", 'ECYBASPOP': '77816 outliers (IQR)', 'ECYBASHHD': '66196 outliers (IQR)', 'ECYBASHPOP': '77625 outliers (IQR)', 'ECYBAS12P': '76250 outliers (IQR)', 'ECYBAS15P': '74664 outliers (IQR)', 'ECYBAS18P': '72835 outliers (IQR)', 'ECYBAS19P': '70543 outliers (IQR)', 'ECYBAS12HP': '74737 outliers (IQR)', 'ECYBAS15HP': '76156 outliers (IQR)', 'ECYBAS18HP': '71312 outliers (IQR)', 'ECYBAS19HP': '74291 outliers (IQR)', 'ECYBASTNGH': '77367 outliers (IQR)', 'ECYBASADUH': '79448 outliers (IQR)', 'ECYBASCF': '75923 outliers (IQR)', 'ECYBASCFH': '78586 outliers (IQR)', 'ECYBASKID': '91390 outliers (IQR)', 'ECYBASLF': '82696 outliers (IQR)', 'ECYPTAPOP': '77816 outliers (IQR)', 'ECYPTA_0_4': '72849 outliers (IQR)', 'ECYPTA_5_9': '83501 outliers (IQR)', 'ECYPTA1014': '88848 outliers (IQR)', 'ECYPTA1519': '72153 outliers (IQR)', 'ECYPTA2024': '76334 outliers (IQR)', 'ECYPTA2529': '76899 outliers (IQR)', 'ECYPTA3034': '80286 outliers (IQR)', 'ECYPTA3539': '79474 outliers (IQR)', 'ECYPTA4044': '77754 outliers (IQR)', 'ECYPTA4549': '69606 outliers (IQR)', 'ECYPTA5054': '62373 outliers (IQR)', 'ECYPTA5559': '58399 outliers (IQR)', 'ECYPTA6064': '60877 outliers (IQR)', 'ECYPTA6569': '45507 outliers (IQR)', 'ECYPTA7074': '56671 outliers (IQR)', 'ECYPTA7579': '38015 outliers (IQR)', 'ECYPTA8084': '72106 outliers (IQR)', 'ECYPTA85P': '67582 outliers (IQR)', 'ECYPTAAVG': '2301 outliers (Z-score)', 'ECYPMAPOP': '73434 outliers (IQR)', 'ECYPMA_0_4': '79657 outliers (IQR)', 'ECYPMA_5_9': '90118 outliers (IQR)', 'ECYPMA1014': '93631 outliers (IQR)', 'ECYPMA1519': '96235 outliers (IQR)', 'ECYPMA2024': '39082 outliers (IQR)', 'ECYPMA2529': '42790 outliers (IQR)', 'ECYPMA3034': '43118 outliers (IQR)', 'ECYPMA3539': '40851 outliers (IQR)', 'ECYPMA4044': '35965 outliers (IQR)', 'ECYPMA4549': '111213 outliers (IQR)', 'ECYPMA5054': '104834 outliers (IQR)', 'ECYPMA5559': '102723 outliers (IQR)', 'ECYPMA6064': '23101 outliers (IQR)', 'ECYPMA6569': '81194 outliers (IQR)', 'ECYPMA7074': '52827 outliers (IQR)', 'ECYPMA7579': '34197 outliers (IQR)', 'ECYPMA8084': '17631 outliers (IQR)', 'ECYPMA85P': '195125 outliers (IQR)', 'ECYPMAAVG': '1971 outliers (Z-score)', 'ECYPFAPOP': '65190 outliers (IQR)', 'ECYPFA_0_4': '97417 outliers (IQR)', 'ECYPFA_5_9': '110827 outliers (IQR)', 'ECYPFA1014': '27790 outliers (IQR)', 'ECYPFA1519': '29061 outliers (IQR)', 'ECYPFA2024': '40640 outliers (IQR)', 'ECYPFA2529': '45023 outliers (IQR)', 'ECYPFA3034': '48898 outliers (IQR)', 'ECYPFA3539': '48266 outliers (IQR)', 'ECYPFA4044': '45734 outliers (IQR)', 'ECYPFA4549': '38488 outliers (IQR)', 'ECYPFA5054': '32262 outliers (IQR)', 'ECYPFA5559': '30191 outliers (IQR)', 'ECYPFA6064': '32848 outliers (IQR)', 'ECYPFA6569': '27271 outliers (IQR)', 'ECYPFA7074': '22362 outliers (IQR)', 'ECYPFA7579': '71179 outliers (IQR)', 'ECYPFA8084': '38979 outliers (IQR)', 'ECYPFA85P': '199381 outliers (IQR)', 'ECYHTAHPOP': '77625 outliers (IQR)', 'ECYHTA_0_4': '72699 outliers (IQR)', 'ECYHTA_5_9': '83362 outliers (IQR)', 'ECYHTA1014': '88725 outliers (IQR)', 'ECYHTA1519': '71663 outliers (IQR)', 'ECYHTA2024': '75809 outliers (IQR)', 'ECYHTA2529': '76303 outliers (IQR)', 'ECYHTA3034': '79654 outliers (IQR)', 'ECYHTA3539': '78922 outliers (IQR)', 'ECYHTA4044': '77136 outliers (IQR)', 'ECYHTA4549': '69060 outliers (IQR)', 'ECYHTA5054': '61704 outliers (IQR)', 'ECYHTA5559': '57500 outliers (IQR)', 'ECYHTA6064': '59751 outliers (IQR)', 'ECYHTA6569': '44325 outliers (IQR)', 'ECYHTA7074': '54737 outliers (IQR)', 'ECYHTA7579': '35366 outliers (IQR)', 'ECYHTA8084': '63666 outliers (IQR)', 'ECYHTA85P': '50427 outliers (IQR)', 'ECYHTAAVG': '73 outliers (Z-score)', 'ECYHMAHPOP': '80847 outliers (IQR)', 'ECYHMA_0_4': '79488 outliers (IQR)', 'ECYHMA_5_9': '89964 outliers (IQR)', 'ECYHMA1014': '93463 outliers (IQR)', 'ECYHMA1519': '95557 outliers (IQR)', 'ECYHMA2024': '38704 outliers (IQR)', 'ECYHMA2529': '42345 outliers (IQR)', 'ECYHMA3034': '42671 outliers (IQR)', 'ECYHMA3539': '40447 outliers (IQR)', 'ECYHMA4044': '35570 outliers (IQR)', 'ECYHMA4549': '110201 outliers (IQR)', 'ECYHMA5054': '103663 outliers (IQR)', 'ECYHMA5559': '101159 outliers (IQR)', 'ECYHMA6064': '22469 outliers (IQR)', 'ECYHMA6569': '79227 outliers (IQR)', 'ECYHMA7074': '50628 outliers (IQR)', 'ECYHMA7579': '31387 outliers (IQR)', 'ECYHMA8084': '14217 outliers (IQR)', 'ECYHMA85P': '181570 outliers (IQR)', 'ECYHMAAVG': '539 outliers (Z-score)', 'ECYHFAHPOP': '70691 outliers (IQR)', 'ECYHFA_0_4': '97272 outliers (IQR)', 'ECYHFA_5_9': '110685 outliers (IQR)', 'ECYHFA1014': '27714 outliers (IQR)', 'ECYHFA1519': '28788 outliers (IQR)', 'ECYHFA2024': '40292 outliers (IQR)', 'ECYHFA2529': '44696 outliers (IQR)', 'ECYHFA3034': '48572 outliers (IQR)', 'ECYHFA3539': '47957 outliers (IQR)', 'ECYHFA4044': '45427 outliers (IQR)', 'ECYHFA4549': '38209 outliers (IQR)', 'ECYHFA5054': '31882 outliers (IQR)', 'ECYHFA5559': '29694 outliers (IQR)', 'ECYHFA6064': '32169 outliers (IQR)', 'ECYHFA6569': '26589 outliers (IQR)', 'ECYHFA7074': '21468 outliers (IQR)', 'ECYHFA7579': '66880 outliers (IQR)', 'ECYHFA8084': '32645 outliers (IQR)', 'ECYHFA85P': '179828 outliers (IQR)', 'ECYMTNHHD': '66196 outliers (IQR)', 'ECYMTN1524': '161767 outliers (IQR)', 'ECYMTN2534': '60575 outliers (IQR)', 'ECYMTN3544': '84588 outliers (IQR)', 'ECYMTN4554': '81958 outliers (IQR)', 'ECYMTN5564': '40866 outliers (IQR)', 'ECYMTN6574': '55181 outliers (IQR)', 'ECYMTN7584': '41779 outliers (IQR)', 'ECYMTN85P': '206131 outliers (IQR)', 'ECYHSZHHD': '66196 outliers (IQR)', 'ECYHSZ1PER': '80568 outliers (IQR)', 'ECYHSZ2PER': '69620 outliers (IQR)', 'ECYHSZ3PER': '52648 outliers (IQR)', 'ECYHSZ4PER': '56681 outliers (IQR)', 'ECYHSZ5PER': '124311 outliers (IQR)', 'ECYHSZTPER': '77625 outliers (IQR)', 'ECYHSZAVG': '7867 outliers (Z-score)', 'ECYHTYHHD': '66196 outliers (IQR)', 'ECYHTYFHT': '78586 outliers (IQR)', 'ECYHTY1FH': '66688 outliers (IQR)', 'ECYHTY1FHP': '30850 outliers (IQR)', 'ECYHTY1FHNP': '78237 outliers (IQR)', 'ECYHTYMGFH': '38797 outliers (IQR)', 'ECYHTYMFH': '60085 outliers (IQR)', 'ECYHTYNFH': '84336 outliers (IQR)', 'ECYHTY1PH': '98915 outliers (IQR)', 'ECYHTYN65A': '54558 outliers (IQR)', 'ECYHTY2PPH': '66433 outliers (IQR)', 'ECYMARHP15': '76156 outliers (IQR)', 'ECYMARMCL': '80185 outliers (IQR)', 'ECYMARM': '86144 outliers (IQR)', 'ECYMARCL': '68401 outliers (IQR)', 'ECYMARNMCL': '70621 outliers (IQR)', 'ECYMARSING': '69139 outliers (IQR)', 'ECYMARSEP': '74434 outliers (IQR)', 'ECYMARDIV': '63991 outliers (IQR)', 'ECYMARWID': '51237 outliers (IQR)', 'ECYCFSCF': '75923 outliers (IQR)', 'ECYCFSC': '65745 outliers (IQR)', 'ECYCFSCNC': '64780 outliers (IQR)', 'ECYCFSCWC': '85542 outliers (IQR)', 'ECYCFSM': '85913 outliers (IQR)', 'ECYCFSMNC': '43733 outliers (IQR)', 'ECYCFSMWC': '86102 outliers (IQR)', 'ECYCFSCL': '71407 outliers (IQR)', 'ECYCFSCLNC': '108823 outliers (IQR)', 'ECYCFSCLWC': '70752 outliers (IQR)', 'ECYCFSLP': '65103 outliers (IQR)', 'ECYCFSFP': '44062 outliers (IQR)', 'ECYCFSMP': '30188 outliers (IQR)', 'ECYCFSNFP': '81342 outliers (IQR)', 'ECYHFSCF': '78586 outliers (IQR)', 'ECYHFSC': '78227 outliers (IQR)', 'ECYHFSCNC': '57362 outliers (IQR)', 'ECYHFSCWC': '83652 outliers (IQR)', 'ECYHFSM': '84920 outliers (IQR)', 'ECYHFSMNC': '41013 outliers (IQR)', 'ECYHFSMWC': '86811 outliers (IQR)', 'ECYHFSCL': '61146 outliers (IQR)', 'ECYHFSCLNC': '88466 outliers (IQR)', 'ECYHFSCLWC': '60398 outliers (IQR)', 'ECYHFSLP': '51221 outliers (IQR)', 'ECYHFSFP': '35263 outliers (IQR)', 'ECYHFSMP': '28458 outliers (IQR)', 'ECYCHAKIDS': '91390 outliers (IQR)', 'ECYCHA_0_4': '72699 outliers (IQR)', 'ECYCHA_5_9': '83362 outliers (IQR)', 'ECYCHA1014': '88725 outliers (IQR)', 'ECYCHA1519': '72526 outliers (IQR)', 'ECYCHA2024': '49692 outliers (IQR)', 'ECYCHA25P': '58673 outliers (IQR)', 'ECYCHACFCH': '1793 outliers (Z-score)', 'ECYCHAFHCH': '7042 outliers (Z-score)', 'ECYCHAHHCH': '1443 outliers (Z-score)', 'ECYMOBHPOP': '77016 outliers (IQR)', 'ECYMOBNMOV': '72254 outliers (IQR)', 'ECYMOBMOV': '82655 outliers (IQR)', 'ECYTENHHD': '66196 outliers (IQR)', 'ECYTENOWN': '76275 outliers (IQR)', 'ECYTENRENT': '83789 outliers (IQR)', 'ECYTENBAND': '3619 outliers (IQR)', 'ECYPOCHHD': '66196 outliers (IQR)', 'ECYPOCP60': '92965 outliers (IQR)', 'ECYPOC6180': '81101 outliers (IQR)', 'ECYPOC8190': '90616 outliers (IQR)', 'ECYPOC9100': '76468 outliers (IQR)', 'ECYPOC0105': '85608 outliers (IQR)', 'ECYPOC0610': '86698 outliers (IQR)', 'ECYPOC1115': '79663 outliers (IQR)', 'ECYPOC1621': '191229 outliers (IQR)', 'ECYPOC22P': '200233 outliers (IQR)', 'ECYSTYHHD': '66196 outliers (IQR)', 'ECYSTYHOUS': '69562 outliers (IQR)', 'ECYSTYSING': '60035 outliers (IQR)', 'ECYSTYSEMI': '82792 outliers (IQR)', 'ECYSTYROW': '178410 outliers (IQR)', 'ECYSTYAPT': '97830 outliers (IQR)', 'ECYSTYAP5P': '59572 outliers (IQR)', 'ECYSTYAPU5': '108630 outliers (IQR)', 'ECYSTYDUPL': '91545 outliers (IQR)', 'ECYSTYOTHR': '52060 outliers (IQR)', 'ECYSTYOATT': '20925 outliers (IQR)', 'ECYSTYMOVE': '33930 outliers (IQR)', 'ECYCDOHHD': '66196 outliers (IQR)', 'ECYCDOCO': '141468 outliers (IQR)', 'ECYCDOOWCO': '215298 outliers (IQR)', 'ECYCDORECO': '162336 outliers (IQR)', 'ECYCDONC': '54180 outliers (IQR)', 'ECYCDOOWNC': '58032 outliers (IQR)', 'ECYCDORENC': '80462 outliers (IQR)', 'ECYCDOBAND': '3619 outliers (IQR)', 'ECYHRIHHD': '66196 outliers (IQR)', 'ECYHRI_020': '77270 outliers (IQR)', 'ECYHRI2040': '86095 outliers (IQR)', 'ECYHRI4060': '61221 outliers (IQR)', 'ECYHRI6080': '50233 outliers (IQR)', 'ECYHRIX100': '65099 outliers (IQR)', 'ECYHRI100P': '87378 outliers (IQR)', 'ECYHRIX125': '65311 outliers (IQR)', 'ECYHRIX150': '39502 outliers (IQR)', 'ECYHRIX200': '59532 outliers (IQR)', 'ECYHRI200P': '74402 outliers (IQR)', 'ECYHRIX300': '117886 outliers (IQR)', 'ECYHRI300P': '59543 outliers (IQR)', 'ECYHRIAVG': '7745 outliers (Z-score)', 'ECYHRIMED': '8671 outliers (Z-score)', 'ECYHRIAGG': '5045 outliers (Z-score)', 'ECYHNIHHD': '66196 outliers (IQR)', 'ECYHNI_020': '56685 outliers (IQR)', 'ECYHNI2040': '70914 outliers (IQR)', 'ECYHNI4060': '78947 outliers (IQR)', 'ECYHNI6080': '73313 outliers (IQR)', 'ECYHNIX100': '61910 outliers (IQR)', 'ECYHNI100P': '72773 outliers (IQR)', 'ECYHNIX125': '64570 outliers (IQR)', 'ECYHNIX150': '46399 outliers (IQR)', 'ECYHNIX200': '70983 outliers (IQR)', 'ECYHNI200P': '76140 outliers (IQR)', 'ECYHNIX300': '58476 outliers (IQR)', 'ECYHNI300P': '100383 outliers (IQR)', 'ECYHNIAVG': '7745 outliers (Z-score)', 'ECYHNIMED': '5797 outliers (Z-score)', 'ECYHNIAGG': '5045 outliers (Z-score)', 'ECYPNIHP15': '76156 outliers (IQR)', 'ECYPNININ': '40493 outliers (IQR)', 'ECYPNIWIN': '74827 outliers (IQR)', 'ECYPNIAVG': '7462 outliers (Z-score)', 'ECYEDUHP15': '76156 outliers (IQR)', 'ECYEDUNCDD': '47937 outliers (IQR)', 'ECYEDUHSCE': '69683 outliers (IQR)', 'ECYEDUATCD': '60966 outliers (IQR)', 'ECYEDUCOLL': '71659 outliers (IQR)', 'ECYEDUUDBB': '124962 outliers (IQR)', 'ECYEDUUD': '78871 outliers (IQR)', 'ECYEDUUDBD': '67107 outliers (IQR)', 'ECYEDUUDBP': '78479 outliers (IQR)', 'ECYEDAHPWK': '79448 outliers (IQR)', 'ECYEDANCDD': '57947 outliers (IQR)', 'ECYEDAHSCE': '66922 outliers (IQR)', 'ECYEDAATCD': '60993 outliers (IQR)', 'ECYEDACOLL': '78626 outliers (IQR)', 'ECYEDAUDBB': '75459 outliers (IQR)', 'ECYEDAUD': '84679 outliers (IQR)', 'ECYEDAUDBD': '71582 outliers (IQR)', 'ECYEDAUDBP': '92717 outliers (IQR)', 'ECYACTHPL': '76156 outliers (IQR)', 'ECYACTINLF': '82696 outliers (IQR)', 'ECYACTEMP': '78611 outliers (IQR)', 'ECYACTUEMP': '70493 outliers (IQR)', 'ECYACTNOLF': '66706 outliers (IQR)', 'ECYACTUR': '13403 outliers (Z-score)', 'ECYCWHPL': '76156 outliers (IQR)', 'ECYCWT': '82696 outliers (IQR)', 'ECYCWEMP': '83912 outliers (IQR)', 'ECYCWPSEI': '86549 outliers (IQR)', 'ECYOCCHPL': '76156 outliers (IQR)', 'ECYOCCINLF': '82696 outliers (IQR)', 'ECYOCCNA': '207947 outliers (IQR)', 'ECYOCCALL': '83914 outliers (IQR)', 'ECYOCCMGMT': '147678 outliers (IQR)', 'ECYOCCBFAD': '63747 outliers (IQR)', 'ECYOCCNSCI': '85233 outliers (IQR)', 'ECYOCCHLTH': '67593 outliers (IQR)', 'ECYOCCSSER': '78996 outliers (IQR)', 'ECYOCCARTS': '67974 outliers (IQR)', 'ECYOCCSERV': '74172 outliers (IQR)', 'ECYOCCTRAD': '59947 outliers (IQR)', 'ECYOCCPRIM': '141744 outliers (IQR)', 'ECYOCCSCND': '88699 outliers (IQR)', 'ECYINDHPL': '76156 outliers (IQR)', 'ECYINDINLF': '82696 outliers (IQR)', 'ECYINDNA': '211806 outliers (IQR)', 'ECYINDALL': '84211 outliers (IQR)', 'ECYINDAGRI': '106434 outliers (IQR)', 'ECYINDMINE': '90440 outliers (IQR)', 'ECYINDUTIL': '86175 outliers (IQR)', 'ECYINDCSTR': '52381 outliers (IQR)', 'ECYINDMANU': '61366 outliers (IQR)', 'ECYINDWHOL': '74888 outliers (IQR)', 'ECYINDRETL': '62557 outliers (IQR)', 'ECYINDTRAN': '115442 outliers (IQR)', 'ECYINDINFO': '191265 outliers (IQR)', 'ECYINDFINA': '105281 outliers (IQR)', 'ECYINDREAL': '172446 outliers (IQR)', 'ECYINDPROF': '75180 outliers (IQR)', 'ECYINDMGMT': '34877 outliers (IQR)', 'ECYINDADMN': '91985 outliers (IQR)', 'ECYINDEDUC': '55345 outliers (IQR)', 'ECYINDHLTH': '73914 outliers (IQR)', 'ECYINDARTS': '181348 outliers (IQR)', 'ECYINDACCO': '37532 outliers (IQR)', 'ECYINDOSER': '88906 outliers (IQR)', 'ECYINDPUBL': '43670 outliers (IQR)', 'ECYPOWHPL': '76156 outliers (IQR)', 'ECYPOWINLF': '82696 outliers (IQR)', 'ECYPOWEMP': '78611 outliers (IQR)', 'ECYPOWHOME': '72785 outliers (IQR)', 'ECYPOWOSCA': '49824 outliers (IQR)', 'ECYPOWNFIX': '64333 outliers (IQR)', 'ECYPOWUSUL': '83462 outliers (IQR)', 'ECYTRAHPL': '76156 outliers (IQR)', 'ECYTRAALL': '84496 outliers (IQR)', 'ECYTRADRIV': '77205 outliers (IQR)', 'ECYTRAPSGR': '117290 outliers (IQR)', 'ECYTRAPUBL': '126783 outliers (IQR)', 'ECYTRAWALK': '77843 outliers (IQR)', 'ECYTRABIKE': '82832 outliers (IQR)', 'ECYTRAOTHE': '136283 outliers (IQR)', 'ECYRELHPOP': '77625 outliers (IQR)', 'ECYRELBUDD': '128592 outliers (IQR)', 'ECYRELCHR': '71469 outliers (IQR)', 'ECYRELANGL': '118695 outliers (IQR)', 'ECYRELCATH': '68075 outliers (IQR)', 'ECYRELUNIT': '119484 outliers (IQR)', 'ECYRELOCHR': '65519 outliers (IQR)', 'ECYRELHIND': '143607 outliers (IQR)', 'ECYRELJEWI': '84342 outliers (IQR)', 'ECYRELMUSL': '151853 outliers (IQR)', 'ECYRELSIKH': '108772 outliers (IQR)', 'ECYRELOREL': '121712 outliers (IQR)', 'ECYRELNREL': '71701 outliers (IQR)', 'ECYVISHPOP': '77625 outliers (IQR)', 'ECYVISVM': '106870 outliers (IQR)', 'ECYVISCHIN': '137405 outliers (IQR)', 'ECYVISSA': '168674 outliers (IQR)', 'ECYVISBLCK': '147799 outliers (IQR)', 'ECYVISFILI': '170757 outliers (IQR)', 'ECYVISLAM': '163492 outliers (IQR)', 'ECYVISSEA': '118763 outliers (IQR)', 'ECYVISARAB': '142454 outliers (IQR)', 'ECYVISWA': '89865 outliers (IQR)', 'ECYVISKOR': '68081 outliers (IQR)', 'ECYVISJAPA': '45857 outliers (IQR)', 'ECYVISOVM': '62667 outliers (IQR)', 'ECYVISMVM': '111714 outliers (IQR)', 'ECYVISNVM': '70178 outliers (IQR)', 'ECYAIDHPOP': '77625 outliers (IQR)', 'ECYAIDABO': '143322 outliers (IQR)', 'ECYAIDNABO': '79571 outliers (IQR)', 'ECYKNOHPOP': '77625 outliers (IQR)', 'ECYKNOENGL': '81754 outliers (IQR)', 'ECYKNOFREN': '178999 outliers (IQR)', 'ECYKNOENFR': '92092 outliers (IQR)', 'ECYKNONEF': '78646 outliers (IQR)', 'ECYMOTHPOP': '77625 outliers (IQR)', 'ECYMOTSING': '72677 outliers (IQR)', 'ECYMOTENGL': '70287 outliers (IQR)', 'ECYMOTFREN': '143605 outliers (IQR)', 'ECYMOTNOFF': '104888 outliers (IQR)', 'ECYMOTITAL': '154035 outliers (IQR)', 'ECYMOTGERM': '130103 outliers (IQR)', 'ECYMOTPANJ': '168273 outliers (IQR)', 'ECYMOTCANT': '166546 outliers (IQR)', 'ECYMOTSPAN': '61947 outliers (IQR)', 'ECYMOTARAB': '216389 outliers (IQR)', 'ECYMOTTAGA': '198509 outliers (IQR)', 'ECYMOTPORT': '147487 outliers (IQR)', 'ECYMOTPOLI': '108594 outliers (IQR)', 'ECYMOTMAND': '202634 outliers (IQR)', 'ECYMOTCHIN': '41721 outliers (IQR)', 'ECYMOTURDU': '98591 outliers (IQR)', 'ECYMOTVIET': '113296 outliers (IQR)', 'ECYMOTUKRA': '61456 outliers (IQR)', 'ECYMOTPERS': '124235 outliers (IQR)', 'ECYMOTRUSS': '113945 outliers (IQR)', 'ECYMOTDUTC': '48701 outliers (IQR)', 'ECYMOTKORE': '92133 outliers (IQR)', 'ECYMOTGREE': '60021 outliers (IQR)', 'ECYMOTTAMI': '61924 outliers (IQR)', 'ECYMOTGUJA': '77338 outliers (IQR)', 'ECYMOTROMA': '68192 outliers (IQR)', 'ECYMOTHIND': '101611 outliers (IQR)', 'ECYMOTHUNG': '40892 outliers (IQR)', 'ECYMOTCROA': '35913 outliers (IQR)', 'ECYMOTCREO': '11204 outliers (IQR)', 'ECYMOTSERB': '40473 outliers (IQR)', 'ECYMOTBENG': '54558 outliers (IQR)', 'ECYMOTJAPA': '37328 outliers (IQR)', 'ECYMOTTURK': '37995 outliers (IQR)', 'ECYMOTCZEC': '16816 outliers (IQR)', 'ECYMOTSOMA': '18476 outliers (IQR)', 'ECYMOTABOR': '17142 outliers (IQR)', 'ECYMOTOTHR': '111977 outliers (IQR)', 'ECYMOTMULT': '73990 outliers (IQR)', 'ECYMOTENFR': '189054 outliers (IQR)', 'ECYMOTENON': '102919 outliers (IQR)', 'ECYMOTFNON': '76640 outliers (IQR)', 'ECYMOTEFNO': '43780 outliers (IQR)', 'ECYMOTMNON': '77974 outliers (IQR)', 'ECYHOMHPOP': '77625 outliers (IQR)', 'ECYHOMSING': '76850 outliers (IQR)', 'ECYHOMENGL': '75899 outliers (IQR)', 'ECYHOMFREN': '162037 outliers (IQR)', 'ECYHOMNOFF': '117688 outliers (IQR)', 'ECYHOMITAL': '56025 outliers (IQR)', 'ECYHOMGERM': '22778 outliers (IQR)', 'ECYHOMPANJ': '124698 outliers (IQR)', 'ECYHOMCANT': '125234 outliers (IQR)', 'ECYHOMSPAN': '181579 outliers (IQR)', 'ECYHOMARAB': '136032 outliers (IQR)', 'ECYHOMTAGA': '126655 outliers (IQR)', 'ECYHOMPORT': '76212 outliers (IQR)', 'ECYHOMPOLI': '50026 outliers (IQR)', 'ECYHOMMAND': '166229 outliers (IQR)', 'ECYHOMCHIN': '24073 outliers (IQR)', 'ECYHOMURDU': '75099 outliers (IQR)', 'ECYHOMVIET': '79409 outliers (IQR)', 'ECYHOMUKRA': '22086 outliers (IQR)', 'ECYHOMPERS': '87721 outliers (IQR)', 'ECYHOMRUSS': '78681 outliers (IQR)', 'ECYHOMDUTC': '5119 outliers (IQR)', 'ECYHOMKORE': '68539 outliers (IQR)', 'ECYHOMGREE': '26577 outliers (IQR)', 'ECYHOMTAMI': '48169 outliers (IQR)', 'ECYHOMGUJA': '50411 outliers (IQR)', 'ECYHOMROMA': '38091 outliers (IQR)', 'ECYHOMHIND': '62895 outliers (IQR)', 'ECYHOMHUNG': '13646 outliers (IQR)', 'ECYHOMCROA': '13624 outliers (IQR)', 'ECYHOMCREO': '4973 outliers (IQR)', 'ECYHOMSERB': '23835 outliers (IQR)', 'ECYHOMBENG': '35899 outliers (IQR)', 'ECYHOMJAPA': '16899 outliers (IQR)', 'ECYHOMTURK': '22772 outliers (IQR)', 'ECYHOMCZEC': '5232 outliers (IQR)', 'ECYHOMSOMA': '11430 outliers (IQR)', 'ECYHOMABOR': '7596 outliers (IQR)', 'ECYHOMOTHR': '199307 outliers (IQR)', 'ECYHOMMULT': '79428 outliers (IQR)', 'ECYHOMENFR': '141928 outliers (IQR)', 'ECYHOMENON': '117121 outliers (IQR)', 'ECYHOMFNON': '64275 outliers (IQR)', 'ECYHOMEFNO': '43848 outliers (IQR)', 'ECYHOMMNON': '25086 outliers (IQR)', 'ECYTIMHPOP': '77625 outliers (IQR)', 'ECYTIMNI': '65537 outliers (IQR)', 'ECYTIMNIIN': '63815 outliers (IQR)', 'ECYTIMNIOS': '87174 outliers (IQR)', 'ECYTIMIMGT': '95518 outliers (IQR)', 'ECYTIMAM': '143552 outliers (IQR)', 'ECYTIMNAM': '161408 outliers (IQR)', 'ECYTIMUSA': '159737 outliers (IQR)', 'ECYTIMONAM': '2625 outliers (IQR)', 'ECYTIMCAM': '111924 outliers (IQR)', 'ECYTIMELSA': '38332 outliers (IQR)', 'ECYTIMMEXI': '59816 outliers (IQR)', 'ECYTIMOCAM': '39291 outliers (IQR)', 'ECYTIMCB': '161927 outliers (IQR)', 'ECYTIMCUBA': '18039 outliers (IQR)', 'ECYTIMHAIT': '43225 outliers (IQR)', 'ECYTIMJAMA': '72780 outliers (IQR)', 'ECYTIMTRIN': '43891 outliers (IQR)', 'ECYTIMOCB': '48719 outliers (IQR)', 'ECYTIMSAM': '175829 outliers (IQR)', 'ECYTIMBRAZ': '45751 outliers (IQR)', 'ECYTIMCHIL': '24755 outliers (IQR)', 'ECYTIMCOLO': '61235 outliers (IQR)', 'ECYTIMGUYA': '43326 outliers (IQR)', 'ECYTIMPERU': '27718 outliers (IQR)', 'ECYTIMVENE': '24588 outliers (IQR)', 'ECYTIMOSAM': '39025 outliers (IQR)', 'ECYTIMEU': '62712 outliers (IQR)', 'ECYTIMWEU': '188449 outliers (IQR)', 'ECYTIMFRAN': '74774 outliers (IQR)', 'ECYTIMGERM': '81607 outliers (IQR)', 'ECYTIMNETH': '43676 outliers (IQR)', 'ECYTIMOWEU': '37832 outliers (IQR)', 'ECYTIMEEU': '213816 outliers (IQR)', 'ECYTIMCZEC': '16055 outliers (IQR)', 'ECYTIMHUNG': '23599 outliers (IQR)', 'ECYTIMMOLD': '16496 outliers (IQR)', 'ECYTIMPOLA': '84009 outliers (IQR)', 'ECYTIMROMA': '60232 outliers (IQR)', 'ECYTIMRUSS': '53956 outliers (IQR)', 'ECYTIMUKRA': '57501 outliers (IQR)', 'ECYTIMOEEU': '42460 outliers (IQR)', 'ECYTIMNEU': '49012 outliers (IQR)', 'ECYTIMUK': '41602 outliers (IQR)', 'ECYTIMIREL': '25571 outliers (IQR)', 'ECYTIMONEU': '24782 outliers (IQR)', 'ECYTIMSEU': '212985 outliers (IQR)', 'ECYTIMGREE': '34435 outliers (IQR)', 'ECYTIMITAL': '99658 outliers (IQR)', 'ECYTIMPORT': '69315 outliers (IQR)', 'ECYTIMBOSN': '27521 outliers (IQR)', 'ECYTIMCROA': '27852 outliers (IQR)', 'ECYTIMSERB': '23994 outliers (IQR)', 'ECYTIMOSEU': '49405 outliers (IQR)', 'ECYTIMAF': '109134 outliers (IQR)', 'ECYTIMWAF': '98544 outliers (IQR)', 'ECYTIMCOTE': '15164 outliers (IQR)', 'ECYTIMGHAN': '18637 outliers (IQR)', 'ECYTIMNIGE': '56014 outliers (IQR)', 'ECYTIMOWAF': '29578 outliers (IQR)', 'ECYTIMEAF': '121118 outliers (IQR)', 'ECYTIMERIT': '20703 outliers (IQR)', 'ECYTIMETHI': '25792 outliers (IQR)', 'ECYTIMKENY': '25412 outliers (IQR)', 'ECYTIMSOMA': '16422 outliers (IQR)', 'ECYTIMTANZ': '17305 outliers (IQR)', 'ECYTIMOEAF': '65461 outliers (IQR)', 'ECYTIMCAF': '50477 outliers (IQR)', 'ECYTIMCAME': '25360 outliers (IQR)', 'ECYTIMCONG': '24762 outliers (IQR)', 'ECYTIMCAFO': '11095 outliers (IQR)', 'ECYTIMNAF': '122614 outliers (IQR)', 'ECYTIMALGE': '38746 outliers (IQR)', 'ECYTIMEGYP': '47941 outliers (IQR)', 'ECYTIMMORO': '45413 outliers (IQR)', 'ECYTIMTUNI': '19916 outliers (IQR)', 'ECYTIMONAF': '19863 outliers (IQR)', 'ECYTIMSAF': '44968 outliers (IQR)', 'ECYTIMSAFR': '42601 outliers (IQR)', 'ECYTIMOSAF': '3191 outliers (IQR)', 'ECYTIMA': '124196 outliers (IQR)', 'ECYTIMWCA': '93872 outliers (IQR)', 'ECYTIMAFGH': '47319 outliers (IQR)', 'ECYTIMIRAN': '75449 outliers (IQR)', 'ECYTIMIRAQ': '43788 outliers (IQR)', 'ECYTIMISRA': '21387 outliers (IQR)', 'ECYTIMLEBA': '57121 outliers (IQR)', 'ECYTIMSAUD': '27226 outliers (IQR)', 'ECYTIMSYRI': '56659 outliers (IQR)', 'ECYTIMTURK': '29194 outliers (IQR)', 'ECYTIMUAE': '25361 outliers (IQR)', 'ECYTIMOWCA': '68700 outliers (IQR)', 'ECYTIMEA': '103293 outliers (IQR)', 'ECYTIMCHIN': '180125 outliers (IQR)', 'ECYTIMHONG': '78696 outliers (IQR)', 'ECYTIMJAPA': '25914 outliers (IQR)', 'ECYTIMSKOR': '69977 outliers (IQR)', 'ECYTIMTAIW': '37047 outliers (IQR)', 'ECYTIMOEA': '6762 outliers (IQR)', 'ECYTIMSEA': '114994 outliers (IQR)', 'ECYTIMCAMB': '17392 outliers (IQR)', 'ECYTIMMALA': '21614 outliers (IQR)', 'ECYTIMPHIL': '200914 outliers (IQR)', 'ECYTIMVIET': '98696 outliers (IQR)', 'ECYTIMOSEA': '56455 outliers (IQR)', 'ECYTIMSA': '119988 outliers (IQR)', 'ECYTIMBANG': '37728 outliers (IQR)', 'ECYTIMINDI': '190794 outliers (IQR)', 'ECYTIMNEPA': '13497 outliers (IQR)', 'ECYTIMPAKI': '88193 outliers (IQR)', 'ECYTIMSRI': '52271 outliers (IQR)', 'ECYTIMOSA': '2251 outliers (IQR)', 'ECYTIMOCE': '48735 outliers (IQR)', 'ECYTIMAUSS': '23154 outliers (IQR)', 'ECYTIMFIJI': '17915 outliers (IQR)', 'ECYTIMOOCE': '11810 outliers (IQR)', 'ECYTIMNPER': '146828 outliers (IQR)', 'ECYRIMHPOP': '77625 outliers (IQR)', 'ECYRIMRIM': '133003 outliers (IQR)', 'ECYRIMAM': '87969 outliers (IQR)', 'ECYRIMNAM': '21335 outliers (IQR)', 'ECYRIMCAM': '17588 outliers (IQR)', 'ECYRIMMEXI': '12879 outliers (IQR)', 'ECYRIMCAO': '5614 outliers (IQR)', 'ECYRIMCB': '27236 outliers (IQR)', 'ECYRIMCUBA': '2677 outliers (IQR)', 'ECYRIMHAIT': '8478 outliers (IQR)', 'ECYRIMJAMA': '10332 outliers (IQR)', 'ECYRIMCBO': '8301 outliers (IQR)', 'ECYRIMSAM': '39032 outliers (IQR)', 'ECYRIMBRAZ': '18012 outliers (IQR)', 'ECYRIMCOLO': '11875 outliers (IQR)', 'ECYRIMVENE': '4766 outliers (IQR)', 'ECYRIMSAO': '8909 outliers (IQR)', 'ECYRIMEU': '60379 outliers (IQR)', 'ECYRIMWEU': '27010 outliers (IQR)', 'ECYRIMFRAN': '20894 outliers (IQR)', 'ECYRIMGERM': '3588 outliers (IQR)', 'ECYRIMWEO': '3630 outliers (IQR)', 'ECYRIMEEU': '16786 outliers (IQR)', 'ECYRIMMOLD': '666 outliers (IQR)', 'ECYRIMPOLA': '1514 outliers (IQR)', 'ECYRIMROMA': '1256 outliers (IQR)', 'ECYRIMRUSS': '3820 outliers (IQR)', 'ECYRIMUKRA': '7472 outliers (IQR)', 'ECYRIMEEO': '3929 outliers (IQR)', 'ECYRIMNEU': '13958 outliers (IQR)', 'ECYRIMUK': '10662 outliers (IQR)', 'ECYRIMNEO': '4104 outliers (IQR)', 'ECYRIMSEU': '10927 outliers (IQR)', 'ECYRIMAF': '119026 outliers (IQR)', 'ECYRIMWAF': '43763 outliers (IQR)', 'ECYRIMCOTE': '5763 outliers (IQR)', 'ECYRIMNIGE': '28140 outliers (IQR)', 'ECYRIMWAFO': '12666 outliers (IQR)', 'ECYRIMEAF': '38490 outliers (IQR)', 'ECYRIMERIT': '10075 outliers (IQR)', 'ECYRIMETHI': '7708 outliers (IQR)', 'ECYRIMKENY': '3945 outliers (IQR)', 'ECYRIMSOMA': '6196 outliers (IQR)', 'ECYRIMEAFO': '16965 outliers (IQR)', 'ECYRIMCAF': '24897 outliers (IQR)', 'ECYRIMNAF': '40079 outliers (IQR)', 'ECYRIMALGE': '12104 outliers (IQR)', 'ECYRIMEGYP': '7043 outliers (IQR)', 'ECYRIMMORO': '13127 outliers (IQR)', 'ECYRIMTUNI': '7924 outliers (IQR)', 'ECYRIMNAFO': '6170 outliers (IQR)', 'ECYRIMSAF': '6310 outliers (IQR)', 'ECYRIMA': '87591 outliers (IQR)', 'ECYRIMWCM': '87943 outliers (IQR)', 'ECYRIMAFGH': '26672 outliers (IQR)', 'ECYRIMIRAN': '20932 outliers (IQR)', 'ECYRIMIRAQ': '6890 outliers (IQR)', 'ECYRIMISRA': '3092 outliers (IQR)', 'ECYRIMLEBA': '10748 outliers (IQR)', 'ECYRIMSAUD': '7234 outliers (IQR)', 'ECYRIMSYRI': '14416 outliers (IQR)', 'ECYRIMTURK': '7591 outliers (IQR)', 'ECYRIMUAE': '6639 outliers (IQR)', 'ECYRIMWCMO': '13938 outliers (IQR)', 'ECYRIMEA': '69884 outliers (IQR)', 'ECYRIMCHIN': '53547 outliers (IQR)', 'ECYRIMHONG': '12824 outliers (IQR)', 'ECYRIMJAPA': '3201 outliers (IQR)', 'ECYRIMSKOR': '13151 outliers (IQR)', 'ECYRIMEAO': '3542 outliers (IQR)', 'ECYRIMSEA': '61553 outliers (IQR)', 'ECYRIMPHIL': '45942 outliers (IQR)', 'ECYRIMVIET': '15200 outliers (IQR)', 'ECYRIMSEAO': '7574 outliers (IQR)', 'ECYRIMSAS': '129638 outliers (IQR)', 'ECYRIMBANG': '9662 outliers (IQR)', 'ECYRIMINDI': '111752 outliers (IQR)', 'ECYRIMNEPA': '3730 outliers (IQR)', 'ECYRIMPAKI': '22710 outliers (IQR)', 'ECYRIMSRI': '5689 outliers (IQR)', 'ECYRIMSASO': '209 outliers (IQR)', 'ECYRIMOCE': '5108 outliers (IQR)', 'ECYRIMAUSS': '3679 outliers (IQR)', 'ECYRIMOCEO': '1610 outliers (IQR)', 'ECYPIMHPOP': '77625 outliers (IQR)', 'ECYPIMNI': '65537 outliers (IQR)', 'ECYPIMIM': '95518 outliers (IQR)', 'ECYPIMP01': '84660 outliers (IQR)', 'ECYPIM0110': '102320 outliers (IQR)', 'ECYPIM1115': '127215 outliers (IQR)', 'ECYPIM1621': '138425 outliers (IQR)', 'ECYPIM22CY': '133003 outliers (IQR)', 'ECYPIMNPER': '146828 outliers (IQR)', 'ECYAIMHPOP': '77625 outliers (IQR)', 'ECYAIMNI': '65537 outliers (IQR)', 'ECYAIMIM': '95518 outliers (IQR)', 'ECYAIM_0_5': '111213 outliers (IQR)', 'ECYAIM_514': '85847 outliers (IQR)', 'ECYAIM1524': '95463 outliers (IQR)', 'ECYAIM2544': '95672 outliers (IQR)', 'ECYAIM45P': '108911 outliers (IQR)', 'ECYAIMNPER': '146828 outliers (IQR)', 'ECYGENHPOP': '77625 outliers (IQR)', 'ECYGEN1GEN': '95849 outliers (IQR)', 'ECYGEN2GEN': '75718 outliers (IQR)', 'ECYGEN3GEN': '69168 outliers (IQR)', 'ECYTCAHPOP': '77625 outliers (IQR)', 'ECYTCACIT': '74723 outliers (IQR)', 'ECYTCA_U18': '74083 outliers (IQR)', 'ECYTCA_18P': '74439 outliers (IQR)', 'ECYNCANCIT': '106634 outliers (IQR)', 'ECYNCA_U18': '77350 outliers (IQR)', 'ECYNCA_18P': '88587 outliers (IQR)'}\n",
      "Household Spend Outliers: {'CODE': \"868969 values not equal to mode 'A1W4B3'\", 'HSBASHHD': '66196 outliers (IQR)', 'HSHNIAGG': '5045 outliers (Z-score)', 'HSAGDISPIN': '4908 outliers (Z-score)', 'HSAGDISCIN': '4821 outliers (Z-score)', 'HSTE001': '5061 outliers (Z-score)', 'HSTX001': '5976 outliers (Z-score)', 'HSTC001': '4863 outliers (Z-score)', 'HSSH001S': '5223 outliers (Z-score)', 'HSFD001S': '4678 outliers (Z-score)', 'HSHO001S': '4800 outliers (Z-score)', 'HSHC001S': '4597 outliers (Z-score)', 'HSHF001S': '4807 outliers (Z-score)', 'HSTR001S': '4497 outliers (Z-score)', 'HSRE001S': '4833 outliers (Z-score)', 'HSPC001S': '5099 outliers (Z-score)', 'HSCL001S': '5256 outliers (Z-score)', 'HSED002S': '6525 outliers (Z-score)', 'HSRO001S': '4248 outliers (Z-score)', 'HSTA001S': '4998 outliers (Z-score)', 'HSGC001S': '5452 outliers (Z-score)', 'HSME001S': '4866 outliers (Z-score)', 'HSEP001S': '4404 outliers (Z-score)', 'HSMG001S': '5470 outliers (Z-score)', 'HSWH002S': '3375 outliers (Z-score)', 'HSWH028S': '3558 outliers (Z-score)', 'HSWH040S': '4156 outliers (Z-score)', 'HSWH041S': '6131 outliers (Z-score)', 'HSWH042S': '4246 outliers (Z-score)', 'HSSH001': '5223 outliers (Z-score)', 'HSSH002': '5657 outliers (Z-score)', 'HSSH003': '11105 outliers (Z-score)', 'HSSH004': '11128 outliers (Z-score)', 'HSSH053': '11125 outliers (Z-score)', 'HSSH054': '11153 outliers (Z-score)', 'HSSH005': '5735 outliers (Z-score)', 'HSSH006': '9711 outliers (Z-score)', 'HSSH007': '6948 outliers (Z-score)', 'HSSH010': '4822 outliers (Z-score)', 'HSSH011': '4534 outliers (Z-score)', 'HSSH014': '3751 outliers (Z-score)', 'HSSH013': '7249 outliers (Z-score)', 'HSSH015': '3759 outliers (Z-score)', 'HSSH016': '6072 outliers (Z-score)', 'HSSH017': '5862 outliers (Z-score)', 'HSSH018': '4509 outliers (Z-score)', 'HSSH019': '4655 outliers (Z-score)', 'HSSH021': '5479 outliers (Z-score)', 'HSSH020': '5177 outliers (Z-score)', 'HSSH022': '7112 outliers (Z-score)', 'HSSH012': '4161 outliers (Z-score)', 'HSRM002A': '5639 outliers (Z-score)', 'HSRM002B': '5339 outliers (Z-score)', 'HSRM003A': '3910 outliers (Z-score)', 'HSRM003B': '4287 outliers (Z-score)', 'HSRM004': '3369 outliers (Z-score)', 'HSRM005': '3310 outliers (Z-score)', 'HSRM006': '2819 outliers (Z-score)', 'HSRM007': '3704 outliers (Z-score)', 'HSRM008M': '4000 outliers (Z-score)', 'HSRM009A': '3727 outliers (Z-score)', 'HSRM009B': '5389 outliers (Z-score)', 'HSRM010': '4847 outliers (Z-score)', 'HSRM011': '3271 outliers (Z-score)', 'HSRM012': '3274 outliers (Z-score)', 'HSRM013': '3633 outliers (Z-score)', 'HSRM015M': '3551 outliers (Z-score)', 'HSRM016': '3065 outliers (Z-score)', 'HSSH012B': '4161 outliers (Z-score)', 'HSOI020': '4181 outliers (Z-score)', 'HSOI020Z': '3897 outliers (Z-score)', 'HSSH030': '3665 outliers (Z-score)', 'HSSH031': '3600 outliers (Z-score)', 'HSSH031A': '3505 outliers (Z-score)', 'HSSH031B': '5567 outliers (Z-score)', 'HSSH032': '3581 outliers (Z-score)', 'HSSH032A': '3566 outliers (Z-score)', 'HSSH032B': '6758 outliers (Z-score)', 'HSSH033': '3453 outliers (Z-score)', 'HSSH033A': '3446 outliers (Z-score)', 'HSSH033B': '4770 outliers (Z-score)', 'HSSH034': '2640 outliers (Z-score)', 'HSSH035': '2329 outliers (Z-score)', 'HSSH035A': '2254 outliers (Z-score)', 'HSSH035B': '2660 outliers (Z-score)', 'HSSH036': '2550 outliers (Z-score)', 'HSSH036A': '2415 outliers (Z-score)', 'HSSH036B': '1983 outliers (Z-score)', 'HSSH037': '2767 outliers (Z-score)', 'HSSH037A': '2685 outliers (Z-score)', 'HSSH037B': '2621 outliers (Z-score)', 'HSSH040': '4335 outliers (Z-score)', 'HSSH041': '4771 outliers (Z-score)', 'HSSH042': '4812 outliers (Z-score)', 'HSSH043': '4299 outliers (Z-score)', 'HSSH044': '4687 outliers (Z-score)', 'HSSH045': '4788 outliers (Z-score)', 'HSSH046': '5739 outliers (Z-score)', 'HSSH046C': '6149 outliers (Z-score)', 'HSSH046M': '4887 outliers (Z-score)', 'HSSH047': '3035 outliers (Z-score)', 'HSSH047A': '2272 outliers (Z-score)', 'HSSH047C': '2583 outliers (Z-score)', 'HSSH047M': '4653 outliers (Z-score)', 'HSSH050': '4177 outliers (Z-score)', 'HSSH051': '4473 outliers (Z-score)', 'HSSH052': '3451 outliers (Z-score)', 'HSFD001': '4678 outliers (Z-score)', 'HSFD003': '4365 outliers (Z-score)', 'HSFD990': '5320 outliers (Z-score)', 'HSFD991': '5318 outliers (Z-score)', 'HSFD992': '5266 outliers (Z-score)', 'HSFD993': '5376 outliers (Z-score)', 'HSFD994': '5237 outliers (Z-score)', 'HSFD995': '5195 outliers (Z-score)', 'HSHO001': '4800 outliers (Z-score)', 'HSHO002': '6483 outliers (Z-score)', 'HSHO003': '3635 outliers (Z-score)', 'HSHO004': '3708 outliers (Z-score)', 'HSHO005': '4101 outliers (Z-score)', 'HSHO006': '3391 outliers (Z-score)', 'HSHO010': '4216 outliers (Z-score)', 'HSHO011': '4257 outliers (Z-score)', 'HSHO012': '4128 outliers (Z-score)', 'HSHO013': '4321 outliers (Z-score)', 'HSHO014': '4088 outliers (Z-score)', 'HSHO015': '4077 outliers (Z-score)', 'HSHO016': '4061 outliers (Z-score)', 'HSHO017': '4044 outliers (Z-score)', 'HSHO018': '3818 outliers (Z-score)', 'HSHO019': '4091 outliers (Z-score)', 'HSHO020': '3106 outliers (Z-score)', 'HSHO021': '3488 outliers (Z-score)', 'HSHO022': '3980 outliers (Z-score)', 'HSCC001': '3941 outliers (Z-score)', 'HSCC002': '3527 outliers (Z-score)', 'HSCC003': '4383 outliers (Z-score)', 'HSCC013': '2980 outliers (Z-score)', 'HSCC011': '2046 outliers (Z-score)', 'HSCC012': '3325 outliers (Z-score)', 'HSCC014': '5771 outliers (Z-score)', 'HSCS001': '6072 outliers (Z-score)', 'HSCS003': '6245 outliers (Z-score)', 'HSCS004': '4443 outliers (Z-score)', 'HSCS005': '6636 outliers (Z-score)', 'HSCS011': '5860 outliers (Z-score)', 'HSCS012': '4625 outliers (Z-score)', 'HSCS013': '6198 outliers (Z-score)', 'HSCS007': '5471 outliers (Z-score)', 'HSCS008': '5669 outliers (Z-score)', 'HSCS010': '5314 outliers (Z-score)', 'HSHC001': '4597 outliers (Z-score)', 'HSHC002': '4670 outliers (Z-score)', 'HSHC003': '4600 outliers (Z-score)', 'HSHC004': '4717 outliers (Z-score)', 'HSHC004A': '6260 outliers (Z-score)', 'HSHC004B': '4555 outliers (Z-score)', 'HSHC005': '4755 outliers (Z-score)', 'HSHC006': '4442 outliers (Z-score)', 'HSHC006A': '4234 outliers (Z-score)', 'HSHC006B': '4395 outliers (Z-score)', 'HSHC007': '4472 outliers (Z-score)', 'HSHC008': '4760 outliers (Z-score)', 'HSHC009': '5449 outliers (Z-score)', 'HSHC010': '4671 outliers (Z-score)', 'HSHC012': '4577 outliers (Z-score)', 'HSHC014': '4667 outliers (Z-score)', 'HSHC027': '4324 outliers (Z-score)', 'HSHC015': '4611 outliers (Z-score)', 'HSHC022': '3935 outliers (Z-score)', 'HSHC023': '3824 outliers (Z-score)', 'HSHC024': '3816 outliers (Z-score)', 'HSHC025': '3986 outliers (Z-score)', 'HSHF001': '4807 outliers (Z-score)', 'HSHF002': '5606 outliers (Z-score)', 'HSHF003': '5703 outliers (Z-score)', 'HSHF004': '5688 outliers (Z-score)', 'HSHF005': '5800 outliers (Z-score)', 'HSHF005A': '5895 outliers (Z-score)', 'HSHF005B': '3641 outliers (Z-score)', 'HSHF006': '4943 outliers (Z-score)', 'HSHF008': '4382 outliers (Z-score)', 'HSHE001': '4031 outliers (Z-score)', 'HSHE002': '4198 outliers (Z-score)', 'HSHE003': '4115 outliers (Z-score)', 'HSHE004': '4781 outliers (Z-score)', 'HSHE005': '4325 outliers (Z-score)', 'HSHE006': '4079 outliers (Z-score)', 'HSHE007': '3850 outliers (Z-score)', 'HSHE009': '4220 outliers (Z-score)', 'HSHE008': '4880 outliers (Z-score)', 'HSHE010': '3792 outliers (Z-score)', 'HSHE011': '3478 outliers (Z-score)', 'HSHE011A': '3184 outliers (Z-score)', 'HSHE011B': '3194 outliers (Z-score)', 'HSHE031': '3386 outliers (Z-score)', 'HSHE012': '3317 outliers (Z-score)', 'HSHE012M': '2944 outliers (Z-score)', 'HSHE032': '3450 outliers (Z-score)', 'HSHE013': '4373 outliers (Z-score)', 'HSHE015': '4227 outliers (Z-score)', 'HSHE016': '5254 outliers (Z-score)', 'HSHE020': '3569 outliers (Z-score)', 'HSHE021': '1961 outliers (Z-score)', 'HSHE023': '4707 outliers (Z-score)', 'HSTR001': '4497 outliers (Z-score)', 'HSTR002': '4129 outliers (Z-score)', 'HSTR003': '4269 outliers (Z-score)', 'HSTR004': '4241 outliers (Z-score)', 'HSTR005': '4466 outliers (Z-score)', 'HSTR006': '2877 outliers (Z-score)', 'HSTR007': '4352 outliers (Z-score)', 'HSTR008': '4443 outliers (Z-score)', 'HSTR009': '4048 outliers (Z-score)', 'HSTR058': '4773 outliers (Z-score)', 'HSTR010': '5466 outliers (Z-score)', 'HSTR011': '5430 outliers (Z-score)', 'HSTR012': '5679 outliers (Z-score)', 'HSTR014M': '4793 outliers (Z-score)', 'HSTR015': '3864 outliers (Z-score)', 'HSTR020': '5756 outliers (Z-score)', 'HSTR030': '3932 outliers (Z-score)', 'HSTR031': '5027 outliers (Z-score)', 'HSTR032': '4215 outliers (Z-score)', 'HSTR033': '3791 outliers (Z-score)', 'HSTR034': '4097 outliers (Z-score)', 'HSTR035': '2784 outliers (Z-score)', 'HSTR036': '3791 outliers (Z-score)', 'HSTR037': '4244 outliers (Z-score)', 'HSTR038': '6851 outliers (Z-score)', 'HSTR039': '4488 outliers (Z-score)', 'HSTR040': '2954 outliers (Z-score)', 'HSTR041': '5078 outliers (Z-score)', 'HSTR050': '8687 outliers (Z-score)', 'HSTR051': '10351 outliers (Z-score)', 'HSTR052': '8784 outliers (Z-score)', 'HSTR053': '5841 outliers (Z-score)', 'HSTR054': '7589 outliers (Z-score)', 'HSTR055': '8248 outliers (Z-score)', 'HSTR056': '6577 outliers (Z-score)', 'HSTR056A': '6227 outliers (Z-score)', 'HSTR056B': '5751 outliers (Z-score)', 'HSTR057': '6388 outliers (Z-score)'}\n"
     ]
    }
   ],
   "source": [
    "# Function to find outliers in a dataframe\n",
    "def find_outlier_columns(df):\n",
    "    outlier_columns = {}\n",
    "\n",
    "    for col in df.columns:\n",
    "        dtype = df.schema[col]\n",
    "        series = df[col]\n",
    "\n",
    "        if dtype == pl.Int64 or dtype == pl.UInt64:\n",
    "            Q1 = series.quantile(0.25)\n",
    "            Q3 = series.quantile(0.75)\n",
    "            IQR = Q3 - Q1\n",
    "            lower = Q1 - 1.5 * IQR\n",
    "            upper = Q3 + 1.5 * IQR\n",
    "            outliers = df.filter((series < lower) | (series > upper))\n",
    "\n",
    "            if outliers.height > 0:\n",
    "                outlier_columns[col] = f\"{outliers.height} outliers (IQR)\"\n",
    "\n",
    "        elif dtype == pl.Float64:\n",
    "            mean = series.mean()\n",
    "            std = series.std()\n",
    "            if std == 0:\n",
    "                continue\n",
    "            z = series - mean\n",
    "            z_scores = z / std\n",
    "            outliers = df.filter(z_scores.abs() > 3)\n",
    "\n",
    "            if outliers.height > 0:\n",
    "                outlier_columns[col] = f\"{outliers.height} outliers (Z-score)\"\n",
    "\n",
    "        elif dtype == pl.Utf8:\n",
    "            mode = series.mode()\n",
    "            mode_val = mode[0] if mode.len() > 0 else None\n",
    "            non_mode = df.filter(series != mode_val)\n",
    "\n",
    "            if non_mode.height > 0:\n",
    "                outlier_columns[col] = f\"{non_mode.height} values not equal to mode '{mode_val}'\"\n",
    "\n",
    "    return outlier_columns\n",
    "\n",
    "\n",
    "\n",
    "# Find outliers in both dataframes\n",
    "demo_stats_outliers = find_outlier_columns(demo_stats_df)\n",
    "household_spend_outliers = find_outlier_columns(household_spend_df)\n",
    "\n",
    "# Initial Outliers for each csv file\n",
    "print(\"Demo Stats Outliers:\", demo_stats_outliers)\n",
    "print(\"Household Spend Outliers:\", household_spend_outliers)"
   ]
  },
  {
   "cell_type": "markdown",
   "metadata": {},
   "source": [
    "<p>To handle outliers...</p>"
   ]
  },
  {
   "cell_type": "code",
   "execution_count": 26,
   "metadata": {},
   "outputs": [],
   "source": [
    "# OUTLIER CODE HERE"
   ]
  },
  {
   "cell_type": "markdown",
   "metadata": {},
   "source": [
    "<h3>Merging Datasets</h3>"
   ]
  },
  {
   "cell_type": "code",
   "execution_count": 8,
   "metadata": {},
   "outputs": [
    {
     "data": {
      "text/html": [
       "<div><style>\n",
       ".dataframe > thead > tr,\n",
       ".dataframe > tbody > tr {\n",
       "  text-align: right;\n",
       "  white-space: pre-wrap;\n",
       "}\n",
       "</style>\n",
       "<small>shape: (9, 972)</small><table border=\"1\" class=\"dataframe\"><thead><tr><th>statistic</th><th>CODE</th><th>GEO</th><th>ECYASQKM</th><th>ECYALSQKM</th><th>ECYBASPOP</th><th>ECYBASHHD</th><th>ECYBASHPOP</th><th>ECYBAS12P</th><th>ECYBAS15P</th><th>ECYBAS18P</th><th>ECYBAS19P</th><th>ECYBAS12HP</th><th>ECYBAS15HP</th><th>ECYBAS18HP</th><th>ECYBAS19HP</th><th>ECYBASTNGH</th><th>ECYBASADUH</th><th>ECYBASCF</th><th>ECYBASCFH</th><th>ECYBASKID</th><th>ECYBASLF</th><th>ECYPTAPOP</th><th>ECYPTA_0_4</th><th>ECYPTA_5_9</th><th>ECYPTA1014</th><th>ECYPTA1519</th><th>ECYPTA2024</th><th>ECYPTA2529</th><th>ECYPTA3034</th><th>ECYPTA3539</th><th>ECYPTA4044</th><th>ECYPTA4549</th><th>ECYPTA5054</th><th>ECYPTA5559</th><th>ECYPTA6064</th><th>ECYPTA6569</th><th>&hellip;</th><th>HSTR002</th><th>HSTR003</th><th>HSTR004</th><th>HSTR005</th><th>HSTR006</th><th>HSTR007</th><th>HSTR008</th><th>HSTR009</th><th>HSTR058</th><th>HSTR010</th><th>HSTR011</th><th>HSTR012</th><th>HSTR014M</th><th>HSTR015</th><th>HSTR020</th><th>HSTR030</th><th>HSTR031</th><th>HSTR032</th><th>HSTR033</th><th>HSTR034</th><th>HSTR035</th><th>HSTR036</th><th>HSTR037</th><th>HSTR038</th><th>HSTR039</th><th>HSTR040</th><th>HSTR041</th><th>HSTR050</th><th>HSTR051</th><th>HSTR052</th><th>HSTR053</th><th>HSTR054</th><th>HSTR055</th><th>HSTR056</th><th>HSTR056A</th><th>HSTR056B</th><th>HSTR057</th></tr><tr><td>str</td><td>str</td><td>str</td><td>f64</td><td>f64</td><td>f64</td><td>f64</td><td>f64</td><td>f64</td><td>f64</td><td>f64</td><td>f64</td><td>f64</td><td>f64</td><td>f64</td><td>f64</td><td>f64</td><td>f64</td><td>f64</td><td>f64</td><td>f64</td><td>f64</td><td>f64</td><td>f64</td><td>f64</td><td>f64</td><td>f64</td><td>f64</td><td>f64</td><td>f64</td><td>f64</td><td>f64</td><td>f64</td><td>f64</td><td>f64</td><td>f64</td><td>f64</td><td>&hellip;</td><td>f64</td><td>f64</td><td>f64</td><td>f64</td><td>f64</td><td>f64</td><td>f64</td><td>f64</td><td>f64</td><td>f64</td><td>f64</td><td>f64</td><td>f64</td><td>f64</td><td>f64</td><td>f64</td><td>f64</td><td>f64</td><td>f64</td><td>f64</td><td>f64</td><td>f64</td><td>f64</td><td>f64</td><td>f64</td><td>f64</td><td>f64</td><td>f64</td><td>f64</td><td>f64</td><td>f64</td><td>f64</td><td>f64</td><td>f64</td><td>f64</td><td>f64</td><td>f64</td></tr></thead><tbody><tr><td>&quot;count&quot;</td><td>&quot;868970&quot;</td><td>&quot;868970&quot;</td><td>868970.0</td><td>868970.0</td><td>868970.0</td><td>868970.0</td><td>868970.0</td><td>868970.0</td><td>868970.0</td><td>868970.0</td><td>868970.0</td><td>868970.0</td><td>868970.0</td><td>868970.0</td><td>868970.0</td><td>868970.0</td><td>868970.0</td><td>868970.0</td><td>868970.0</td><td>868970.0</td><td>868970.0</td><td>868970.0</td><td>868970.0</td><td>868970.0</td><td>868970.0</td><td>868970.0</td><td>868970.0</td><td>868970.0</td><td>868970.0</td><td>868970.0</td><td>868970.0</td><td>868970.0</td><td>868970.0</td><td>868970.0</td><td>868970.0</td><td>868970.0</td><td>&hellip;</td><td>868970.0</td><td>868970.0</td><td>868970.0</td><td>868970.0</td><td>868970.0</td><td>868970.0</td><td>868970.0</td><td>868970.0</td><td>868970.0</td><td>868970.0</td><td>868970.0</td><td>868970.0</td><td>868970.0</td><td>868970.0</td><td>868970.0</td><td>868970.0</td><td>868970.0</td><td>868970.0</td><td>868970.0</td><td>868970.0</td><td>868970.0</td><td>868970.0</td><td>868970.0</td><td>868970.0</td><td>868970.0</td><td>868970.0</td><td>868970.0</td><td>868970.0</td><td>868970.0</td><td>868970.0</td><td>868970.0</td><td>868970.0</td><td>868970.0</td><td>868970.0</td><td>868970.0</td><td>868970.0</td><td>868970.0</td></tr><tr><td>&quot;null_count&quot;</td><td>&quot;0&quot;</td><td>&quot;0&quot;</td><td>0.0</td><td>0.0</td><td>0.0</td><td>0.0</td><td>0.0</td><td>0.0</td><td>0.0</td><td>0.0</td><td>0.0</td><td>0.0</td><td>0.0</td><td>0.0</td><td>0.0</td><td>0.0</td><td>0.0</td><td>0.0</td><td>0.0</td><td>0.0</td><td>0.0</td><td>0.0</td><td>0.0</td><td>0.0</td><td>0.0</td><td>0.0</td><td>0.0</td><td>0.0</td><td>0.0</td><td>0.0</td><td>0.0</td><td>0.0</td><td>0.0</td><td>0.0</td><td>0.0</td><td>0.0</td><td>&hellip;</td><td>0.0</td><td>0.0</td><td>0.0</td><td>0.0</td><td>0.0</td><td>0.0</td><td>0.0</td><td>0.0</td><td>0.0</td><td>0.0</td><td>0.0</td><td>0.0</td><td>0.0</td><td>0.0</td><td>0.0</td><td>0.0</td><td>0.0</td><td>0.0</td><td>0.0</td><td>0.0</td><td>0.0</td><td>0.0</td><td>0.0</td><td>0.0</td><td>0.0</td><td>0.0</td><td>0.0</td><td>0.0</td><td>0.0</td><td>0.0</td><td>0.0</td><td>0.0</td><td>0.0</td><td>0.0</td><td>0.0</td><td>0.0</td><td>0.0</td></tr><tr><td>&quot;mean&quot;</td><td>null</td><td>null</td><td>0.0</td><td>0.0</td><td>46.684199</td><td>18.432629</td><td>45.881762</td><td>41.254934</td><td>39.613594</td><td>37.819792</td><td>37.323999</td><td>40.336732</td><td>38.832472</td><td>37.263988</td><td>36.746572</td><td>3.072744</td><td>24.49923</td><td>12.76093</td><td>12.051364</td><td>12.740845</td><td>24.633679</td><td>46.684199</td><td>2.181318</td><td>2.390635</td><td>2.498651</td><td>2.672259</td><td>3.213171</td><td>3.308621</td><td>3.406466</td><td>3.258362</td><td>3.117668</td><td>2.858167</td><td>2.776588</td><td>2.859335</td><td>3.10898</td><td>2.80384</td><td>&hellip;</td><td>236398.761036</td><td>118477.006209</td><td>114562.677761</td><td>14888.288571</td><td>8607.895903</td><td>91066.493288</td><td>188.957063</td><td>83.539013</td><td>105.41805</td><td>3725.371385</td><td>3469.552047</td><td>2092.59778</td><td>1376.954267</td><td>255.819338</td><td>1504.664209</td><td>116417.090618</td><td>3287.664753</td><td>10103.061471</td><td>12676.188385</td><td>18214.142317</td><td>100.530695</td><td>63415.559732</td><td>2639.560863</td><td>4612.181943</td><td>1368.200459</td><td>379.01064</td><td>989.189819</td><td>34736.610626</td><td>5995.306708</td><td>2258.469958</td><td>915.416319</td><td>23038.220756</td><td>71.1409</td><td>1322.434304</td><td>831.592595</td><td>490.84171</td><td>1135.621681</td></tr><tr><td>&quot;std&quot;</td><td>null</td><td>null</td><td>0.0</td><td>0.0</td><td>174.837877</td><td>69.379951</td><td>171.817976</td><td>152.539099</td><td>145.876662</td><td>139.320601</td><td>137.611402</td><td>149.038058</td><td>143.038376</td><td>137.181937</td><td>135.319262</td><td>12.468123</td><td>87.647782</td><td>50.126862</td><td>47.828225</td><td>49.02113</td><td>89.352097</td><td>174.837877</td><td>9.518254</td><td>10.400337</td><td>10.705186</td><td>10.30089</td><td>10.888878</td><td>10.894537</td><td>11.699239</td><td>11.371185</td><td>11.099312</td><td>10.485757</td><td>10.544898</td><td>11.657788</td><td>13.69638</td><td>12.729886</td><td>&hellip;</td><td>990960.632583</td><td>507452.95803</td><td>494184.487741</td><td>58848.760548</td><td>45895.371562</td><td>398856.15598</td><td>794.022208</td><td>358.55285</td><td>497.256289</td><td>14112.764792</td><td>13213.369738</td><td>8173.498909</td><td>5705.767025</td><td>1422.161917</td><td>5673.303299</td><td>486744.921092</td><td>14400.182837</td><td>39378.141535</td><td>60281.31644</td><td>71889.568827</td><td>615.785308</td><td>284702.777168</td><td>13567.714202</td><td>14917.235034</td><td>5725.037991</td><td>2091.296014</td><td>3882.026395</td><td>101629.434794</td><td>19414.670337</td><td>7613.821326</td><td>5037.673958</td><td>71509.135272</td><td>257.018871</td><td>6638.799848</td><td>5076.885882</td><td>2097.649493</td><td>4203.801021</td></tr><tr><td>&quot;min&quot;</td><td>&quot;A0A0A0&quot;</td><td>&quot;FSALDU&quot;</td><td>0.0</td><td>0.0</td><td>0.0</td><td>0.0</td><td>0.0</td><td>0.0</td><td>0.0</td><td>0.0</td><td>0.0</td><td>0.0</td><td>0.0</td><td>0.0</td><td>0.0</td><td>0.0</td><td>0.0</td><td>0.0</td><td>0.0</td><td>0.0</td><td>0.0</td><td>0.0</td><td>0.0</td><td>0.0</td><td>0.0</td><td>0.0</td><td>0.0</td><td>0.0</td><td>0.0</td><td>0.0</td><td>0.0</td><td>0.0</td><td>0.0</td><td>0.0</td><td>0.0</td><td>0.0</td><td>&hellip;</td><td>0.0</td><td>0.0</td><td>0.0</td><td>0.0</td><td>0.0</td><td>0.0</td><td>0.0</td><td>0.0</td><td>0.0</td><td>0.0</td><td>0.0</td><td>0.0</td><td>0.0</td><td>0.0</td><td>0.0</td><td>0.0</td><td>0.0</td><td>0.0</td><td>0.0</td><td>0.0</td><td>0.0</td><td>0.0</td><td>0.0</td><td>0.0</td><td>0.0</td><td>0.0</td><td>0.0</td><td>0.0</td><td>0.0</td><td>0.0</td><td>0.0</td><td>0.0</td><td>0.0</td><td>0.0</td><td>0.0</td><td>0.0</td><td>0.0</td></tr><tr><td>&quot;25%&quot;</td><td>null</td><td>null</td><td>0.0</td><td>0.0</td><td>8.0</td><td>3.0</td><td>7.0</td><td>7.0</td><td>7.0</td><td>6.0</td><td>6.0</td><td>7.0</td><td>7.0</td><td>6.0</td><td>6.0</td><td>0.0</td><td>4.0</td><td>2.0</td><td>2.0</td><td>2.0</td><td>4.0</td><td>8.0</td><td>0.0</td><td>0.0</td><td>0.0</td><td>1.0</td><td>0.0</td><td>0.0</td><td>0.0</td><td>0.0</td><td>0.0</td><td>0.0</td><td>0.0</td><td>0.0</td><td>0.0</td><td>0.0</td><td>&hellip;</td><td>31974.915025</td><td>14884.392499</td><td>14404.559008</td><td>1721.930707</td><td>889.08304</td><td>10994.748987</td><td>18.79587</td><td>8.307298</td><td>6.952265</td><td>341.867661</td><td>307.276114</td><td>167.899519</td><td>93.667955</td><td>6.870296</td><td>105.847834</td><td>16361.845444</td><td>313.292801</td><td>1178.97798</td><td>1513.451358</td><td>2469.125994</td><td>7.898357</td><td>8700.00923</td><td>189.507627</td><td>384.138866</td><td>151.543329</td><td>37.742767</td><td>93.143563</td><td>2811.475222</td><td>162.774495</td><td>167.312143</td><td>35.976385</td><td>1768.315493</td><td>6.114269</td><td>85.412388</td><td>36.712766</td><td>23.624462</td><td>88.826063</td></tr><tr><td>&quot;50%&quot;</td><td>null</td><td>null</td><td>0.0</td><td>0.0</td><td>21.0</td><td>8.0</td><td>21.0</td><td>19.0</td><td>19.0</td><td>18.0</td><td>17.0</td><td>19.0</td><td>18.0</td><td>17.0</td><td>17.0</td><td>1.0</td><td>11.0</td><td>6.0</td><td>5.0</td><td>5.0</td><td>11.0</td><td>21.0</td><td>1.0</td><td>1.0</td><td>1.0</td><td>1.0</td><td>1.0</td><td>1.0</td><td>1.0</td><td>1.0</td><td>1.0</td><td>1.0</td><td>1.0</td><td>1.0</td><td>2.0</td><td>1.0</td><td>&hellip;</td><td>99636.881325</td><td>47255.263545</td><td>45702.223467</td><td>5675.289883</td><td>3012.454702</td><td>35561.278678</td><td>64.954671</td><td>29.399074</td><td>27.016134</td><td>1221.710075</td><td>1114.524975</td><td>634.507481</td><td>383.183443</td><td>48.33781</td><td>455.550063</td><td>50448.828495</td><td>1010.89752</td><td>4106.746145</td><td>4918.767677</td><td>7819.010503</td><td>30.350255</td><td>26710.649778</td><td>726.944444</td><td>1601.499714</td><td>495.907153</td><td>121.108084</td><td>342.930165</td><td>10954.693342</td><td>1156.778626</td><td>701.484161</td><td>161.412101</td><td>7057.834978</td><td>23.787995</td><td>343.285857</td><td>161.941917</td><td>117.546716</td><td>354.380653</td></tr><tr><td>&quot;75%&quot;</td><td>null</td><td>null</td><td>0.0</td><td>0.0</td><td>47.0</td><td>18.0</td><td>46.0</td><td>41.0</td><td>40.0</td><td>38.0</td><td>38.0</td><td>41.0</td><td>39.0</td><td>38.0</td><td>37.0</td><td>3.0</td><td>25.0</td><td>13.0</td><td>12.0</td><td>12.0</td><td>25.0</td><td>47.0</td><td>2.0</td><td>2.0</td><td>2.0</td><td>3.0</td><td>3.0</td><td>3.0</td><td>3.0</td><td>3.0</td><td>3.0</td><td>3.0</td><td>3.0</td><td>3.0</td><td>3.0</td><td>3.0</td><td>&hellip;</td><td>234841.660337</td><td>116289.221612</td><td>112200.441102</td><td>15018.869906</td><td>8150.993847</td><td>87545.046991</td><td>180.270628</td><td>78.649214</td><td>86.006103</td><td>3560.668285</td><td>3296.700024</td><td>1929.993628</td><td>1207.25064</td><td>209.470357</td><td>1429.641014</td><td>116348.736875</td><td>2834.456579</td><td>10240.10095</td><td>12318.235716</td><td>18680.935475</td><td>86.966083</td><td>61627.089698</td><td>2153.664949</td><td>4785.370267</td><td>1321.914033</td><td>341.421503</td><td>954.217924</td><td>34053.319991</td><td>4960.248059</td><td>2008.694424</td><td>540.584951</td><td>22586.713725</td><td>63.703739</td><td>1023.247916</td><td>544.115663</td><td>420.149131</td><td>1009.684299</td></tr><tr><td>&quot;max&quot;</td><td>&quot;Y1A7A4&quot;</td><td>&quot;FSALDU&quot;</td><td>0.0</td><td>0.0</td><td>23507.0</td><td>7751.0</td><td>23378.0</td><td>20141.0</td><td>19020.0</td><td>17849.0</td><td>17487.0</td><td>19950.0</td><td>18891.0</td><td>17781.0</td><td>17436.0</td><td>2169.0</td><td>11623.0</td><td>6837.0</td><td>6487.0</td><td>8218.0</td><td>13551.0</td><td>23507.0</td><td>1241.0</td><td>1530.0</td><td>1791.0</td><td>1871.0</td><td>1954.0</td><td>1200.0</td><td>1478.0</td><td>1437.0</td><td>1811.0</td><td>1723.0</td><td>1617.0</td><td>1545.0</td><td>1393.0</td><td>1293.0</td><td>&hellip;</td><td>1.2796e8</td><td>7.0898e7</td><td>6.8704e7</td><td>8.7079e6</td><td>1.0164e7</td><td>5.2694e7</td><td>98537.879231</td><td>43886.395799</td><td>62217.543041</td><td>2.1477e6</td><td>2.1443e6</td><td>1.3459e6</td><td>895523.577009</td><td>272687.971232</td><td>1.1006e6</td><td>5.8696e7</td><td>1.9230e6</td><td>5.4522e6</td><td>9.1193e6</td><td>8.5339e6</td><td>128411.834084</td><td>3.7197e7</td><td>2.9165e6</td><td>1.8141e6</td><td>1.0225e6</td><td>406708.260287</td><td>615838.990473</td><td>1.2478e7</td><td>2.3201e6</td><td>1.0707e6</td><td>653408.354038</td><td>9.9506e6</td><td>29234.466882</td><td>1.4912e6</td><td>1.2078e6</td><td>397905.142758</td><td>733300.179849</td></tr></tbody></table></div>"
      ],
      "text/plain": [
       "shape: (9, 972)\n",
       "┌────────────┬────────┬────────┬──────────┬───┬─────────────┬────────────┬────────────┬────────────┐\n",
       "│ statistic  ┆ CODE   ┆ GEO    ┆ ECYASQKM ┆ … ┆ HSTR056     ┆ HSTR056A   ┆ HSTR056B   ┆ HSTR057    │\n",
       "│ ---        ┆ ---    ┆ ---    ┆ ---      ┆   ┆ ---         ┆ ---        ┆ ---        ┆ ---        │\n",
       "│ str        ┆ str    ┆ str    ┆ f64      ┆   ┆ f64         ┆ f64        ┆ f64        ┆ f64        │\n",
       "╞════════════╪════════╪════════╪══════════╪═══╪═════════════╪════════════╪════════════╪════════════╡\n",
       "│ count      ┆ 868970 ┆ 868970 ┆ 868970.0 ┆ … ┆ 868970.0    ┆ 868970.0   ┆ 868970.0   ┆ 868970.0   │\n",
       "│ null_count ┆ 0      ┆ 0      ┆ 0.0      ┆ … ┆ 0.0         ┆ 0.0        ┆ 0.0        ┆ 0.0        │\n",
       "│ mean       ┆ null   ┆ null   ┆ 0.0      ┆ … ┆ 1322.434304 ┆ 831.592595 ┆ 490.84171  ┆ 1135.62168 │\n",
       "│            ┆        ┆        ┆          ┆   ┆             ┆            ┆            ┆ 1          │\n",
       "│ std        ┆ null   ┆ null   ┆ 0.0      ┆ … ┆ 6638.799848 ┆ 5076.88588 ┆ 2097.64949 ┆ 4203.80102 │\n",
       "│            ┆        ┆        ┆          ┆   ┆             ┆ 2          ┆ 3          ┆ 1          │\n",
       "│ min        ┆ A0A0A0 ┆ FSALDU ┆ 0.0      ┆ … ┆ 0.0         ┆ 0.0        ┆ 0.0        ┆ 0.0        │\n",
       "│ 25%        ┆ null   ┆ null   ┆ 0.0      ┆ … ┆ 85.412388   ┆ 36.712766  ┆ 23.624462  ┆ 88.826063  │\n",
       "│ 50%        ┆ null   ┆ null   ┆ 0.0      ┆ … ┆ 343.285857  ┆ 161.941917 ┆ 117.546716 ┆ 354.380653 │\n",
       "│ 75%        ┆ null   ┆ null   ┆ 0.0      ┆ … ┆ 1023.247916 ┆ 544.115663 ┆ 420.149131 ┆ 1009.68429 │\n",
       "│            ┆        ┆        ┆          ┆   ┆             ┆            ┆            ┆ 9          │\n",
       "│ max        ┆ Y1A7A4 ┆ FSALDU ┆ 0.0      ┆ … ┆ 1.4912e6    ┆ 1.2078e6   ┆ 397905.142 ┆ 733300.179 │\n",
       "│            ┆        ┆        ┆          ┆   ┆             ┆            ┆ 758        ┆ 849        │\n",
       "└────────────┴────────┴────────┴──────────┴───┴─────────────┴────────────┴────────────┴────────────┘"
      ]
     },
     "execution_count": 8,
     "metadata": {},
     "output_type": "execute_result"
    }
   ],
   "source": [
    "merged_df = demo_stats_df.join(\n",
    "    household_spend_df,\n",
    "    on=[\"CODE\", \"GEO\"],\n",
    "    how=\"inner\"\n",
    ")\n",
    "\n",
    "merged_df.describe()"
   ]
  },
  {
   "cell_type": "markdown",
   "metadata": {},
   "source": [
    "<h3>Dropping ID and Clean Up</h3>"
   ]
  },
  {
   "cell_type": "code",
   "execution_count": 9,
   "metadata": {},
   "outputs": [
    {
     "data": {
      "text/html": [
       "<div><style>\n",
       ".dataframe > thead > tr,\n",
       ".dataframe > tbody > tr {\n",
       "  text-align: right;\n",
       "  white-space: pre-wrap;\n",
       "}\n",
       "</style>\n",
       "<small>shape: (5, 967)</small><table border=\"1\" class=\"dataframe\"><thead><tr><th>ECYBASPOP</th><th>ECYBASHHD</th><th>ECYBASHPOP</th><th>ECYBAS12P</th><th>ECYBAS15P</th><th>ECYBAS18P</th><th>ECYBAS19P</th><th>ECYBAS12HP</th><th>ECYBAS15HP</th><th>ECYBAS18HP</th><th>ECYBAS19HP</th><th>ECYBASTNGH</th><th>ECYBASADUH</th><th>ECYBASCF</th><th>ECYBASCFH</th><th>ECYBASKID</th><th>ECYBASLF</th><th>ECYPTAPOP</th><th>ECYPTA_0_4</th><th>ECYPTA_5_9</th><th>ECYPTA1014</th><th>ECYPTA1519</th><th>ECYPTA2024</th><th>ECYPTA2529</th><th>ECYPTA3034</th><th>ECYPTA3539</th><th>ECYPTA4044</th><th>ECYPTA4549</th><th>ECYPTA5054</th><th>ECYPTA5559</th><th>ECYPTA6064</th><th>ECYPTA6569</th><th>ECYPTA7074</th><th>ECYPTA7579</th><th>ECYPTA8084</th><th>ECYPTA85P</th><th>ECYPTAAVG</th><th>&hellip;</th><th>HSTR002</th><th>HSTR003</th><th>HSTR004</th><th>HSTR005</th><th>HSTR006</th><th>HSTR007</th><th>HSTR008</th><th>HSTR009</th><th>HSTR058</th><th>HSTR010</th><th>HSTR011</th><th>HSTR012</th><th>HSTR014M</th><th>HSTR015</th><th>HSTR020</th><th>HSTR030</th><th>HSTR031</th><th>HSTR032</th><th>HSTR033</th><th>HSTR034</th><th>HSTR035</th><th>HSTR036</th><th>HSTR037</th><th>HSTR038</th><th>HSTR039</th><th>HSTR040</th><th>HSTR041</th><th>HSTR050</th><th>HSTR051</th><th>HSTR052</th><th>HSTR053</th><th>HSTR054</th><th>HSTR055</th><th>HSTR056</th><th>HSTR056A</th><th>HSTR056B</th><th>HSTR057</th></tr><tr><td>i64</td><td>i64</td><td>i64</td><td>i64</td><td>i64</td><td>i64</td><td>i64</td><td>i64</td><td>i64</td><td>i64</td><td>i64</td><td>i64</td><td>i64</td><td>i64</td><td>i64</td><td>i64</td><td>i64</td><td>i64</td><td>i64</td><td>i64</td><td>i64</td><td>i64</td><td>i64</td><td>i64</td><td>i64</td><td>i64</td><td>i64</td><td>i64</td><td>i64</td><td>i64</td><td>i64</td><td>i64</td><td>i64</td><td>i64</td><td>i64</td><td>i64</td><td>f64</td><td>&hellip;</td><td>f64</td><td>f64</td><td>f64</td><td>f64</td><td>f64</td><td>f64</td><td>f64</td><td>f64</td><td>f64</td><td>f64</td><td>f64</td><td>f64</td><td>f64</td><td>f64</td><td>f64</td><td>f64</td><td>f64</td><td>f64</td><td>f64</td><td>f64</td><td>f64</td><td>f64</td><td>f64</td><td>f64</td><td>f64</td><td>f64</td><td>f64</td><td>f64</td><td>f64</td><td>f64</td><td>f64</td><td>f64</td><td>f64</td><td>f64</td><td>f64</td><td>f64</td><td>f64</td></tr></thead><tbody><tr><td>55</td><td>33</td><td>55</td><td>55</td><td>55</td><td>55</td><td>55</td><td>55</td><td>55</td><td>55</td><td>55</td><td>0</td><td>20</td><td>17</td><td>17</td><td>4</td><td>24</td><td>55</td><td>0</td><td>0</td><td>0</td><td>0</td><td>0</td><td>0</td><td>0</td><td>0</td><td>0</td><td>4</td><td>2</td><td>7</td><td>7</td><td>15</td><td>14</td><td>5</td><td>1</td><td>0</td><td>66.0</td><td>&hellip;</td><td>377880.544471</td><td>157694.431895</td><td>154618.605589</td><td>19147.601315</td><td>6506.452965</td><td>128964.551309</td><td>92.981121</td><td>27.22591</td><td>65.755211</td><td>2982.845186</td><td>2915.093273</td><td>1717.740721</td><td>1197.352552</td><td>67.751913</td><td>1125.909986</td><td>219060.202589</td><td>3580.014342</td><td>14610.543963</td><td>16914.182572</td><td>33419.733884</td><td>152.944603</td><td>146687.301129</td><td>1981.620945</td><td>888.522083</td><td>825.339069</td><td>278.449988</td><td>546.889081</td><td>40302.224863</td><td>224.75766</td><td>657.334582</td><td>4139.93137</td><td>32857.110603</td><td>20.511766</td><td>1694.913488</td><td>1132.355623</td><td>562.557865</td><td>707.665394</td></tr><tr><td>588</td><td>243</td><td>588</td><td>561</td><td>512</td><td>475</td><td>475</td><td>513</td><td>512</td><td>475</td><td>475</td><td>38</td><td>280</td><td>172</td><td>168</td><td>136</td><td>264</td><td>588</td><td>15</td><td>12</td><td>49</td><td>37</td><td>19</td><td>37</td><td>8</td><td>35</td><td>29</td><td>45</td><td>30</td><td>57</td><td>39</td><td>43</td><td>59</td><td>50</td><td>18</td><td>6</td><td>47.9</td><td>&hellip;</td><td>2.9270e6</td><td>1.3666e6</td><td>1.3347e6</td><td>144905.233034</td><td>70969.3071</td><td>1.1188e6</td><td>1572.569428</td><td>635.322319</td><td>937.247109</td><td>30301.802001</td><td>29648.970902</td><td>16628.734678</td><td>13020.236224</td><td>652.831098</td><td>8739.128845</td><td>1.5517e6</td><td>28991.087452</td><td>129798.731751</td><td>149304.455577</td><td>175778.498143</td><td>928.548736</td><td>1.0321e6</td><td>12730.15919</td><td>8537.751987</td><td>13519.780259</td><td>2539.210274</td><td>10980.569985</td><td>328744.754734</td><td>4252.18577</td><td>11548.167172</td><td>21551.193368</td><td>269365.223196</td><td>256.084243</td><td>12084.581078</td><td>8089.461528</td><td>3995.11955</td><td>9687.319907</td></tr><tr><td>1793</td><td>709</td><td>1791</td><td>1548</td><td>1465</td><td>1405</td><td>1395</td><td>1495</td><td>1463</td><td>1408</td><td>1396</td><td>87</td><td>935</td><td>560</td><td>543</td><td>491</td><td>958</td><td>1793</td><td>98</td><td>127</td><td>103</td><td>79</td><td>90</td><td>81</td><td>110</td><td>111</td><td>116</td><td>132</td><td>107</td><td>140</td><td>138</td><td>148</td><td>91</td><td>65</td><td>29</td><td>28</td><td>42.3</td><td>&hellip;</td><td>1.0800e7</td><td>5.5292e6</td><td>5.3760e6</td><td>504651.039362</td><td>274340.95416</td><td>4.5970e6</td><td>6165.60132</td><td>2730.643738</td><td>3434.957582</td><td>147062.40254</td><td>144332.340337</td><td>77036.265539</td><td>67296.074799</td><td>2730.062203</td><td>46291.892482</td><td>5.2241e6</td><td>94851.316536</td><td>463399.883939</td><td>470456.016644</td><td>560144.196807</td><td>4217.064428</td><td>3.4998e6</td><td>46901.967628</td><td>39916.485144</td><td>44493.479726</td><td>7988.469942</td><td>36505.009784</td><td>1.4339e6</td><td>14661.222551</td><td>51334.803379</td><td>72033.951513</td><td>1.2090e6</td><td>797.686509</td><td>47442.041806</td><td>31659.420678</td><td>15782.621128</td><td>38636.01747</td></tr><tr><td>452</td><td>176</td><td>449</td><td>415</td><td>389</td><td>357</td><td>357</td><td>389</td><td>386</td><td>354</td><td>354</td><td>35</td><td>211</td><td>132</td><td>130</td><td>121</td><td>200</td><td>452</td><td>20</td><td>16</td><td>27</td><td>32</td><td>24</td><td>18</td><td>27</td><td>32</td><td>21</td><td>17</td><td>27</td><td>21</td><td>48</td><td>29</td><td>35</td><td>21</td><td>11</td><td>26</td><td>46.1</td><td>&hellip;</td><td>2.3890e6</td><td>1.1478e6</td><td>1.1198e6</td><td>109889.290992</td><td>57352.689064</td><td>952545.276753</td><td>2132.749797</td><td>779.879997</td><td>1352.8698</td><td>25859.070447</td><td>25278.653975</td><td>14417.197551</td><td>10861.456424</td><td>580.416472</td><td>7019.597277</td><td>1.2342e6</td><td>22367.116771</td><td>100698.107418</td><td>112425.25434</td><td>139206.335409</td><td>763.347755</td><td>832474.643445</td><td>10478.209902</td><td>6758.135849</td><td>9067.945975</td><td>1931.588346</td><td>7136.35763</td><td>260443.749669</td><td>2694.559661</td><td>9527.050313</td><td>16599.361289</td><td>215464.951199</td><td>164.761148</td><td>8829.23275</td><td>5897.805493</td><td>2931.427257</td><td>7163.833309</td></tr><tr><td>4009</td><td>1868</td><td>3998</td><td>3675</td><td>3502</td><td>3374</td><td>3352</td><td>3583</td><td>3491</td><td>3375</td><td>3349</td><td>208</td><td>1941</td><td>1349</td><td>1326</td><td>973</td><td>1852</td><td>4009</td><td>91</td><td>183</td><td>233</td><td>170</td><td>204</td><td>180</td><td>127</td><td>187</td><td>204</td><td>273</td><td>283</td><td>331</td><td>358</td><td>354</td><td>333</td><td>263</td><td>139</td><td>96</td><td>48.5</td><td>&hellip;</td><td>2.4572e7</td><td>1.1767e7</td><td>1.1485e7</td><td>1.2456e6</td><td>489628.758876</td><td>9.7494e6</td><td>13673.643219</td><td>5492.786956</td><td>8180.856264</td><td>268579.539222</td><td>263432.526992</td><td>144907.023682</td><td>118525.50331</td><td>5147.01223</td><td>82536.016536</td><td>1.2722e7</td><td>235978.97916</td><td>1.0585e6</td><td>1.3184e6</td><td>1.3718e6</td><td>8175.284449</td><td>8.4574e6</td><td>98237.699179</td><td>76408.591075</td><td>97256.641364</td><td>19927.019666</td><td>77329.621698</td><td>2.9613e6</td><td>32598.353706</td><td>107873.91487</td><td>195610.791589</td><td>2.4281e6</td><td>2041.334504</td><td>108046.028505</td><td>72618.949346</td><td>35427.079159</td><td>87028.048868</td></tr></tbody></table></div>"
      ],
      "text/plain": [
       "shape: (5, 967)\n",
       "┌───────────┬───────────┬───────────┬───────────┬───┬───────────┬───────────┬───────────┬──────────┐\n",
       "│ ECYBASPOP ┆ ECYBASHHD ┆ ECYBASHPO ┆ ECYBAS12P ┆ … ┆ HSTR056   ┆ HSTR056A  ┆ HSTR056B  ┆ HSTR057  │\n",
       "│ ---       ┆ ---       ┆ P         ┆ ---       ┆   ┆ ---       ┆ ---       ┆ ---       ┆ ---      │\n",
       "│ i64       ┆ i64       ┆ ---       ┆ i64       ┆   ┆ f64       ┆ f64       ┆ f64       ┆ f64      │\n",
       "│           ┆           ┆ i64       ┆           ┆   ┆           ┆           ┆           ┆          │\n",
       "╞═══════════╪═══════════╪═══════════╪═══════════╪═══╪═══════════╪═══════════╪═══════════╪══════════╡\n",
       "│ 55        ┆ 33        ┆ 55        ┆ 55        ┆ … ┆ 1694.9134 ┆ 1132.3556 ┆ 562.55786 ┆ 707.6653 │\n",
       "│           ┆           ┆           ┆           ┆   ┆ 88        ┆ 23        ┆ 5         ┆ 94       │\n",
       "│ 588       ┆ 243       ┆ 588       ┆ 561       ┆ … ┆ 12084.581 ┆ 8089.4615 ┆ 3995.1195 ┆ 9687.319 │\n",
       "│           ┆           ┆           ┆           ┆   ┆ 078       ┆ 28        ┆ 5         ┆ 907      │\n",
       "│ 1793      ┆ 709       ┆ 1791      ┆ 1548      ┆ … ┆ 47442.041 ┆ 31659.420 ┆ 15782.621 ┆ 38636.01 │\n",
       "│           ┆           ┆           ┆           ┆   ┆ 806       ┆ 678       ┆ 128       ┆ 747      │\n",
       "│ 452       ┆ 176       ┆ 449       ┆ 415       ┆ … ┆ 8829.2327 ┆ 5897.8054 ┆ 2931.4272 ┆ 7163.833 │\n",
       "│           ┆           ┆           ┆           ┆   ┆ 5         ┆ 93        ┆ 57        ┆ 309      │\n",
       "│ 4009      ┆ 1868      ┆ 3998      ┆ 3675      ┆ … ┆ 108046.02 ┆ 72618.949 ┆ 35427.079 ┆ 87028.04 │\n",
       "│           ┆           ┆           ┆           ┆   ┆ 8505      ┆ 346       ┆ 159       ┆ 8868     │\n",
       "└───────────┴───────────┴───────────┴───────────┴───┴───────────┴───────────┴───────────┴──────────┘"
      ]
     },
     "execution_count": 9,
     "metadata": {},
     "output_type": "execute_result"
    }
   ],
   "source": [
    "# Drop ID columns\n",
    "merged_df = merged_df.drop([\"GEO\", \"CODE\"])\n",
    "\n",
    "# ECYASQKM and ECYALSQKM have only 0 in their columns, so we can drop them\n",
    "merged_df = merged_df.drop([\"ECYASQKM\", \"ECYALSQKM\"])\n",
    "\n",
    "# Drop any rows that contain straight 0's in all columns\n",
    "columns_to_check = [col for col in merged_df.columns if merged_df.schema[col] in (pl.Int64, pl.Float64)]\n",
    "\n",
    "# Filter out rows where *all* of these columns are 0\n",
    "cleaned_df = merged_df.filter(\n",
    "    ~pl.all_horizontal([pl.col(col) == 0 for col in columns_to_check])\n",
    ")\n",
    "\n",
    "cleaned_df.head()"
   ]
  },
  {
   "cell_type": "markdown",
   "metadata": {},
   "source": [
    "<h1>Part 1: Clustering and Dimensionality Reduction</h1>\n",
    "\n",
    "The first part of the coursework will focus\n",
    "on identifying the characteristics of Canadian households, excluding their pension\n",
    "behaviour. For this, do not include, in your clustering and dimensionality reduction models,\n",
    "the target of the regression model in Part 2."
   ]
  },
  {
   "cell_type": "markdown",
   "metadata": {},
   "source": [
    "<h3>Scaling</h3>"
   ]
  },
  {
   "cell_type": "code",
   "execution_count": 10,
   "metadata": {},
   "outputs": [
    {
     "data": {
      "text/html": [
       "<div>\n",
       "<style scoped>\n",
       "    .dataframe tbody tr th:only-of-type {\n",
       "        vertical-align: middle;\n",
       "    }\n",
       "\n",
       "    .dataframe tbody tr th {\n",
       "        vertical-align: top;\n",
       "    }\n",
       "\n",
       "    .dataframe thead th {\n",
       "        text-align: right;\n",
       "    }\n",
       "</style>\n",
       "<table border=\"1\" class=\"dataframe\">\n",
       "  <thead>\n",
       "    <tr style=\"text-align: right;\">\n",
       "      <th></th>\n",
       "      <th>ECYBASPOP</th>\n",
       "      <th>ECYBASHHD</th>\n",
       "      <th>ECYBASHPOP</th>\n",
       "      <th>ECYBAS12P</th>\n",
       "      <th>ECYBAS15P</th>\n",
       "      <th>ECYBAS18P</th>\n",
       "      <th>ECYBAS19P</th>\n",
       "      <th>ECYBAS12HP</th>\n",
       "      <th>ECYBAS15HP</th>\n",
       "      <th>ECYBAS18HP</th>\n",
       "      <th>...</th>\n",
       "      <th>HSTR050</th>\n",
       "      <th>HSTR051</th>\n",
       "      <th>HSTR052</th>\n",
       "      <th>HSTR053</th>\n",
       "      <th>HSTR054</th>\n",
       "      <th>HSTR055</th>\n",
       "      <th>HSTR056</th>\n",
       "      <th>HSTR056A</th>\n",
       "      <th>HSTR056B</th>\n",
       "      <th>HSTR057</th>\n",
       "    </tr>\n",
       "  </thead>\n",
       "  <tbody>\n",
       "    <tr>\n",
       "      <th>0</th>\n",
       "      <td>0.016835</td>\n",
       "      <td>0.171602</td>\n",
       "      <td>0.022076</td>\n",
       "      <td>0.056984</td>\n",
       "      <td>0.071503</td>\n",
       "      <td>0.088500</td>\n",
       "      <td>0.093414</td>\n",
       "      <td>0.064846</td>\n",
       "      <td>0.078704</td>\n",
       "      <td>0.094170</td>\n",
       "      <td>...</td>\n",
       "      <td>0.015764</td>\n",
       "      <td>-0.316338</td>\n",
       "      <td>-0.232056</td>\n",
       "      <td>0.588819</td>\n",
       "      <td>0.096587</td>\n",
       "      <td>-0.217119</td>\n",
       "      <td>0.032139</td>\n",
       "      <td>0.038856</td>\n",
       "      <td>0.007612</td>\n",
       "      <td>-0.125728</td>\n",
       "    </tr>\n",
       "    <tr>\n",
       "      <th>1</th>\n",
       "      <td>2.919498</td>\n",
       "      <td>3.053461</td>\n",
       "      <td>2.975758</td>\n",
       "      <td>3.215766</td>\n",
       "      <td>3.054791</td>\n",
       "      <td>2.959264</td>\n",
       "      <td>2.999813</td>\n",
       "      <td>2.991162</td>\n",
       "      <td>3.121182</td>\n",
       "      <td>3.009706</td>\n",
       "      <td>...</td>\n",
       "      <td>2.725100</td>\n",
       "      <td>-0.118553</td>\n",
       "      <td>1.131185</td>\n",
       "      <td>3.872565</td>\n",
       "      <td>3.251498</td>\n",
       "      <td>0.655842</td>\n",
       "      <td>1.519594</td>\n",
       "      <td>1.340372</td>\n",
       "      <td>1.564243</td>\n",
       "      <td>1.908331</td>\n",
       "    </tr>\n",
       "    <tr>\n",
       "      <th>2</th>\n",
       "      <td>9.481804</td>\n",
       "      <td>9.448445</td>\n",
       "      <td>9.642326</td>\n",
       "      <td>9.377262</td>\n",
       "      <td>9.275959</td>\n",
       "      <td>9.315956</td>\n",
       "      <td>9.366213</td>\n",
       "      <td>9.265488</td>\n",
       "      <td>9.452467</td>\n",
       "      <td>9.486360</td>\n",
       "      <td>...</td>\n",
       "      <td>13.105725</td>\n",
       "      <td>0.392629</td>\n",
       "      <td>6.111407</td>\n",
       "      <td>13.393560</td>\n",
       "      <td>15.785606</td>\n",
       "      <td>2.662857</td>\n",
       "      <td>6.581608</td>\n",
       "      <td>5.749775</td>\n",
       "      <td>6.909750</td>\n",
       "      <td>8.465751</td>\n",
       "    </tr>\n",
       "    <tr>\n",
       "      <th>3</th>\n",
       "      <td>2.178856</td>\n",
       "      <td>2.134011</td>\n",
       "      <td>2.205473</td>\n",
       "      <td>2.304339</td>\n",
       "      <td>2.251849</td>\n",
       "      <td>2.152716</td>\n",
       "      <td>2.183253</td>\n",
       "      <td>2.198884</td>\n",
       "      <td>2.282337</td>\n",
       "      <td>2.169754</td>\n",
       "      <td>...</td>\n",
       "      <td>2.083549</td>\n",
       "      <td>-0.195047</td>\n",
       "      <td>0.878195</td>\n",
       "      <td>2.938655</td>\n",
       "      <td>2.532493</td>\n",
       "      <td>0.317426</td>\n",
       "      <td>1.053536</td>\n",
       "      <td>0.930363</td>\n",
       "      <td>1.081869</td>\n",
       "      <td>1.336715</td>\n",
       "    </tr>\n",
       "    <tr>\n",
       "      <th>4</th>\n",
       "      <td>21.549911</td>\n",
       "      <td>25.353564</td>\n",
       "      <td>21.872678</td>\n",
       "      <td>22.655381</td>\n",
       "      <td>22.573461</td>\n",
       "      <td>22.774372</td>\n",
       "      <td>22.908652</td>\n",
       "      <td>22.606418</td>\n",
       "      <td>22.953881</td>\n",
       "      <td>23.140784</td>\n",
       "      <td>...</td>\n",
       "      <td>27.452484</td>\n",
       "      <td>1.273512</td>\n",
       "      <td>13.188591</td>\n",
       "      <td>36.700021</td>\n",
       "      <td>32.047819</td>\n",
       "      <td>7.271443</td>\n",
       "      <td>15.258085</td>\n",
       "      <td>13.412372</td>\n",
       "      <td>15.818304</td>\n",
       "      <td>19.427448</td>\n",
       "    </tr>\n",
       "  </tbody>\n",
       "</table>\n",
       "<p>5 rows × 967 columns</p>\n",
       "</div>"
      ],
      "text/plain": [
       "   ECYBASPOP  ECYBASHHD  ECYBASHPOP  ECYBAS12P  ECYBAS15P  ECYBAS18P  \\\n",
       "0   0.016835   0.171602    0.022076   0.056984   0.071503   0.088500   \n",
       "1   2.919498   3.053461    2.975758   3.215766   3.054791   2.959264   \n",
       "2   9.481804   9.448445    9.642326   9.377262   9.275959   9.315956   \n",
       "3   2.178856   2.134011    2.205473   2.304339   2.251849   2.152716   \n",
       "4  21.549911  25.353564   21.872678  22.655381  22.573461  22.774372   \n",
       "\n",
       "   ECYBAS19P  ECYBAS12HP  ECYBAS15HP  ECYBAS18HP  ...    HSTR050   HSTR051  \\\n",
       "0   0.093414    0.064846    0.078704    0.094170  ...   0.015764 -0.316338   \n",
       "1   2.999813    2.991162    3.121182    3.009706  ...   2.725100 -0.118553   \n",
       "2   9.366213    9.265488    9.452467    9.486360  ...  13.105725  0.392629   \n",
       "3   2.183253    2.198884    2.282337    2.169754  ...   2.083549 -0.195047   \n",
       "4  22.908652   22.606418   22.953881   23.140784  ...  27.452484  1.273512   \n",
       "\n",
       "     HSTR052    HSTR053    HSTR054   HSTR055    HSTR056   HSTR056A   HSTR056B  \\\n",
       "0  -0.232056   0.588819   0.096587 -0.217119   0.032139   0.038856   0.007612   \n",
       "1   1.131185   3.872565   3.251498  0.655842   1.519594   1.340372   1.564243   \n",
       "2   6.111407  13.393560  15.785606  2.662857   6.581608   5.749775   6.909750   \n",
       "3   0.878195   2.938655   2.532493  0.317426   1.053536   0.930363   1.081869   \n",
       "4  13.188591  36.700021  32.047819  7.271443  15.258085  13.412372  15.818304   \n",
       "\n",
       "     HSTR057  \n",
       "0  -0.125728  \n",
       "1   1.908331  \n",
       "2   8.465751  \n",
       "3   1.336715  \n",
       "4  19.427448  \n",
       "\n",
       "[5 rows x 967 columns]"
      ]
     },
     "execution_count": 10,
     "metadata": {},
     "output_type": "execute_result"
    }
   ],
   "source": [
    "# Define the scaler \n",
    "scaler = StandardScaler()\n",
    "\n",
    "# Fit the scaler to the data\n",
    "scaler.fit(cleaned_df)\n",
    "\n",
    "# Transform the data\n",
    "scaled_data = scaler.transform(cleaned_df)\n",
    "\n",
    "# Convert the scaled data back to a DataFrame\n",
    "scaled_df = pd.DataFrame(scaled_data, columns=cleaned_df.columns)\n",
    "\n",
    "scaled_df.head()"
   ]
  },
  {
   "cell_type": "markdown",
   "metadata": {},
   "source": [
    "<h3>K-Means Clustering</h3>"
   ]
  },
  {
   "cell_type": "markdown",
   "metadata": {},
   "source": [
    "Create a K-Means clustering of the data, identifying the optimal number of\n",
    "clusters using both the silhouette and the elbow method. Do they agree?"
   ]
  },
  {
   "cell_type": "markdown",
   "metadata": {},
   "source": [
    "<p>Start by using the elbow method to identify the optimal number of clusters.</p>"
   ]
  },
  {
   "cell_type": "code",
   "execution_count": 30,
   "metadata": {},
   "outputs": [
    {
     "data": {
      "image/png": "[encoded data removed]",
      "text/plain": [
       "<Figure size 800x550 with 1 Axes>"
      ]
     },
     "metadata": {},
     "output_type": "display_data"
    },
    {
     "data": {
      "text/plain": [
       "<Axes: title={'center': 'Distortion Score Elbow for KMeans Clustering'}, xlabel='k', ylabel='distortion score'>"
      ]
     },
     "execution_count": 30,
     "metadata": {},
     "output_type": "execute_result"
    }
   ],
   "source": [
    "# Initialize KClusterer\n",
    "KClusterer = KMeans(n_clusters=3,\n",
    "                    verbose=0,\n",
    "                    random_state=2025)\n",
    "# Use KElbowVisualizer to find optimal number of clusters\n",
    "visualizer = KElbowVisualizer(KClusterer, # Cluster model with any parameters you need\n",
    "                              k=(2,12),   # Number of clusters to test (2 to 12 in this case)\n",
    "                              locate_elbow=True, # Locate the elbow? Default is true.\n",
    "                              timings=False # Plot the timings to train?\n",
    "                             )\n",
    "\n",
    "visualizer.fit(scaled_df)       # Fit the data to the visualizer\n",
    "visualizer.show()        # Finalize and render the figure"
   ]
  },
  {
   "cell_type": "markdown",
   "metadata": {},
   "source": [
    "<p>The elbow method gives us n=5 clusters.</p> \n",
    "<p>Now, let's use the silhouette method to identify the optimal number of clusters.</p>"
   ]
  },
  {
   "cell_type": "code",
   "execution_count": 11,
   "metadata": {},
   "outputs": [
    {
     "ename": "KeyboardInterrupt",
     "evalue": "",
     "output_type": "error",
     "traceback": [
      "\u001b[0;31m---------------------------------------------------------------------------\u001b[0m",
      "\u001b[0;31mKeyboardInterrupt\u001b[0m                         Traceback (most recent call last)",
      "Cell \u001b[0;32mIn[11], line 9\u001b[0m\n\u001b[1;32m      6\u001b[0m kmeans_labels \u001b[38;5;241m=\u001b[39m kmeans\u001b[38;5;241m.\u001b[39mfit_predict(scaled_df)\n\u001b[1;32m      8\u001b[0m \u001b[38;5;66;03m# Compute silhouette scores per sample\u001b[39;00m\n\u001b[0;32m----> 9\u001b[0m sample_silhouette_values \u001b[38;5;241m=\u001b[39m \u001b[43msilhouette_samples\u001b[49m\u001b[43m(\u001b[49m\u001b[43mscaled_df\u001b[49m\u001b[43m,\u001b[49m\u001b[43m \u001b[49m\u001b[43mkmeans_labels\u001b[49m\u001b[43m)\u001b[49m\n\u001b[1;32m     10\u001b[0m kmeans_sil_avg \u001b[38;5;241m=\u001b[39m silhouette_score(scaled_df, kmeans_labels)\n\u001b[1;32m     12\u001b[0m \u001b[38;5;66;03m# Initialize plot\u001b[39;00m\n",
      "File \u001b[0;32m/Library/Frameworks/Python.framework/Versions/3.13/lib/python3.13/site-packages/sklearn/utils/_param_validation.py:216\u001b[0m, in \u001b[0;36mvalidate_params.<locals>.decorator.<locals>.wrapper\u001b[0;34m(*args, **kwargs)\u001b[0m\n\u001b[1;32m    210\u001b[0m \u001b[38;5;28;01mtry\u001b[39;00m:\n\u001b[1;32m    211\u001b[0m     \u001b[38;5;28;01mwith\u001b[39;00m config_context(\n\u001b[1;32m    212\u001b[0m         skip_parameter_validation\u001b[38;5;241m=\u001b[39m(\n\u001b[1;32m    213\u001b[0m             prefer_skip_nested_validation \u001b[38;5;129;01mor\u001b[39;00m global_skip_validation\n\u001b[1;32m    214\u001b[0m         )\n\u001b[1;32m    215\u001b[0m     ):\n\u001b[0;32m--> 216\u001b[0m         \u001b[38;5;28;01mreturn\u001b[39;00m \u001b[43mfunc\u001b[49m\u001b[43m(\u001b[49m\u001b[38;5;241;43m*\u001b[39;49m\u001b[43margs\u001b[49m\u001b[43m,\u001b[49m\u001b[43m \u001b[49m\u001b[38;5;241;43m*\u001b[39;49m\u001b[38;5;241;43m*\u001b[39;49m\u001b[43mkwargs\u001b[49m\u001b[43m)\u001b[49m\n\u001b[1;32m    217\u001b[0m \u001b[38;5;28;01mexcept\u001b[39;00m InvalidParameterError \u001b[38;5;28;01mas\u001b[39;00m e:\n\u001b[1;32m    218\u001b[0m     \u001b[38;5;66;03m# When the function is just a wrapper around an estimator, we allow\u001b[39;00m\n\u001b[1;32m    219\u001b[0m     \u001b[38;5;66;03m# the function to delegate validation to the estimator, but we replace\u001b[39;00m\n\u001b[1;32m    220\u001b[0m     \u001b[38;5;66;03m# the name of the estimator by the name of the function in the error\u001b[39;00m\n\u001b[1;32m    221\u001b[0m     \u001b[38;5;66;03m# message to avoid confusion.\u001b[39;00m\n\u001b[1;32m    222\u001b[0m     msg \u001b[38;5;241m=\u001b[39m re\u001b[38;5;241m.\u001b[39msub(\n\u001b[1;32m    223\u001b[0m         \u001b[38;5;124mr\u001b[39m\u001b[38;5;124m\"\u001b[39m\u001b[38;5;124mparameter of \u001b[39m\u001b[38;5;124m\\\u001b[39m\u001b[38;5;124mw+ must be\u001b[39m\u001b[38;5;124m\"\u001b[39m,\n\u001b[1;32m    224\u001b[0m         \u001b[38;5;124mf\u001b[39m\u001b[38;5;124m\"\u001b[39m\u001b[38;5;124mparameter of \u001b[39m\u001b[38;5;132;01m{\u001b[39;00mfunc\u001b[38;5;241m.\u001b[39m\u001b[38;5;18m__qualname__\u001b[39m\u001b[38;5;132;01m}\u001b[39;00m\u001b[38;5;124m must be\u001b[39m\u001b[38;5;124m\"\u001b[39m,\n\u001b[1;32m    225\u001b[0m         \u001b[38;5;28mstr\u001b[39m(e),\n\u001b[1;32m    226\u001b[0m     )\n",
      "File \u001b[0;32m/Library/Frameworks/Python.framework/Versions/3.13/lib/python3.13/site-packages/sklearn/metrics/cluster/_unsupervised.py:303\u001b[0m, in \u001b[0;36msilhouette_samples\u001b[0;34m(X, labels, metric, **kwds)\u001b[0m\n\u001b[1;32m    299\u001b[0m kwds[\u001b[38;5;124m\"\u001b[39m\u001b[38;5;124mmetric\u001b[39m\u001b[38;5;124m\"\u001b[39m] \u001b[38;5;241m=\u001b[39m metric\n\u001b[1;32m    300\u001b[0m reduce_func \u001b[38;5;241m=\u001b[39m functools\u001b[38;5;241m.\u001b[39mpartial(\n\u001b[1;32m    301\u001b[0m     _silhouette_reduce, labels\u001b[38;5;241m=\u001b[39mlabels, label_freqs\u001b[38;5;241m=\u001b[39mlabel_freqs\n\u001b[1;32m    302\u001b[0m )\n\u001b[0;32m--> 303\u001b[0m results \u001b[38;5;241m=\u001b[39m \u001b[38;5;28;43mzip\u001b[39;49m\u001b[43m(\u001b[49m\u001b[38;5;241;43m*\u001b[39;49m\u001b[43mpairwise_distances_chunked\u001b[49m\u001b[43m(\u001b[49m\u001b[43mX\u001b[49m\u001b[43m,\u001b[49m\u001b[43m \u001b[49m\u001b[43mreduce_func\u001b[49m\u001b[38;5;241;43m=\u001b[39;49m\u001b[43mreduce_func\u001b[49m\u001b[43m,\u001b[49m\u001b[43m \u001b[49m\u001b[38;5;241;43m*\u001b[39;49m\u001b[38;5;241;43m*\u001b[39;49m\u001b[43mkwds\u001b[49m\u001b[43m)\u001b[49m\u001b[43m)\u001b[49m\n\u001b[1;32m    304\u001b[0m intra_clust_dists, inter_clust_dists \u001b[38;5;241m=\u001b[39m results\n\u001b[1;32m    305\u001b[0m intra_clust_dists \u001b[38;5;241m=\u001b[39m np\u001b[38;5;241m.\u001b[39mconcatenate(intra_clust_dists)\n",
      "File \u001b[0;32m/Library/Frameworks/Python.framework/Versions/3.13/lib/python3.13/site-packages/sklearn/metrics/pairwise.py:2252\u001b[0m, in \u001b[0;36mpairwise_distances_chunked\u001b[0;34m(X, Y, reduce_func, metric, n_jobs, working_memory, **kwds)\u001b[0m\n\u001b[1;32m   2250\u001b[0m \u001b[38;5;28;01melse\u001b[39;00m:\n\u001b[1;32m   2251\u001b[0m     X_chunk \u001b[38;5;241m=\u001b[39m X[sl]\n\u001b[0;32m-> 2252\u001b[0m D_chunk \u001b[38;5;241m=\u001b[39m \u001b[43mpairwise_distances\u001b[49m\u001b[43m(\u001b[49m\u001b[43mX_chunk\u001b[49m\u001b[43m,\u001b[49m\u001b[43m \u001b[49m\u001b[43mY\u001b[49m\u001b[43m,\u001b[49m\u001b[43m \u001b[49m\u001b[43mmetric\u001b[49m\u001b[38;5;241;43m=\u001b[39;49m\u001b[43mmetric\u001b[49m\u001b[43m,\u001b[49m\u001b[43m \u001b[49m\u001b[43mn_jobs\u001b[49m\u001b[38;5;241;43m=\u001b[39;49m\u001b[43mn_jobs\u001b[49m\u001b[43m,\u001b[49m\u001b[43m \u001b[49m\u001b[38;5;241;43m*\u001b[39;49m\u001b[38;5;241;43m*\u001b[39;49m\u001b[43mkwds\u001b[49m\u001b[43m)\u001b[49m\n\u001b[1;32m   2253\u001b[0m \u001b[38;5;28;01mif\u001b[39;00m (X \u001b[38;5;129;01mis\u001b[39;00m Y \u001b[38;5;129;01mor\u001b[39;00m Y \u001b[38;5;129;01mis\u001b[39;00m \u001b[38;5;28;01mNone\u001b[39;00m) \u001b[38;5;129;01mand\u001b[39;00m PAIRWISE_DISTANCE_FUNCTIONS\u001b[38;5;241m.\u001b[39mget(\n\u001b[1;32m   2254\u001b[0m     metric, \u001b[38;5;28;01mNone\u001b[39;00m\n\u001b[1;32m   2255\u001b[0m ) \u001b[38;5;129;01mis\u001b[39;00m euclidean_distances:\n\u001b[1;32m   2256\u001b[0m     \u001b[38;5;66;03m# zeroing diagonal, taking care of aliases of \"euclidean\",\u001b[39;00m\n\u001b[1;32m   2257\u001b[0m     \u001b[38;5;66;03m# i.e. \"l2\"\u001b[39;00m\n\u001b[1;32m   2258\u001b[0m     D_chunk\u001b[38;5;241m.\u001b[39mflat[sl\u001b[38;5;241m.\u001b[39mstart :: _num_samples(X) \u001b[38;5;241m+\u001b[39m \u001b[38;5;241m1\u001b[39m] \u001b[38;5;241m=\u001b[39m \u001b[38;5;241m0\u001b[39m\n",
      "File \u001b[0;32m/Library/Frameworks/Python.framework/Versions/3.13/lib/python3.13/site-packages/sklearn/utils/_param_validation.py:189\u001b[0m, in \u001b[0;36mvalidate_params.<locals>.decorator.<locals>.wrapper\u001b[0;34m(*args, **kwargs)\u001b[0m\n\u001b[1;32m    187\u001b[0m global_skip_validation \u001b[38;5;241m=\u001b[39m get_config()[\u001b[38;5;124m\"\u001b[39m\u001b[38;5;124mskip_parameter_validation\u001b[39m\u001b[38;5;124m\"\u001b[39m]\n\u001b[1;32m    188\u001b[0m \u001b[38;5;28;01mif\u001b[39;00m global_skip_validation:\n\u001b[0;32m--> 189\u001b[0m     \u001b[38;5;28;01mreturn\u001b[39;00m \u001b[43mfunc\u001b[49m\u001b[43m(\u001b[49m\u001b[38;5;241;43m*\u001b[39;49m\u001b[43margs\u001b[49m\u001b[43m,\u001b[49m\u001b[43m \u001b[49m\u001b[38;5;241;43m*\u001b[39;49m\u001b[38;5;241;43m*\u001b[39;49m\u001b[43mkwargs\u001b[49m\u001b[43m)\u001b[49m\n\u001b[1;32m    191\u001b[0m func_sig \u001b[38;5;241m=\u001b[39m signature(func)\n\u001b[1;32m    193\u001b[0m \u001b[38;5;66;03m# Map *args/**kwargs to the function signature\u001b[39;00m\n",
      "File \u001b[0;32m/Library/Frameworks/Python.framework/Versions/3.13/lib/python3.13/site-packages/sklearn/metrics/pairwise.py:2480\u001b[0m, in \u001b[0;36mpairwise_distances\u001b[0;34m(X, Y, metric, n_jobs, force_all_finite, ensure_all_finite, **kwds)\u001b[0m\n\u001b[1;32m   2477\u001b[0m         \u001b[38;5;28;01mreturn\u001b[39;00m distance\u001b[38;5;241m.\u001b[39msquareform(distance\u001b[38;5;241m.\u001b[39mpdist(X, metric\u001b[38;5;241m=\u001b[39mmetric, \u001b[38;5;241m*\u001b[39m\u001b[38;5;241m*\u001b[39mkwds))\n\u001b[1;32m   2478\u001b[0m     func \u001b[38;5;241m=\u001b[39m partial(distance\u001b[38;5;241m.\u001b[39mcdist, metric\u001b[38;5;241m=\u001b[39mmetric, \u001b[38;5;241m*\u001b[39m\u001b[38;5;241m*\u001b[39mkwds)\n\u001b[0;32m-> 2480\u001b[0m \u001b[38;5;28;01mreturn\u001b[39;00m \u001b[43m_parallel_pairwise\u001b[49m\u001b[43m(\u001b[49m\u001b[43mX\u001b[49m\u001b[43m,\u001b[49m\u001b[43m \u001b[49m\u001b[43mY\u001b[49m\u001b[43m,\u001b[49m\u001b[43m \u001b[49m\u001b[43mfunc\u001b[49m\u001b[43m,\u001b[49m\u001b[43m \u001b[49m\u001b[43mn_jobs\u001b[49m\u001b[43m,\u001b[49m\u001b[43m \u001b[49m\u001b[38;5;241;43m*\u001b[39;49m\u001b[38;5;241;43m*\u001b[39;49m\u001b[43mkwds\u001b[49m\u001b[43m)\u001b[49m\n",
      "File \u001b[0;32m/Library/Frameworks/Python.framework/Versions/3.13/lib/python3.13/site-packages/sklearn/metrics/pairwise.py:1973\u001b[0m, in \u001b[0;36m_parallel_pairwise\u001b[0;34m(X, Y, func, n_jobs, **kwds)\u001b[0m\n\u001b[1;32m   1970\u001b[0m X, Y, dtype \u001b[38;5;241m=\u001b[39m _return_float_dtype(X, Y)\n\u001b[1;32m   1972\u001b[0m \u001b[38;5;28;01mif\u001b[39;00m effective_n_jobs(n_jobs) \u001b[38;5;241m==\u001b[39m \u001b[38;5;241m1\u001b[39m:\n\u001b[0;32m-> 1973\u001b[0m     \u001b[38;5;28;01mreturn\u001b[39;00m \u001b[43mfunc\u001b[49m\u001b[43m(\u001b[49m\u001b[43mX\u001b[49m\u001b[43m,\u001b[49m\u001b[43m \u001b[49m\u001b[43mY\u001b[49m\u001b[43m,\u001b[49m\u001b[43m \u001b[49m\u001b[38;5;241;43m*\u001b[39;49m\u001b[38;5;241;43m*\u001b[39;49m\u001b[43mkwds\u001b[49m\u001b[43m)\u001b[49m\n\u001b[1;32m   1975\u001b[0m \u001b[38;5;66;03m# enforce a threading backend to prevent data communication overhead\u001b[39;00m\n\u001b[1;32m   1976\u001b[0m fd \u001b[38;5;241m=\u001b[39m delayed(_dist_wrapper)\n",
      "File \u001b[0;32m/Library/Frameworks/Python.framework/Versions/3.13/lib/python3.13/site-packages/sklearn/utils/_param_validation.py:189\u001b[0m, in \u001b[0;36mvalidate_params.<locals>.decorator.<locals>.wrapper\u001b[0;34m(*args, **kwargs)\u001b[0m\n\u001b[1;32m    187\u001b[0m global_skip_validation \u001b[38;5;241m=\u001b[39m get_config()[\u001b[38;5;124m\"\u001b[39m\u001b[38;5;124mskip_parameter_validation\u001b[39m\u001b[38;5;124m\"\u001b[39m]\n\u001b[1;32m    188\u001b[0m \u001b[38;5;28;01mif\u001b[39;00m global_skip_validation:\n\u001b[0;32m--> 189\u001b[0m     \u001b[38;5;28;01mreturn\u001b[39;00m \u001b[43mfunc\u001b[49m\u001b[43m(\u001b[49m\u001b[38;5;241;43m*\u001b[39;49m\u001b[43margs\u001b[49m\u001b[43m,\u001b[49m\u001b[43m \u001b[49m\u001b[38;5;241;43m*\u001b[39;49m\u001b[38;5;241;43m*\u001b[39;49m\u001b[43mkwargs\u001b[49m\u001b[43m)\u001b[49m\n\u001b[1;32m    191\u001b[0m func_sig \u001b[38;5;241m=\u001b[39m signature(func)\n\u001b[1;32m    193\u001b[0m \u001b[38;5;66;03m# Map *args/**kwargs to the function signature\u001b[39;00m\n",
      "File \u001b[0;32m/Library/Frameworks/Python.framework/Versions/3.13/lib/python3.13/site-packages/sklearn/metrics/pairwise.py:388\u001b[0m, in \u001b[0;36meuclidean_distances\u001b[0;34m(X, Y, Y_norm_squared, squared, X_norm_squared)\u001b[0m\n\u001b[1;32m    382\u001b[0m     \u001b[38;5;28;01mif\u001b[39;00m Y_norm_squared\u001b[38;5;241m.\u001b[39mshape \u001b[38;5;241m!=\u001b[39m (\u001b[38;5;241m1\u001b[39m, Y\u001b[38;5;241m.\u001b[39mshape[\u001b[38;5;241m0\u001b[39m]):\n\u001b[1;32m    383\u001b[0m         \u001b[38;5;28;01mraise\u001b[39;00m \u001b[38;5;167;01mValueError\u001b[39;00m(\n\u001b[1;32m    384\u001b[0m             \u001b[38;5;124mf\u001b[39m\u001b[38;5;124m\"\u001b[39m\u001b[38;5;124mIncompatible dimensions for Y of shape \u001b[39m\u001b[38;5;132;01m{\u001b[39;00mY\u001b[38;5;241m.\u001b[39mshape\u001b[38;5;132;01m}\u001b[39;00m\u001b[38;5;124m and \u001b[39m\u001b[38;5;124m\"\u001b[39m\n\u001b[1;32m    385\u001b[0m             \u001b[38;5;124mf\u001b[39m\u001b[38;5;124m\"\u001b[39m\u001b[38;5;124mY_norm_squared of shape \u001b[39m\u001b[38;5;132;01m{\u001b[39;00moriginal_shape\u001b[38;5;132;01m}\u001b[39;00m\u001b[38;5;124m.\u001b[39m\u001b[38;5;124m\"\u001b[39m\n\u001b[1;32m    386\u001b[0m         )\n\u001b[0;32m--> 388\u001b[0m \u001b[38;5;28;01mreturn\u001b[39;00m \u001b[43m_euclidean_distances\u001b[49m\u001b[43m(\u001b[49m\u001b[43mX\u001b[49m\u001b[43m,\u001b[49m\u001b[43m \u001b[49m\u001b[43mY\u001b[49m\u001b[43m,\u001b[49m\u001b[43m \u001b[49m\u001b[43mX_norm_squared\u001b[49m\u001b[43m,\u001b[49m\u001b[43m \u001b[49m\u001b[43mY_norm_squared\u001b[49m\u001b[43m,\u001b[49m\u001b[43m \u001b[49m\u001b[43msquared\u001b[49m\u001b[43m)\u001b[49m\n",
      "File \u001b[0;32m/Library/Frameworks/Python.framework/Versions/3.13/lib/python3.13/site-packages/sklearn/metrics/pairwise.py:424\u001b[0m, in \u001b[0;36m_euclidean_distances\u001b[0;34m(X, Y, X_norm_squared, Y_norm_squared, squared)\u001b[0m\n\u001b[1;32m    421\u001b[0m     distances \u001b[38;5;241m=\u001b[39m _euclidean_distances_upcast(X, XX, Y, YY)\n\u001b[1;32m    422\u001b[0m \u001b[38;5;28;01melse\u001b[39;00m:\n\u001b[1;32m    423\u001b[0m     \u001b[38;5;66;03m# if dtype is already float64, no need to chunk and upcast\u001b[39;00m\n\u001b[0;32m--> 424\u001b[0m     distances \u001b[38;5;241m=\u001b[39m \u001b[38;5;241m-\u001b[39m\u001b[38;5;241m2\u001b[39m \u001b[38;5;241m*\u001b[39m \u001b[43msafe_sparse_dot\u001b[49m\u001b[43m(\u001b[49m\u001b[43mX\u001b[49m\u001b[43m,\u001b[49m\u001b[43m \u001b[49m\u001b[43mY\u001b[49m\u001b[38;5;241;43m.\u001b[39;49m\u001b[43mT\u001b[49m\u001b[43m,\u001b[49m\u001b[43m \u001b[49m\u001b[43mdense_output\u001b[49m\u001b[38;5;241;43m=\u001b[39;49m\u001b[38;5;28;43;01mTrue\u001b[39;49;00m\u001b[43m)\u001b[49m\n\u001b[1;32m    425\u001b[0m     distances \u001b[38;5;241m+\u001b[39m\u001b[38;5;241m=\u001b[39m XX\n\u001b[1;32m    426\u001b[0m     distances \u001b[38;5;241m+\u001b[39m\u001b[38;5;241m=\u001b[39m YY\n",
      "File \u001b[0;32m/Library/Frameworks/Python.framework/Versions/3.13/lib/python3.13/site-packages/sklearn/utils/extmath.py:206\u001b[0m, in \u001b[0;36msafe_sparse_dot\u001b[0;34m(a, b, dense_output)\u001b[0m\n\u001b[1;32m    202\u001b[0m \u001b[38;5;28;01melse\u001b[39;00m:\n\u001b[1;32m    203\u001b[0m     ret \u001b[38;5;241m=\u001b[39m a \u001b[38;5;241m@\u001b[39m b\n\u001b[1;32m    205\u001b[0m \u001b[38;5;28;01mif\u001b[39;00m (\n\u001b[0;32m--> 206\u001b[0m     \u001b[43msparse\u001b[49m\u001b[38;5;241;43m.\u001b[39;49m\u001b[43missparse\u001b[49m\u001b[43m(\u001b[49m\u001b[43ma\u001b[49m\u001b[43m)\u001b[49m\n\u001b[1;32m    207\u001b[0m     \u001b[38;5;129;01mand\u001b[39;00m sparse\u001b[38;5;241m.\u001b[39missparse(b)\n\u001b[1;32m    208\u001b[0m     \u001b[38;5;129;01mand\u001b[39;00m dense_output\n\u001b[1;32m    209\u001b[0m     \u001b[38;5;129;01mand\u001b[39;00m \u001b[38;5;28mhasattr\u001b[39m(ret, \u001b[38;5;124m\"\u001b[39m\u001b[38;5;124mtoarray\u001b[39m\u001b[38;5;124m\"\u001b[39m)\n\u001b[1;32m    210\u001b[0m ):\n\u001b[1;32m    211\u001b[0m     \u001b[38;5;28;01mreturn\u001b[39;00m ret\u001b[38;5;241m.\u001b[39mtoarray()\n\u001b[1;32m    212\u001b[0m \u001b[38;5;28;01mreturn\u001b[39;00m ret\n",
      "File \u001b[0;32m/Library/Frameworks/Python.framework/Versions/3.13/lib/python3.13/site-packages/scipy/sparse/_base.py:1400\u001b[0m, in \u001b[0;36missparse\u001b[0;34m(x)\u001b[0m\n\u001b[1;32m   1394\u001b[0m \u001b[38;5;250m    \u001b[39m\u001b[38;5;124;03m\"\"\"A namespace class to separate sparray from spmatrix\"\"\"\u001b[39;00m\n\u001b[1;32m   1397\u001b[0m sparray\u001b[38;5;241m.\u001b[39m\u001b[38;5;18m__doc__\u001b[39m \u001b[38;5;241m=\u001b[39m _spbase\u001b[38;5;241m.\u001b[39m\u001b[38;5;18m__doc__\u001b[39m\n\u001b[0;32m-> 1400\u001b[0m \u001b[38;5;28;01mdef\u001b[39;00m\u001b[38;5;250m \u001b[39m\u001b[38;5;21missparse\u001b[39m(x):\n\u001b[1;32m   1401\u001b[0m \u001b[38;5;250m    \u001b[39m\u001b[38;5;124;03m\"\"\"Is `x` of a sparse array or sparse matrix type?\u001b[39;00m\n\u001b[1;32m   1402\u001b[0m \n\u001b[1;32m   1403\u001b[0m \u001b[38;5;124;03m    Parameters\u001b[39;00m\n\u001b[0;32m   (...)\u001b[0m\n\u001b[1;32m   1429\u001b[0m \u001b[38;5;124;03m    False\u001b[39;00m\n\u001b[1;32m   1430\u001b[0m \u001b[38;5;124;03m    \"\"\"\u001b[39;00m\n\u001b[1;32m   1431\u001b[0m     \u001b[38;5;28;01mreturn\u001b[39;00m \u001b[38;5;28misinstance\u001b[39m(x, _spbase)\n",
      "\u001b[0;31mKeyboardInterrupt\u001b[0m: "
     ]
    }
   ],
   "source": [
    "# Number of clusters\n",
    "n_clusters = 5\n",
    "\n",
    "# Fit the KMeans clusterer\n",
    "kmeans = KMeans(n_clusters=n_clusters, random_state=2025)\n",
    "kmeans_labels = kmeans.fit_predict(scaled_df)\n",
    "\n",
    "# Compute silhouette scores per sample\n",
    "sample_silhouette_values = silhouette_samples(scaled_df, kmeans_labels)\n",
    "kmeans_sil_avg = silhouette_score(scaled_df, kmeans_labels)\n",
    "\n",
    "# Initialize plot\n",
    "fig, ax = plt.subplots(1, 1, figsize=(8, 6))\n",
    "\n",
    "# Set axis limits\n",
    "ax.set_xlim([-0.1, 1])\n",
    "ax.set_ylim([0, len(scaled_df) + (n_clusters + 1) * 10])\n",
    "\n",
    "y_lower = 10\n",
    "\n",
    "# Plot silhouette bars cluster by cluster\n",
    "for i in range(n_clusters):\n",
    "    ith_cluster_silhouette_values = sample_silhouette_values[kmeans_labels == i]\n",
    "    ith_cluster_silhouette_values.sort()\n",
    "\n",
    "    size_cluster_i = ith_cluster_silhouette_values.shape[0]\n",
    "    y_upper = y_lower + size_cluster_i\n",
    "\n",
    "    color = cm.nipy_spectral(float(i) / n_clusters)\n",
    "    ax.fill_betweenx(np.arange(y_lower, y_upper),\n",
    "                     0, ith_cluster_silhouette_values,\n",
    "                     facecolor=color, edgecolor=color, alpha=0.7)\n",
    "\n",
    "    ax.text(-0.05, y_lower + 0.5 * size_cluster_i, str(i))\n",
    "    y_lower = y_upper + 10\n",
    "\n",
    "# Draw average line\n",
    "ax.axvline(x=kmeans_sil_avg, color=\"red\", linestyle=\"--\")\n",
    "\n",
    "# Labels\n",
    "ax.set_title(\"Silhouette Plot for KMeans (k=5)\")\n",
    "ax.set_xlabel(\"Silhouette coefficient values\")\n",
    "ax.set_ylabel(\"Cluster label\")\n",
    "ax.set_yticks([])\n",
    "\n",
    "plt.tight_layout()\n",
    "plt.show()"
   ]
  },
  {
   "cell_type": "markdown",
   "metadata": {},
   "source": [
    "Now we will apply a linear dimensionality reductions technique to the data.\n",
    "1. Apply PCA to your data.\n",
    "2. Plot the data of the first two PCs in a scatterplot and colour the points as\n",
    "per the cluster labels you calculated in the previous step. What can you say\n",
    "about your data? Are your clusters clearly defined in the output? Interpret\n",
    "the first three components of your PCA output.\n",
    "3. For the first three components, calculate the average value of each\n",
    "component, for each cluster, so your data should look like a table with\n",
    "cluster number and average component value. Give a name to the clusters\n",
    "from this output and justify your choice."
   ]
  },
  {
   "cell_type": "code",
   "execution_count": null,
   "metadata": {},
   "outputs": [],
   "source": []
  },
  {
   "cell_type": "markdown",
   "metadata": {},
   "source": [
    " Now, use UMAP to reduce the data to two dimensions. Justify your choice of\n",
    "parameters by searching for the optimal value as you deem reasonable. Again,\n",
    "colour the data to differentiate each cluster that you named. What do you see? Is\n",
    "your UMAP a better or worse interpretation than PCA?"
   ]
  },
  {
   "cell_type": "code",
   "execution_count": null,
   "metadata": {},
   "outputs": [],
   "source": []
  },
  {
   "cell_type": "markdown",
   "metadata": {},
   "source": [
    "<h1>Part 2: Regression</h1>\n",
    "\n",
    "Now we will create models for a household’s proportion of income spent\n",
    "on total personal insurance premiums and retirement/pension contributions."
   ]
  },
  {
   "cell_type": "markdown",
   "metadata": {},
   "source": [
    "Train a regularized elastic net linear regression from your data.\n",
    "\n",
    "1. Create your target variable from the variables in the dataset. Do not use\n",
    "those components on the training database.\n",
    "2. Apply any data transformation / variable creation you deem necessary to\n",
    "obtain a good result.\n",
    "3. Discuss the grid that you chose to search for the parameters and the output\n",
    "that you obtained.\n",
    "4. For your test set, create a scatterplot of the original response and the\n",
    "predicted response. Report the MSE and R2 on the test set and calculate a\n",
    "bootstrapped confidence interval of the output.\n",
    "5. Interpret the coefficients of the top five most important variables in the\n",
    "regression"
   ]
  },
  {
   "cell_type": "code",
   "execution_count": null,
   "metadata": {},
   "outputs": [],
   "source": []
  }
 ],
 "metadata": {
  "kernelspec": {
   "display_name": "Python 3",
   "language": "python",
   "name": "python3"
  },
  "language_info": {
   "codemirror_mode": {
    "name": "ipython",
    "version": 3
   },
   "file_extension": ".py",
   "mimetype": "text/x-python",
   "name": "python",
   "nbconvert_exporter": "python",
   "pygments_lexer": "ipython3",
   "version": "3.13.1"
  }
 },
 "nbformat": 4,
 "nbformat_minor": 2
}
